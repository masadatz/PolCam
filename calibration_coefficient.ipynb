{
 "cells": [
  {
   "cell_type": "code",
   "execution_count": 5,
   "id": "ab90f401-56d1-4781-a976-366464ac17f5",
   "metadata": {},
   "outputs": [],
   "source": [
    "from math import log, exp, tan, atan, pi, ceil\n",
    "import os\n",
    "import math\n",
    "import matplotlib.pyplot as plt\n",
    "import matplotlib.image as mpimg\n",
    "import matplotlib.colors as colors\n",
    "import numpy as np\n",
    "import pandas as pd\n",
    "from mpl_toolkits.mplot3d import Axes3D\n",
    "import time\n",
    "import scipy.spatial as spatial\n",
    "import json"
   ]
  },
  {
   "cell_type": "markdown",
   "id": "196b8250-51e5-47c0-8153-157dd0caf0a5",
   "metadata": {},
   "source": [
    "The following definitions are valid to pixels that are irradiated by the source exit port. \n",
    "The measurement equation is used to model the response of a sensor (DN) as a function of source configuration. \n",
    "Let $I$ denote the pixel response in DN. The pixel response $I$ should be expressed in matrix form, since the sensor is 2D array. But for simplicity, $I$ is expressed as a scalar. \n",
    "\n",
    "When the camera is assumed to be linear, there is sensor gain factor $K$ with units [DN/electrons] which converts electrons into DN. Let $A_{\\rm s}$ be the source area and ${\\omega}_{\\rm s}$ be the solid angle subtended by the sensor entrance pupil at the source. Let $\\lambda$ and $\\Lambda$  be the optical wavelength and spectral band, respectively. \n",
    "Let ${L}_{\\lambda}$ be the source spectral radiance which is known.\n",
    "Let $\\mathrm{QE}_{\\lambda}$ and $\\tau_{\\lambda}\\in[0,1]$ be the quantum efficiency and optical efficiency of the payload, respectively as defined in Sec.~\\ref{chap:spect_range}.\n",
    "Let $\\Delta t$ be the exposure time. Denote speed of light and Plank's constant by $c$ and $h$, respectively.\n",
    "Consider a pixel on the optical axis of the camera. The general form of the measurement equation for that pixel is \n",
    "\\begin{equation}\n",
    "\\label{eq:measurement_equation}\n",
    "    I = K {\\Delta t} \\; \\int_{\\Lambda} \\int_{A_{\\rm s}} \\int_{\\rm hemisphere} \n",
    "    {L}_{\\lambda}\\; {R}_{\\lambda}\\;{\\rm d}A_{\\rm s} \\;{\\rm d}{\\omega}_{\\rm s}\\;{\\rm cos}(\\theta)\\; {\\rm d}\\lambda \\;\\;\\;\\; [{\\rm DN}].\n",
    "\\end{equation}"
   ]
  },
  {
   "cell_type": "code",
   "execution_count": 22,
   "id": "2968d793-da36-4d72-bbea-ff935b975604",
   "metadata": {},
   "outputs": [
    {
     "data": {
      "text/plain": [
       "(2048, 2448)"
      ]
     },
     "execution_count": 22,
     "metadata": {},
     "output_type": "execute_result"
    },
    {
     "data": {
      "image/png": "[encoded data removed]",
      "text/plain": [
       "<Figure size 432x288 with 1 Axes>"
      ]
     },
     "metadata": {
      "needs_background": "light"
     },
     "output_type": "display_data"
    }
   ],
   "source": [
    "cam_id = 101936\n",
    "cover = np.load(f\"cover_{cam_id}.npy\")\n",
    "with open(f\"{cam_id}_calibration_params.json\", \"rb\") as file:\n",
    "    param_dict = json.load(file)\n",
    "    cover_fix = np.array(param_dict[\"fixer image\"])\n",
    "    dark_cover = np.array(param_dict[\"I_dark\"])\n",
    "    exposure_time = param_dict[\"exposure time\"]\n",
    "    integrating_sphere_DN = param_dict[\"integrating sphere DN\"]\n",
    "cover = (cover - dark_cover)*cover_fix\n",
    "plt.imshow(cover)\n",
    "cover.shape"
   ]
  },
  {
   "cell_type": "code",
   "execution_count": 23,
   "id": "36382a3c-14f8-4bc5-95f0-c222168f67b5",
   "metadata": {},
   "outputs": [],
   "source": [
    "h = 6.62607004e-34 #J*s is the Planck constant\n",
    "c = 3.0e8 #m/s speed of litght\n",
    "\n",
    "def interplolate(df, new_wav):\n",
    "    \"\"\"\n",
    "     Inputs:\n",
    "    pandas df containing different wavelength columns \n",
    "    new wav - new wavelength\n",
    "    returns:\n",
    "     pandas df with lambda and qe columns (same as before just different names)\n",
    "     but with the same amount of values as the wavs vector\n",
    "    \"\"\"\n",
    "    wavs = df.columns[1:]\n",
    "    for i,w in enumerate(wavs):\n",
    "        if new_wav < int(w):\n",
    "            lower = int(wavs[i-1])\n",
    "            upper = int(w)\n",
    "            break\n",
    "    coef = (new_wav - lower)/(upper - lower)\n",
    "    df[str(new_wav)] = coef*df[str(upper)] + (1-coef)*df[str(lower)]\n",
    "    return df\n",
    "\n",
    "def rearange_qe_df(df, wavs):\n",
    "    \"\"\"\n",
    "     Inputs:\n",
    "    pandas df containing <wavelength [nm]> and <efficiency> columns \n",
    "    wavs - vector containing wavelength values (longer than the df column)\n",
    "    returns:\n",
    "     pandas df with lambda and qe columns (same as before just different names)\n",
    "     but with the same amount of values as the wavs vector\n",
    "    \"\"\"\n",
    "    new_df = {\"lambda\" : [], \"qe\": []}\n",
    "    for wav in wavs:\n",
    "        if (wav*1000) < 400 or (wav*1000) >850:\n",
    "                continue\n",
    "        for index, row in df.iterrows():\n",
    "            if wav*1000 < row[\"<wavelength [nm]>\"]:\n",
    "                lower = df[\"<wavelength [nm]>\"][index-1]\n",
    "                upper = row[\"<wavelength [nm]>\"]\n",
    "                lower_qe = df[\"<efficiency>\"][index-1]\n",
    "                upper_qe = row[\"<efficiency>\"]\n",
    "                break\n",
    "        coef = (wav*1000 - lower)/(upper - lower)\n",
    "        qe = coef*upper_qe + (1-coef)*lower_qe\n",
    "        new_df[\"lambda\"].append(wav)\n",
    "        new_df[\"qe\"].append(qe)\n",
    "        \n",
    "    return pd.DataFrame.from_dict(new_df)\n",
    "\n"
   ]
  },
  {
   "cell_type": "markdown",
   "id": "0b33983d-9419-4bca-89a6-69fc1db41180",
   "metadata": {},
   "source": [
    "where ${R}_{\\lambda}$ is the {\\em absolute spectral responsivity} which consists of all the wavelength sensitive elements except of the spectral radiance ${L}_{\\lambda}$,\n",
    "\\begin{equation}\n",
    "\\label{eq:spectral_responsivity}\n",
    "    {R}_{\\lambda} = \\tau_{\\lambda}\\; \\mathrm{QE}_{\\lambda}\\; \\frac{\\lambda}{hc} \\;\\;\\;\\; [\\frac{\\rm electrons}{\\rm Joules}].\n",
    "\\end{equation}"
   ]
  },
  {
   "cell_type": "code",
   "execution_count": 24,
   "id": "6f55dfd5-f7cc-485f-b633-83d170598f95",
   "metadata": {},
   "outputs": [
    {
     "data": {
      "text/html": [
       "<div>\n",
       "<style scoped>\n",
       "    .dataframe tbody tr th:only-of-type {\n",
       "        vertical-align: middle;\n",
       "    }\n",
       "\n",
       "    .dataframe tbody tr th {\n",
       "        vertical-align: top;\n",
       "    }\n",
       "\n",
       "    .dataframe thead th {\n",
       "        text-align: right;\n",
       "    }\n",
       "</style>\n",
       "<table border=\"1\" class=\"dataframe\">\n",
       "  <thead>\n",
       "    <tr style=\"text-align: right;\">\n",
       "      <th></th>\n",
       "      <th>lambda</th>\n",
       "      <th>qe</th>\n",
       "    </tr>\n",
       "  </thead>\n",
       "  <tbody>\n",
       "    <tr>\n",
       "      <th>0</th>\n",
       "      <td>0.4003</td>\n",
       "      <td>26.5479</td>\n",
       "    </tr>\n",
       "    <tr>\n",
       "      <th>1</th>\n",
       "      <td>0.4008</td>\n",
       "      <td>26.7944</td>\n",
       "    </tr>\n",
       "    <tr>\n",
       "      <th>2</th>\n",
       "      <td>0.4013</td>\n",
       "      <td>27.0409</td>\n",
       "    </tr>\n",
       "    <tr>\n",
       "      <th>3</th>\n",
       "      <td>0.4018</td>\n",
       "      <td>27.2874</td>\n",
       "    </tr>\n",
       "    <tr>\n",
       "      <th>4</th>\n",
       "      <td>0.4023</td>\n",
       "      <td>27.5339</td>\n",
       "    </tr>\n",
       "    <tr>\n",
       "      <th>...</th>\n",
       "      <td>...</td>\n",
       "      <td>...</td>\n",
       "    </tr>\n",
       "    <tr>\n",
       "      <th>995</th>\n",
       "      <td>0.8482</td>\n",
       "      <td>13.3330</td>\n",
       "    </tr>\n",
       "    <tr>\n",
       "      <th>996</th>\n",
       "      <td>0.8486</td>\n",
       "      <td>13.2790</td>\n",
       "    </tr>\n",
       "    <tr>\n",
       "      <th>997</th>\n",
       "      <td>0.8490</td>\n",
       "      <td>13.2250</td>\n",
       "    </tr>\n",
       "    <tr>\n",
       "      <th>998</th>\n",
       "      <td>0.8494</td>\n",
       "      <td>13.1710</td>\n",
       "    </tr>\n",
       "    <tr>\n",
       "      <th>999</th>\n",
       "      <td>0.8498</td>\n",
       "      <td>13.1170</td>\n",
       "    </tr>\n",
       "  </tbody>\n",
       "</table>\n",
       "<p>1000 rows × 2 columns</p>\n",
       "</div>"
      ],
      "text/plain": [
       "     lambda       qe\n",
       "0    0.4003  26.5479\n",
       "1    0.4008  26.7944\n",
       "2    0.4013  27.0409\n",
       "3    0.4018  27.2874\n",
       "4    0.4023  27.5339\n",
       "..      ...      ...\n",
       "995  0.8482  13.3330\n",
       "996  0.8486  13.2790\n",
       "997  0.8490  13.2250\n",
       "998  0.8494  13.1710\n",
       "999  0.8498  13.1170\n",
       "\n",
       "[1000 rows x 2 columns]"
      ]
     },
     "execution_count": 24,
     "metadata": {},
     "output_type": "execute_result"
    }
   ],
   "source": [
    "mono_df = pd.read_csv(\"mono.csv\", \"\\t\")\n",
    "empty = pd.read_csv(\"empty.csv\")\n",
    "mono_df = rearange_qe_df(mono_df, empty[\"lambda\"])\n",
    "R_lambda = (1e-9*mono_df[\"lambda\"]*(mono_df[\"qe\"]/100))/(h*c) # fixed units\n",
    "mono_df"
   ]
  },
  {
   "cell_type": "code",
   "execution_count": 25,
   "id": "92e65604-ce81-4847-a1d2-b2204c4905b9",
   "metadata": {},
   "outputs": [
    {
     "data": {
      "text/plain": [
       "<AxesSubplot:>"
      ]
     },
     "execution_count": 25,
     "metadata": {},
     "output_type": "execute_result"
    },
    {
     "data": {
      "image/png": "[encoded data removed]",
      "text/plain": [
       "<Figure size 432x288 with 1 Axes>"
      ]
     },
     "metadata": {
      "needs_background": "light"
     },
     "output_type": "display_data"
    }
   ],
   "source": [
    "R_lambda.hist()"
   ]
  },
  {
   "cell_type": "markdown",
   "id": "34f17e54-6d35-471e-a783-39d3197b3880",
   "metadata": {},
   "source": [
    " it  is  common  to  use  system  relative  spectral  responsivity  (unitless)  which  is  defined  as following\n",
    "\\begin{equation}\n",
    "\\label{eq:eta}\n",
    "    \\eta_{\\lambda} = \\frac{{R}_{\\lambda}}{{\\rm max}\\big\\{ {R}_{\\lambda} \\big\\}},\n",
    "\\end{equation}"
   ]
  },
  {
   "cell_type": "code",
   "execution_count": 26,
   "id": "68e328bf-1a75-4bd5-a3e5-2c37eaaef7a1",
   "metadata": {},
   "outputs": [
    {
     "data": {
      "text/plain": [
       "(1000,)"
      ]
     },
     "execution_count": 26,
     "metadata": {},
     "output_type": "execute_result"
    }
   ],
   "source": [
    "eta_lambda = np.array(R_lambda/np.max(R_lambda))\n",
    "eta_lambda.shape"
   ]
  },
  {
   "cell_type": "markdown",
   "id": "0129fcf9-4ce7-4383-9da8-873d4109ee67",
   "metadata": {},
   "source": [
    "where the term ${{\\rm max}\\big\\{ {R}_{\\lambda} \\big\\}}$ is the peak system spectral responsivity over the bandwidth $\\Lambda$. Then, to use  normalized effective spectral radiometric terms. Let ${L}_{\\rm eff}$ be the normalized effective radiance, \n",
    "\\begin{equation}\n",
    "\\label{eq:L_eff}\n",
    "    {L}_{\\rm eff} = \\int_{\\Lambda} {L}_{\\lambda} \\, \\eta_{\\lambda} \\, {\\rm d}\\lambda \\;\\;\\;\\; \\big[  \\frac{\\rm W}{{\\rm m}^2 \\; {\\rm sr}} \\big].\n",
    "\\end{equation}"
   ]
  },
  {
   "cell_type": "code",
   "execution_count": 31,
   "id": "9a2c1e89-59cf-4497-a7b2-7c7d9834270a",
   "metadata": {},
   "outputs": [
    {
     "name": "stdout",
     "output_type": "stream",
     "text": [
      "5068.739299234393\n",
      "3057.536623639142\n"
     ]
    },
    {
     "data": {
      "image/png": "[encoded data removed]",
      "text/plain": [
       "<Figure size 432x288 with 1 Axes>"
      ]
     },
     "metadata": {
      "needs_background": "light"
     },
     "output_type": "display_data"
    }
   ],
   "source": [
    "empty = pd.read_csv(\"empty.csv\")\n",
    "empty = interplolate(empty, integrating_sphere_DN)\n",
    "empty = empty[(empty[\"lambda\"]>0.4) & (empty[\"lambda\"]<0.850)]\n",
    "L_lambda = np.array(empty[f\"{integrating_sphere_DN}\"])\n",
    "L_eff = np.trapz(L_lambda*eta_lambda, x=empty[\"lambda\"])\n",
    "C = np.mean(cover[cover>500])/(exposure_time*L_eff)\n",
    "print(C)\n",
    "print(np.mean(cover))\n",
    "plt.imshow(cover)\n",
    "plt.show()\n",
    "\n"
   ]
  },
  {
   "cell_type": "code",
   "execution_count": 28,
   "id": "f0b5d81b-b62d-4bc9-8f64-347c345e979e",
   "metadata": {},
   "outputs": [],
   "source": [
    "param_dict[\"C\"] = C"
   ]
  },
  {
   "cell_type": "code",
   "execution_count": 29,
   "id": "52713341-c3e7-4199-9c9c-db0361c95847",
   "metadata": {},
   "outputs": [],
   "source": [
    "with open(f\"{cam_id}_calibration_params.json\", \"w\") as file:\n",
    "    json.dump(param_dict, file)"
   ]
  },
  {
   "cell_type": "markdown",
   "id": "16504bf1-49f7-428e-ac4a-2b9dbda411ad",
   "metadata": {},
   "source": [
    "## sanity check : for different DN values we get the same C"
   ]
  },
  {
   "cell_type": "code",
   "execution_count": 33,
   "id": "ccd1e5bb-cea0-4e40-9214-3164895850e2",
   "metadata": {},
   "outputs": [
    {
     "name": "stdout",
     "output_type": "stream",
     "text": [
      "3000\n"
     ]
    },
    {
     "ename": "NameError",
     "evalue": "name 'dark' is not defined",
     "output_type": "error",
     "traceback": [
      "\u001b[0;31m---------------------------------------------------------------------------\u001b[0m",
      "\u001b[0;31mNameError\u001b[0m                                 Traceback (most recent call last)",
      "\u001b[0;32m<ipython-input-33-9dde8802b84f>\u001b[0m in \u001b[0;36m<module>\u001b[0;34m\u001b[0m\n\u001b[1;32m      5\u001b[0m \u001b[0;32mfor\u001b[0m \u001b[0mk\u001b[0m\u001b[0;34m,\u001b[0m\u001b[0mv\u001b[0m \u001b[0;32min\u001b[0m \u001b[0mlinear_check\u001b[0m\u001b[0;34m.\u001b[0m\u001b[0mitems\u001b[0m\u001b[0;34m(\u001b[0m\u001b[0;34m)\u001b[0m\u001b[0;34m:\u001b[0m\u001b[0;34m\u001b[0m\u001b[0;34m\u001b[0m\u001b[0m\n\u001b[1;32m      6\u001b[0m     \u001b[0mprint\u001b[0m\u001b[0;34m(\u001b[0m\u001b[0mk\u001b[0m\u001b[0;34m)\u001b[0m\u001b[0;34m\u001b[0m\u001b[0;34m\u001b[0m\u001b[0m\n\u001b[0;32m----> 7\u001b[0;31m     \u001b[0mv\u001b[0m\u001b[0;34m=\u001b[0m \u001b[0mv\u001b[0m\u001b[0;34m-\u001b[0m\u001b[0mdark\u001b[0m\u001b[0;34m[\u001b[0m\u001b[0;36m0\u001b[0m\u001b[0;34m]\u001b[0m\u001b[0;34m\u001b[0m\u001b[0;34m\u001b[0m\u001b[0m\n\u001b[0m\u001b[1;32m      8\u001b[0m     \u001b[0mv\u001b[0m \u001b[0;34m=\u001b[0m \u001b[0mv\u001b[0m\u001b[0;34m[\u001b[0m\u001b[0mv\u001b[0m\u001b[0;34m>\u001b[0m\u001b[0;36m100\u001b[0m\u001b[0;34m]\u001b[0m\u001b[0;34m\u001b[0m\u001b[0;34m\u001b[0m\u001b[0m\n\u001b[1;32m      9\u001b[0m     \u001b[0mprint\u001b[0m\u001b[0;34m(\u001b[0m\u001b[0mnp\u001b[0m\u001b[0;34m.\u001b[0m\u001b[0mmean\u001b[0m\u001b[0;34m(\u001b[0m\u001b[0mv\u001b[0m\u001b[0;34m)\u001b[0m\u001b[0;34m)\u001b[0m\u001b[0;34m\u001b[0m\u001b[0;34m\u001b[0m\u001b[0m\n",
      "\u001b[0;31mNameError\u001b[0m: name 'dark' is not defined"
     ]
    }
   ],
   "source": [
    "linear_check = {3000 : np.load(\"linear check 3000.npy\"),\n",
    "               3600 : np.load(\"linear check 3600.npy\"),\n",
    "               4200 : np.load(\"linear check 4200.npy\"),\n",
    "               5000 : np.load(\"linear check 5000.npy\")}\n",
    "for k,v in linear_check.items():\n",
    "    print(k)\n",
    "    v= v-dark\n",
    "    v = v[v>100]\n",
    "    print(np.mean(v))\n"
   ]
  },
  {
   "cell_type": "code",
   "execution_count": 86,
   "id": "f2d9f966-e94c-4239-81cc-59a978690eb7",
   "metadata": {},
   "outputs": [
    {
     "data": {
      "text/html": [
       "<div>\n",
       "<style scoped>\n",
       "    .dataframe tbody tr th:only-of-type {\n",
       "        vertical-align: middle;\n",
       "    }\n",
       "\n",
       "    .dataframe tbody tr th {\n",
       "        vertical-align: top;\n",
       "    }\n",
       "\n",
       "    .dataframe thead th {\n",
       "        text-align: right;\n",
       "    }\n",
       "</style>\n",
       "<table border=\"1\" class=\"dataframe\">\n",
       "  <thead>\n",
       "    <tr style=\"text-align: right;\">\n",
       "      <th></th>\n",
       "      <th>lambda</th>\n",
       "      <th>qe</th>\n",
       "    </tr>\n",
       "  </thead>\n",
       "  <tbody>\n",
       "    <tr>\n",
       "      <th>0</th>\n",
       "      <td>0.4003</td>\n",
       "      <td>26.5479</td>\n",
       "    </tr>\n",
       "    <tr>\n",
       "      <th>1</th>\n",
       "      <td>0.4008</td>\n",
       "      <td>26.7944</td>\n",
       "    </tr>\n",
       "    <tr>\n",
       "      <th>2</th>\n",
       "      <td>0.4013</td>\n",
       "      <td>27.0409</td>\n",
       "    </tr>\n",
       "    <tr>\n",
       "      <th>3</th>\n",
       "      <td>0.4018</td>\n",
       "      <td>27.2874</td>\n",
       "    </tr>\n",
       "    <tr>\n",
       "      <th>4</th>\n",
       "      <td>0.4023</td>\n",
       "      <td>27.5339</td>\n",
       "    </tr>\n",
       "    <tr>\n",
       "      <th>...</th>\n",
       "      <td>...</td>\n",
       "      <td>...</td>\n",
       "    </tr>\n",
       "    <tr>\n",
       "      <th>995</th>\n",
       "      <td>0.8482</td>\n",
       "      <td>13.3330</td>\n",
       "    </tr>\n",
       "    <tr>\n",
       "      <th>996</th>\n",
       "      <td>0.8486</td>\n",
       "      <td>13.2790</td>\n",
       "    </tr>\n",
       "    <tr>\n",
       "      <th>997</th>\n",
       "      <td>0.8490</td>\n",
       "      <td>13.2250</td>\n",
       "    </tr>\n",
       "    <tr>\n",
       "      <th>998</th>\n",
       "      <td>0.8494</td>\n",
       "      <td>13.1710</td>\n",
       "    </tr>\n",
       "    <tr>\n",
       "      <th>999</th>\n",
       "      <td>0.8498</td>\n",
       "      <td>13.1170</td>\n",
       "    </tr>\n",
       "  </tbody>\n",
       "</table>\n",
       "<p>1000 rows × 2 columns</p>\n",
       "</div>"
      ],
      "text/plain": [
       "     lambda       qe\n",
       "0    0.4003  26.5479\n",
       "1    0.4008  26.7944\n",
       "2    0.4013  27.0409\n",
       "3    0.4018  27.2874\n",
       "4    0.4023  27.5339\n",
       "..      ...      ...\n",
       "995  0.8482  13.3330\n",
       "996  0.8486  13.2790\n",
       "997  0.8490  13.2250\n",
       "998  0.8494  13.1710\n",
       "999  0.8498  13.1170\n",
       "\n",
       "[1000 rows x 2 columns]"
      ]
     },
     "execution_count": 86,
     "metadata": {},
     "output_type": "execute_result"
    }
   ],
   "source": [
    "mono_df = pd.read_csv(\"mono.csv\", \"\\t\")\n",
    "empty = pd.read_csv(\"empty.csv\")\n",
    "mono_df = rearange_qe_df(mono_df, empty[\"lambda\"])\n",
    "R_lambda = (1e-9*mono_df[\"lambda\"]*(mono_df[\"qe\"]/100))/(h*c) # fixed units\n",
    "mono_df"
   ]
  },
  {
   "cell_type": "code",
   "execution_count": 88,
   "id": "ccb311f4-6d67-4147-95a9-afce8b7cb361",
   "metadata": {},
   "outputs": [
    {
     "data": {
      "text/plain": [
       "(1000,)"
      ]
     },
     "execution_count": 88,
     "metadata": {},
     "output_type": "execute_result"
    }
   ],
   "source": [
    "eta_lambda = np.array(R_lambda/np.max(R_lambda))\n",
    "eta_lambda.shape"
   ]
  },
  {
   "cell_type": "code",
   "execution_count": 93,
   "id": "3816f569-c12f-477d-9bae-e536a28782a9",
   "metadata": {},
   "outputs": [
    {
     "name": "stdout",
     "output_type": "stream",
     "text": [
      "5470.021688286696\n",
      "3000\n",
      "2011.9530723871158\n"
     ]
    },
    {
     "data": {
      "image/png": "[encoded data removed]",
      "text/plain": [
       "<Figure size 432x288 with 1 Axes>"
      ]
     },
     "metadata": {
      "needs_background": "light"
     },
     "output_type": "display_data"
    },
    {
     "name": "stdout",
     "output_type": "stream",
     "text": [
      "5509.297686112488\n",
      "3600\n",
      "2434.388348374543\n"
     ]
    },
    {
     "data": {
      "image/png": "[encoded data removed]",
      "text/plain": [
       "<Figure size 432x288 with 1 Axes>"
      ]
     },
     "metadata": {
      "needs_background": "light"
     },
     "output_type": "display_data"
    },
    {
     "name": "stdout",
     "output_type": "stream",
     "text": [
      "5491.947849159312\n",
      "4200\n",
      "2833.426152055132\n"
     ]
    },
    {
     "data": {
      "image/png": "[encoded data removed]",
      "text/plain": [
       "<Figure size 432x288 with 1 Axes>"
      ]
     },
     "metadata": {
      "needs_background": "light"
     },
     "output_type": "display_data"
    },
    {
     "name": "stdout",
     "output_type": "stream",
     "text": [
      "5536.02253526438\n",
      "5000\n",
      "3402.7894544390815\n"
     ]
    },
    {
     "data": {
      "image/png": "[encoded data removed]",
      "text/plain": [
       "<Figure size 432x288 with 1 Axes>"
      ]
     },
     "metadata": {
      "needs_background": "light"
     },
     "output_type": "display_data"
    }
   ],
   "source": [
    "pts = []\n",
    "exposure_time = 3000\n",
    "for val,cover in linear_check.items():\n",
    "    empty = pd.read_csv(\"empty.csv\")\n",
    "    empty = interplolate(empty, val)\n",
    "    empty = empty[(empty[\"lambda\"]>0.4) & (empty[\"lambda\"]<0.850)]\n",
    "    L_lambda = np.array(empty[f\"{val}\"])\n",
    "    L_eff = np.trapz(L_lambda*eta_lambda, x=empty[\"lambda\"])\n",
    "    C = np.mean(cover[cover>500])/(exposure_time*L_eff)\n",
    "    print(C)\n",
    "    print(val)\n",
    "    print(np.mean(cover[cover>500]))\n",
    "    pts.append((val,C))\n",
    "    plt.imshow(cover)\n",
    "    plt.show()\n",
    "\n"
   ]
  },
  {
   "cell_type": "markdown",
   "id": "99d9d7de-6eba-42e0-be17-cdc277cf18ec",
   "metadata": {},
   "source": []
  }
 ],
 "metadata": {
  "kernelspec": {
   "display_name": "Python 3",
   "language": "python",
   "name": "python3"
  },
  "language_info": {
   "codemirror_mode": {
    "name": "ipython",
    "version": 3
   },
   "file_extension": ".py",
   "mimetype": "text/x-python",
   "name": "python",
   "nbconvert_exporter": "python",
   "pygments_lexer": "ipython3",
   "version": "3.8.8"
  }
 },
 "nbformat": 4,
 "nbformat_minor": 5
}
