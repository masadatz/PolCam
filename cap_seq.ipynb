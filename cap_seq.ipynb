{
 "cells": [
  {
   "cell_type": "code",
   "execution_count": 1,
   "metadata": {
    "collapsed": true
   },
   "outputs": [],
   "source": [
    "from controller import Imager"
   ]
  },
  {
   "cell_type": "code",
   "execution_count": 2,
   "outputs": [
    {
     "name": "stdout",
     "output_type": "stream",
     "text": [
      "Found 2 devices\n",
      "Devices IDs - ['101933', '101936']\n"
     ]
    }
   ],
   "source": [
    "imager = Imager()"
   ],
   "metadata": {
    "collapsed": false,
    "pycharm": {
     "name": "#%%\n"
    }
   }
  },
  {
   "cell_type": "code",
   "execution_count": 3,
   "outputs": [],
   "source": [
    "PIXELFORMATS = {'8':'Mono8','12':'Mono12Packed'}\n",
    "PIXELFORMAT = PIXELFORMATS['8']\n",
    "imager.update_params(ExposureTime=20000, PixelFormat=PIXELFORMAT, AcquisitionFrameRate = 50)\n",
    "imager._start_acquisitions()"
   ],
   "metadata": {
    "collapsed": false,
    "pycharm": {
     "name": "#%%\n"
    }
   }
  },
  {
   "cell_type": "code",
   "execution_count": 4,
   "outputs": [
    {
     "name": "stdout",
     "output_type": "stream",
     "text": [
      "1 - 2021-08-25 16:06:20.673510 - 101933 captured Mono8 image \n",
      "1 - 2021-08-25 16:06:20.676505 - 101936 captured Mono8 image \n",
      "margin!\n",
      "2 - 2021-08-25 16:06:20.689506 - 101933 captured Mono8 image \n",
      "2 - 2021-08-25 16:06:20.739043 - 101936 captured Mono8 image \n",
      "3 - 2021-08-25 16:06:20.815661 - 101933 captured Mono8 image \n",
      "3 - 2021-08-25 16:06:20.843166 - 101936 captured Mono8 image \n",
      "4 - 2021-08-25 16:06:20.985063 - 101933 captured Mono8 image \n",
      "4 - 2021-08-25 16:06:21.016445 - 101936 captured Mono8 image \n",
      "5 - 2021-08-25 16:06:21.186820 - 101933 captured Mono8 image \n",
      "5 - 2021-08-25 16:06:21.208423 - 101936 captured Mono8 image \n",
      "6 - 2021-08-25 16:06:21.391012 - 101933 captured Mono8 image \n",
      "6 - 2021-08-25 16:06:21.393013 - 101936 captured Mono8 image \n",
      "7 - 2021-08-25 16:06:21.579019 - 101933 captured Mono8 image \n",
      "7 - 2021-08-25 16:06:21.609536 - 101936 captured Mono8 image \n",
      "8 - 2021-08-25 16:06:21.801719 - 101933 captured Mono8 image \n",
      "8 - 2021-08-25 16:06:21.803717 - 101936 captured Mono8 image \n",
      "9 - 2021-08-25 16:06:21.969512 - 101933 captured Mono8 image \n",
      "9 - 2021-08-25 16:06:22.002132 - 101936 captured Mono8 image \n",
      "10 - 2021-08-25 16:06:22.189502 - 101933 captured Mono8 image \n",
      "10 - 2021-08-25 16:06:22.211505 - 101936 captured Mono8 image \n",
      "11 - 2021-08-25 16:06:22.381496 - 101933 captured Mono8 image \n",
      "11 - 2021-08-25 16:06:22.401494 - 101936 captured Mono8 image \n",
      "12 - 2021-08-25 16:06:22.589168 - 101933 captured Mono8 image \n",
      "12 - 2021-08-25 16:06:22.592169 - 101936 captured Mono8 image \n",
      "13 - 2021-08-25 16:06:22.794083 - 101933 captured Mono8 image \n",
      "13 - 2021-08-25 16:06:22.812084 - 101936 captured Mono8 image \n",
      "14 - 2021-08-25 16:06:23.001531 - 101933 captured Mono8 image \n",
      "14 - 2021-08-25 16:06:23.033527 - 101936 captured Mono8 image \n",
      "15 - 2021-08-25 16:06:23.223461 - 101933 captured Mono8 image \n",
      "15 - 2021-08-25 16:06:23.225458 - 101936 captured Mono8 image \n",
      "16 - 2021-08-25 16:06:23.377951 - 101933 captured Mono8 image \n",
      "16 - 2021-08-25 16:06:23.409882 - 101936 captured Mono8 image \n",
      "17 - 2021-08-25 16:06:23.595010 - 101933 captured Mono8 image \n",
      "17 - 2021-08-25 16:06:23.603006 - 101936 captured Mono8 image \n",
      "18 - 2021-08-25 16:06:23.783928 - 101933 captured Mono8 image \n",
      "18 - 2021-08-25 16:06:23.784941 - 101936 captured Mono8 image \n",
      "19 - 2021-08-25 16:06:23.988299 - 101933 captured Mono8 image \n",
      "19 - 2021-08-25 16:06:24.019821 - 101936 captured Mono8 image \n",
      "20 - 2021-08-25 16:06:24.207697 - 101933 captured Mono8 image \n",
      "20 - 2021-08-25 16:06:24.209698 - 101936 captured Mono8 image \n",
      "21 - 2021-08-25 16:06:24.364046 - 101933 captured Mono8 image \n",
      "21 - 2021-08-25 16:06:24.366043 - 101936 captured Mono8 image \n",
      "22 - 2021-08-25 16:06:24.584151 - 101933 captured Mono8 image \n",
      "22 - 2021-08-25 16:06:24.602002 - 101936 captured Mono8 image \n",
      "23 - 2021-08-25 16:06:24.771154 - 101933 captured Mono8 image \n",
      "23 - 2021-08-25 16:06:24.803587 - 101936 captured Mono8 image \n",
      "24 - 2021-08-25 16:06:24.988281 - 101933 captured Mono8 image \n",
      "24 - 2021-08-25 16:06:25.006510 - 101936 captured Mono8 image \n",
      "25 - 2021-08-25 16:06:25.174502 - 101933 captured Mono8 image \n",
      "25 - 2021-08-25 16:06:25.177499 - 101936 captured Mono8 image \n"
     ]
    }
   ],
   "source": [
    "raw_images = imager.capture_sequence(num_frames=25, sleep_seconds=0.2)"
   ],
   "metadata": {
    "collapsed": false,
    "pycharm": {
     "name": "#%%\n"
    }
   }
  },
  {
   "cell_type": "code",
   "execution_count": 5,
   "outputs": [],
   "source": [
    "imager._stop_acquisitions()\n",
    "imager.clear_all()"
   ],
   "metadata": {
    "collapsed": false,
    "pycharm": {
     "name": "#%%\n"
    }
   }
  }
 ],
 "metadata": {
  "kernelspec": {
   "name": "conda-env-imager-py",
   "language": "python",
   "display_name": "Python [conda env:imager] *"
  },
  "language_info": {
   "codemirror_mode": {
    "name": "ipython",
    "version": 2
   },
   "file_extension": ".py",
   "mimetype": "text/x-python",
   "name": "python",
   "nbconvert_exporter": "python",
   "pygments_lexer": "ipython2",
   "version": "2.7.6"
  }
 },
 "nbformat": 4,
 "nbformat_minor": 0
}