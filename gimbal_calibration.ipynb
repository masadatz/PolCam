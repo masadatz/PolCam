{
 "cells": [
  {
   "cell_type": "code",
   "execution_count": 1,
   "id": "3ccacb54",
   "metadata": {},
   "outputs": [],
   "source": [
    "#importing relevant libraries\n",
    "\n",
    "from zaber_motion import Library\n",
    "from zaber_motion.ascii import Connection\n",
    "Library.enable_device_db_store()\n",
    "\n",
    "from zaber_motion import Units\n",
    "from controller import Imager\n",
    "\n",
    "import cv2\n",
    "import numpy as np\n",
    "\n",
    "import matplotlib.pyplot as plt\n",
    "\n",
    "#not sure what this is\n",
    "#%matplotlib notebook"
   ]
  },
  {
   "cell_type": "code",
   "execution_count": 2,
   "id": "22f72908",
   "metadata": {},
   "outputs": [
    {
     "name": "stdout",
     "output_type": "stream",
     "text": [
      "Found 1 devices\n",
      "Devices IDs - ['101936']\n"
     ]
    }
   ],
   "source": [
    "imager = Imager()"
   ]
  },
  {
   "cell_type": "code",
   "execution_count": 3,
   "id": "8851d2c7",
   "metadata": {},
   "outputs": [],
   "source": [
    "#sets up acquisition\n",
    "\n",
    "imager._start_acquisitions()\n",
    "imager.cams[-1].remote_device.node_map.ExposureAuto.value = 'Off'\n",
    "PIXELFORMATS = {'8':'Mono8','12':'Mono12Packed'}\n",
    "PIXELFORMAT = PIXELFORMATS['12']\n",
    "imager.update_params(ExposureTime=3500, PixelFormat=PIXELFORMAT)#, AcquisitionFrameRate = 50)"
   ]
  },
  {
   "cell_type": "code",
   "execution_count": 15,
   "id": "2f291063",
   "metadata": {},
   "outputs": [
    {
     "name": "stdout",
     "output_type": "stream",
     "text": [
      "Found 2 devices\n",
      "0 - 2021-12-29 11:06:48.186799 - 101936 captured Mono12Packed image \n",
      "1 - 2021-12-29 11:06:48.435356 - 101936 captured Mono12Packed image \n",
      "2 - 2021-12-29 11:06:48.676359 - 101936 captured Mono12Packed image \n",
      "3 - 2021-12-29 11:06:48.910844 - 101936 captured Mono12Packed image \n",
      "4 - 2021-12-29 11:06:49.151654 - 101936 captured Mono12Packed image \n",
      "0 - 2021-12-29 11:06:50.273848 - 101936 captured Mono12Packed image \n",
      "1 - 2021-12-29 11:06:50.557204 - 101936 captured Mono12Packed image \n",
      "2 - 2021-12-29 11:06:50.827590 - 101936 captured Mono12Packed image \n",
      "3 - 2021-12-29 11:06:51.098425 - 101936 captured Mono12Packed image \n",
      "4 - 2021-12-29 11:06:51.322263 - 101936 captured Mono12Packed image \n",
      "0 - 2021-12-29 11:06:52.464760 - 101936 captured Mono12Packed image \n",
      "1 - 2021-12-29 11:06:52.756069 - 101936 captured Mono12Packed image \n",
      "2 - 2021-12-29 11:06:52.969814 - 101936 captured Mono12Packed image \n",
      "3 - 2021-12-29 11:06:53.241192 - 101936 captured Mono12Packed image \n",
      "4 - 2021-12-29 11:06:53.496409 - 101936 captured Mono12Packed image \n",
      "0 - 2021-12-29 11:06:54.638708 - 101936 captured Mono12Packed image \n",
      "1 - 2021-12-29 11:06:54.931011 - 101936 captured Mono12Packed image \n",
      "2 - 2021-12-29 11:06:55.143885 - 101936 captured Mono12Packed image \n",
      "3 - 2021-12-29 11:06:55.445419 - 101936 captured Mono12Packed image \n",
      "4 - 2021-12-29 11:06:55.685878 - 101936 captured Mono12Packed image \n",
      "0 - 2021-12-29 11:06:56.747640 - 101936 captured Mono12Packed image \n",
      "1 - 2021-12-29 11:06:57.054812 - 101936 captured Mono12Packed image \n",
      "2 - 2021-12-29 11:06:57.300119 - 101936 captured Mono12Packed image \n",
      "3 - 2021-12-29 11:06:57.555798 - 101936 captured Mono12Packed image \n",
      "4 - 2021-12-29 11:06:57.826752 - 101936 captured Mono12Packed image \n"
     ]
    },
    {
     "ename": "KeyboardInterrupt",
     "evalue": "",
     "output_type": "error",
     "traceback": [
      "\u001b[1;31m---------------------------------------------------------------------------\u001b[0m",
      "\u001b[1;31mKeyboardInterrupt\u001b[0m                         Traceback (most recent call last)",
      "\u001b[1;32mC:\\Users\\CALIBR~1\\AppData\\Local\\Temp/ipykernel_4452/2154733303.py\u001b[0m in \u001b[0;36m<module>\u001b[1;34m\u001b[0m\n\u001b[0;32m     53\u001b[0m             (isimages, images), mean = imager.capture_sequence_and_get_cover(num_frames = 5, sleep_seconds1 = 0, \n\u001b[0;32m     54\u001b[0m                     sleep_seconds2 =0, frames_per_round=5, chckpt=(isimages, images))\n\u001b[1;32m---> 55\u001b[1;33m             \u001b[0mhorizontal\u001b[0m\u001b[1;33m.\u001b[0m\u001b[0mmove_relative\u001b[0m\u001b[1;33m(\u001b[0m\u001b[1;33m-\u001b[0m\u001b[1;36m1\u001b[0m\u001b[1;33m*\u001b[0m\u001b[0mlen_for_move_x\u001b[0m\u001b[1;33m,\u001b[0m \u001b[0mUnits\u001b[0m\u001b[1;33m.\u001b[0m\u001b[0mANGLE_DEGREES\u001b[0m\u001b[1;33m)\u001b[0m\u001b[1;33m\u001b[0m\u001b[1;33m\u001b[0m\u001b[0m\n\u001b[0m\u001b[0;32m     56\u001b[0m \u001b[1;33m\u001b[0m\u001b[0m\n\u001b[0;32m     57\u001b[0m \u001b[1;33m\u001b[0m\u001b[0m\n",
      "\u001b[1;32m~\\AppData\\Roaming\\Python\\Python38\\site-packages\\zaber_motion\\ascii\\axis.py\u001b[0m in \u001b[0;36mmove_relative\u001b[1;34m(self, position, unit, wait_until_idle)\u001b[0m\n\u001b[0;32m    455\u001b[0m         \u001b[0mrequest\u001b[0m\u001b[1;33m.\u001b[0m\u001b[0munit\u001b[0m \u001b[1;33m=\u001b[0m \u001b[0munit\u001b[0m\u001b[1;33m.\u001b[0m\u001b[0mvalue\u001b[0m\u001b[1;33m\u001b[0m\u001b[1;33m\u001b[0m\u001b[0m\n\u001b[0;32m    456\u001b[0m         \u001b[0mrequest\u001b[0m\u001b[1;33m.\u001b[0m\u001b[0mwait_until_idle\u001b[0m \u001b[1;33m=\u001b[0m \u001b[0mwait_until_idle\u001b[0m\u001b[1;33m\u001b[0m\u001b[1;33m\u001b[0m\u001b[0m\n\u001b[1;32m--> 457\u001b[1;33m         \u001b[0mcall\u001b[0m\u001b[1;33m(\u001b[0m\u001b[1;34m\"device/move\"\u001b[0m\u001b[1;33m,\u001b[0m \u001b[0mrequest\u001b[0m\u001b[1;33m)\u001b[0m\u001b[1;33m\u001b[0m\u001b[1;33m\u001b[0m\u001b[0m\n\u001b[0m\u001b[0;32m    458\u001b[0m \u001b[1;33m\u001b[0m\u001b[0m\n\u001b[0;32m    459\u001b[0m     async def move_relative_async(\n",
      "\u001b[1;32m~\\AppData\\Roaming\\Python\\Python38\\site-packages\\zaber_motion\\call.py\u001b[0m in \u001b[0;36mcall\u001b[1;34m(request, data, response_data)\u001b[0m\n\u001b[0;32m     42\u001b[0m         \u001b[1;32mraise\u001b[0m \u001b[0mException\u001b[0m\u001b[1;33m(\u001b[0m\u001b[1;34m\"Invalid result code: {}\"\u001b[0m\u001b[1;33m.\u001b[0m\u001b[0mformat\u001b[0m\u001b[1;33m(\u001b[0m\u001b[0mresult\u001b[0m\u001b[1;33m)\u001b[0m\u001b[1;33m)\u001b[0m\u001b[1;33m\u001b[0m\u001b[1;33m\u001b[0m\u001b[0m\n\u001b[0;32m     43\u001b[0m \u001b[1;33m\u001b[0m\u001b[0m\n\u001b[1;32m---> 44\u001b[1;33m     \u001b[0mresponse_buffers\u001b[0m \u001b[1;33m=\u001b[0m \u001b[0mpromise\u001b[0m\u001b[1;33m.\u001b[0m\u001b[0mget\u001b[0m\u001b[1;33m(\u001b[0m\u001b[1;33m)\u001b[0m\u001b[1;33m\u001b[0m\u001b[1;33m\u001b[0m\u001b[0m\n\u001b[0m\u001b[0;32m     45\u001b[0m \u001b[1;33m\u001b[0m\u001b[0m\n\u001b[0;32m     46\u001b[0m     \u001b[0mprocess_response\u001b[0m\u001b[1;33m(\u001b[0m\u001b[0mresponse_buffers\u001b[0m\u001b[1;33m,\u001b[0m \u001b[0mresponse_data\u001b[0m\u001b[1;33m)\u001b[0m\u001b[1;33m\u001b[0m\u001b[1;33m\u001b[0m\u001b[0m\n",
      "\u001b[1;32m~\\anaconda3\\envs\\imager\\lib\\queue.py\u001b[0m in \u001b[0;36mget\u001b[1;34m(self, block, timeout)\u001b[0m\n\u001b[0;32m    168\u001b[0m             \u001b[1;32melif\u001b[0m \u001b[0mtimeout\u001b[0m \u001b[1;32mis\u001b[0m \u001b[1;32mNone\u001b[0m\u001b[1;33m:\u001b[0m\u001b[1;33m\u001b[0m\u001b[1;33m\u001b[0m\u001b[0m\n\u001b[0;32m    169\u001b[0m                 \u001b[1;32mwhile\u001b[0m \u001b[1;32mnot\u001b[0m \u001b[0mself\u001b[0m\u001b[1;33m.\u001b[0m\u001b[0m_qsize\u001b[0m\u001b[1;33m(\u001b[0m\u001b[1;33m)\u001b[0m\u001b[1;33m:\u001b[0m\u001b[1;33m\u001b[0m\u001b[1;33m\u001b[0m\u001b[0m\n\u001b[1;32m--> 170\u001b[1;33m                     \u001b[0mself\u001b[0m\u001b[1;33m.\u001b[0m\u001b[0mnot_empty\u001b[0m\u001b[1;33m.\u001b[0m\u001b[0mwait\u001b[0m\u001b[1;33m(\u001b[0m\u001b[1;33m)\u001b[0m\u001b[1;33m\u001b[0m\u001b[1;33m\u001b[0m\u001b[0m\n\u001b[0m\u001b[0;32m    171\u001b[0m             \u001b[1;32melif\u001b[0m \u001b[0mtimeout\u001b[0m \u001b[1;33m<\u001b[0m \u001b[1;36m0\u001b[0m\u001b[1;33m:\u001b[0m\u001b[1;33m\u001b[0m\u001b[1;33m\u001b[0m\u001b[0m\n\u001b[0;32m    172\u001b[0m                 \u001b[1;32mraise\u001b[0m \u001b[0mValueError\u001b[0m\u001b[1;33m(\u001b[0m\u001b[1;34m\"'timeout' must be a non-negative number\"\u001b[0m\u001b[1;33m)\u001b[0m\u001b[1;33m\u001b[0m\u001b[1;33m\u001b[0m\u001b[0m\n",
      "\u001b[1;32m~\\anaconda3\\envs\\imager\\lib\\threading.py\u001b[0m in \u001b[0;36mwait\u001b[1;34m(self, timeout)\u001b[0m\n\u001b[0;32m    300\u001b[0m         \u001b[1;32mtry\u001b[0m\u001b[1;33m:\u001b[0m    \u001b[1;31m# restore state no matter what (e.g., KeyboardInterrupt)\u001b[0m\u001b[1;33m\u001b[0m\u001b[1;33m\u001b[0m\u001b[0m\n\u001b[0;32m    301\u001b[0m             \u001b[1;32mif\u001b[0m \u001b[0mtimeout\u001b[0m \u001b[1;32mis\u001b[0m \u001b[1;32mNone\u001b[0m\u001b[1;33m:\u001b[0m\u001b[1;33m\u001b[0m\u001b[1;33m\u001b[0m\u001b[0m\n\u001b[1;32m--> 302\u001b[1;33m                 \u001b[0mwaiter\u001b[0m\u001b[1;33m.\u001b[0m\u001b[0macquire\u001b[0m\u001b[1;33m(\u001b[0m\u001b[1;33m)\u001b[0m\u001b[1;33m\u001b[0m\u001b[1;33m\u001b[0m\u001b[0m\n\u001b[0m\u001b[0;32m    303\u001b[0m                 \u001b[0mgotit\u001b[0m \u001b[1;33m=\u001b[0m \u001b[1;32mTrue\u001b[0m\u001b[1;33m\u001b[0m\u001b[1;33m\u001b[0m\u001b[0m\n\u001b[0;32m    304\u001b[0m             \u001b[1;32melse\u001b[0m\u001b[1;33m:\u001b[0m\u001b[1;33m\u001b[0m\u001b[1;33m\u001b[0m\u001b[0m\n",
      "\u001b[1;31mKeyboardInterrupt\u001b[0m: "
     ]
    }
   ],
   "source": [
    "#for loop\n",
    "#moves the gimbal and takes pictures, such that the light reaches all the pixels in the picture\n",
    "#borders were chosen manually\n",
    "\n",
    "  #borders according to the gimbal setup on 20/12/21:\n",
    "  #borders named according to the gimbal, the light will be seen on the opposite \"side\"\n",
    "  #left border: -19\n",
    "  #right border: 19\n",
    "  #top border: 16\n",
    "  #bottom border: -13\n",
    "  #step in X: 3 degrees\n",
    "  #step in Y: 3 degrees\n",
    "\n",
    "\n",
    "\n",
    "#declaring variables for borders\n",
    "len_for_left = -19\n",
    "len_for_right = 19\n",
    "len_for_move_x = 3\n",
    "num_for_row = int((abs(len_for_left)+abs(len_for_right)) / len_for_move_x)\n",
    "len_for_move_y=3\n",
    "len_for_up = 16\n",
    "len_for_bottom = -13\n",
    "num_for_col = int((abs(len_for_up)+abs(len_for_bottom))/len_for_move_y)\n",
    "\n",
    "#connection to the gimbal\n",
    "\n",
    "with Connection.open_serial_port(\"COM3\") as connection: #changed to com3 from com4\n",
    "    device_list = connection.detect_devices()\n",
    "    print(\"Found {} devices\".format(len(device_list)))\n",
    "   \n",
    "    #get axes\n",
    "    vertical = device_list[1].get_axis(1) #axis Y\n",
    "    horizontal = device_list[0].get_axis(1) #axis X\n",
    "   \n",
    "    #starting point\n",
    "    horizontal.move_absolute(len_for_right, Units.ANGLE_DEGREES)\n",
    "    vertical.move_absolute(len_for_up, Units.ANGLE_DEGREES)\n",
    "   \n",
    "    #initialization\n",
    "    isimages = np.zeros([2048,2448]) \n",
    "    images = np.zeros([2048,2448])\n",
    "    \n",
    "    \n",
    "    #scans the frame and takes pictures\n",
    "    for cstep in range(num_for_col):\n",
    "        for rstep in range(num_for_row):\n",
    "            \n",
    "            #checkpt is a tuple with 2 matrices\n",
    "            #images: contains the sum of the light values from all the images\n",
    "            #isimages: contains the number of times a certain pixel surviced the threshold\n",
    "            \n",
    "            (isimages, images), mean = imager.capture_sequence_and_get_cover(num_frames = 5, sleep_seconds1 = 0, \n",
    "                    sleep_seconds2 =0, frames_per_round=5, chckpt=(isimages, images))\n",
    "            horizontal.move_relative(-1*len_for_move_x, Units.ANGLE_DEGREES)\n",
    "           \n",
    "           \n",
    "        #horizontal.move_absolute(0, Units.ANGLE_DEGREES)\n",
    "        horizontal.move_absolute(len_for_right, Units.ANGLE_DEGREES)\n",
    "        vertical.move_relative(len_for_move_y, Units.ANGLE_DEGREES)\n"
   ]
  },
  {
   "cell_type": "markdown",
   "id": "259b10ac",
   "metadata": {},
   "source": [
    "Changed the above code:\n",
    "\n",
    "Previously, in the for loop\n",
    "  #if i==0:\n",
    "            #    chkpt = None\n",
    "            #    i+=1\n",
    "         #   else:\n",
    "          #      chkpt = (isimages, images)"
   ]
  },
  {
   "cell_type": "code",
   "execution_count": 5,
   "id": "439f6c21",
   "metadata": {},
   "outputs": [
    {
     "data": {
      "text/plain": [
       "(-0.5, 2447.5, 2047.5, -0.5)"
      ]
     },
     "execution_count": 5,
     "metadata": {},
     "output_type": "execute_result"
    },
    {
     "data": {
      "image/png": "[encoded data removed]",
      "text/plain": [
       "<Figure size 720x720 with 2 Axes>"
      ]
     },
     "metadata": {
      "needs_background": "light"
     },
     "output_type": "display_data"
    }
   ],
   "source": [
    "import matplotlib.pyplot as plt\n",
    "\n",
    "fig, ax = plt.subplots(nrows=1, ncols=2, figsize = (10,10))\n",
    "\n",
    "im1 = ax[0].imshow(isimages)\n",
    "ax[0].set_title('Isimages')\n",
    "ax[0].axis('off')\n",
    "\n",
    "im2 = ax[1].imshow(images)\n",
    "ax[1].set_title('Images')\n",
    "ax[1].axis('off')"
   ]
  },
  {
   "cell_type": "code",
   "execution_count": 14,
   "id": "56c32816",
   "metadata": {},
   "outputs": [
    {
     "name": "stdout",
     "output_type": "stream",
     "text": [
      "Found 2 devices\n"
     ]
    }
   ],
   "source": [
    "with Connection.open_serial_port(\"COM3\") as connection: #changed to com3 from com4\n",
    "    device_list = connection.detect_devices()\n",
    "    print(\"Found {} devices\".format(len(device_list)))\n",
    "   \n",
    "    #get axes\n",
    "    vertical = device_list[1].get_axis(1) #axis Y\n",
    "    horizontal = device_list[0].get_axis(1) #axis X\n",
    "   \n",
    "    #starting point\n",
    "   \n",
    "    vertical.home()"
   ]
  },
  {
   "cell_type": "code",
   "execution_count": null,
   "id": "13af7b3e",
   "metadata": {},
   "outputs": [],
   "source": []
  }
 ],
 "metadata": {
  "kernelspec": {
   "display_name": "Python [conda env:imager] *",
   "language": "python",
   "name": "conda-env-imager-py"
  },
  "language_info": {
   "codemirror_mode": {
    "name": "ipython",
    "version": 3
   },
   "file_extension": ".py",
   "mimetype": "text/x-python",
   "name": "python",
   "nbconvert_exporter": "python",
   "pygments_lexer": "ipython3",
   "version": "3.8.12"
  }
 },
 "nbformat": 4,
 "nbformat_minor": 5
}
