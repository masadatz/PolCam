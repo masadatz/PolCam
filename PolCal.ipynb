{
 "cells": [
  {
   "cell_type": "code",
   "execution_count": 1,
   "metadata": {
    "collapsed": true
   },
   "outputs": [],
   "source": [
    "# This code is for simulation polarimetric calibration, after correction for in-homogeneity.\n",
    "\n",
    "import cv2\n",
    "import polanalyser as pa\n",
    "from PIL import Image\n",
    "import numpy as np\n",
    "import matplotlib.pyplot as plt\n",
    "from mpldatacursor import datacursor"
   ]
  },
  {
   "cell_type": "code",
   "execution_count": 12,
   "outputs": [],
   "source": [
    "#Simulate groud truth normalized Stokes Vector\n",
    "DoLP_true = 0.999\n",
    "haxis = 10\n",
    "vaxis = 10\n",
    "n_im = 37\n",
    "I_source = np.ones([n_im,vaxis,haxis])\n",
    "t_guess = 1\n",
    "q_true_val = np.zeros(n_im)\n",
    "u_true_val = np.zeros(n_im)\n",
    "q_true = np.ones([n_im,vaxis,haxis])\n",
    "u_true = np.ones([n_im,vaxis,haxis])\n",
    "AoLP_true = np.deg2rad(range(0,185,5))\n",
    "q_true_val = DoLP_true*np.cos(2*AoLP_true)\n",
    "u_true_val = DoLP_true*np.sin(2*AoLP_true)\n",
    "for i in range(n_im):\n",
    "    q_true[i,:,:] = q_true_val[i]\n",
    "    u_true[i,:,:] = u_true_val[i]"
   ],
   "metadata": {
    "collapsed": false,
    "pycharm": {
     "name": "#%%\n"
    }
   }
  },
  {
   "cell_type": "code",
   "execution_count": 13,
   "outputs": [],
   "source": [
    "#Simulate mono images, no demosaicing\n",
    "alpha_d = np.ones([n_im,vaxis,haxis])\n",
    "alpha_d[:,1::2, 1::2]=  0\n",
    "alpha_d[:,0::2, 1::2]=  45\n",
    "alpha_d[:,0::2, 0::2]=  90\n",
    "alpha_d[:,1::2, 0::2]=  135\n",
    "alpha = np.deg2rad(alpha_d)\n",
    "L = 0.5*t_guess*(I_source+ q_true*np.cos(2*alpha)+u_true*np.sin(2*alpha))\n",
    "noise_std = 5\n",
    "noise =  np.random.normal(0.0,noise_std/100,L.shape)\n",
    "L_noise = L*(1+noise)"
   ],
   "metadata": {
    "collapsed": false,
    "pycharm": {
     "name": "#%%\n"
    }
   }
  },
  {
   "cell_type": "code",
   "execution_count": null,
   "outputs": [],
   "source": [
    "#Show noisy images\n",
    "for i in range(n_im):\n",
    "    plt.figure(1)\n",
    "    im1 = plt.imshow(L_noise[i,:,:])\n",
    "    im = Image.fromarray(L_noise[i,:,:])\n",
    "    im.save(f'{i}.tiff')\n",
    "    plt.colorbar(im1)\n",
    "    datacursor()\n",
    "    plt.title('I')\n",
    "    plt.axis('off')\n",
    "    plt.show()"
   ],
   "metadata": {
    "collapsed": false,
    "pycharm": {
     "name": "#%%\n"
    }
   }
  },
  {
   "cell_type": "code",
   "execution_count": 14,
   "outputs": [],
   "source": [
    "def mean_error(images, calibrate = False):\n",
    "    n_im = images.shape[0]\n",
    "    DoLP_Error = np.zeros(n_im)\n",
    "    AoLP_Error = np.zeros(n_im)\n",
    "    AoLP_sum = 0\n",
    "    for i in range(n_im):\n",
    "        images_demosaiced = pa.demosaicing(images[i])\n",
    "        img_0, img_45, img_90, img_135 = cv2.split(images_demosaiced)\n",
    "        Stokes = pa.calcLinearStokes(np.array([img_0, img_45, img_90, img_135]), np.deg2rad([0,45,90,135]))\n",
    "        if calibrate:\n",
    "            X_mat = Cal_params(images)\n",
    "            Stokes_cal = Cal(Stokes, X_mat)\n",
    "            Stokes = Stokes_cal\n",
    "        DoLP_with_noise= pa.cvtStokesToDoLP(Stokes)\n",
    "        AoLP_with_noise = pa.cvtStokesToAoLP(Stokes)\n",
    "        DoLP_Error[i] = np.sum(np.abs(DoLP_with_noise-DoLP_true))\n",
    "        AoLP_Error[i] = np.sum(np.abs(AoLP_with_noise-AoLP_true[i]))\n",
    "        AoLP_sum +=  haxis*vaxis*AoLP_true[i]\n",
    "    mean_DoLP_Error = np.sum(DoLP_Error)/(n_im*haxis*vaxis*DoLP_true)\n",
    "    mean_AoLP_Error = np.sum(AoLP_Error)/AoLP_sum\n",
    "    return [mean_DoLP_Error, mean_AoLP_Error]\n",
    "m_error_0 = mean_error(L_noise,n_im)"
   ],
   "metadata": {
    "collapsed": false,
    "pycharm": {
     "name": "#%% DoLP and AoLP error\n"
    }
   }
  },
  {
   "cell_type": "code",
   "execution_count": 20,
   "outputs": [
    {
     "name": "stderr",
     "output_type": "stream",
     "text": [
      "<ipython-input-20-d3d32b3c15c2>:26: FutureWarning: `rcond` parameter will change to the default of machine precision times ``max(M, N)`` where M and N are the input matrix dimensions.\n",
      "To use the future default and silence this warning we advise to pass `rcond=None`, to keep using the old, explicitly pass `rcond=-1`.\n",
      "  x = np.linalg.lstsq(A_Mat, B_Mat)\n"
     ]
    }
   ],
   "source": [
    "def Cal_params(images):\n",
    "    #calibration\n",
    "\n",
    "    n_im = images.shape[0]\n",
    "    haxis = images.shape[1]\n",
    "    vaxis = images.shape[2]\n",
    "\n",
    "    images = np.zeros([n_im,haxis,vaxis])\n",
    "    B_Mat = np.zeros([n_im,haxis*vaxis])\n",
    "    A_Mat = np.zeros([n_im, 3])\n",
    "\n",
    "    for i in range(n_im):\n",
    "        B_Mat[i] = images[i].flatten()\n",
    "\n",
    "    A_Mat[:,0]=1\n",
    "    A_Mat[:,1] = np.transpose(q_true_val)\n",
    "    A_Mat[:,2] = np.transpose(u_true_val)\n",
    "\n",
    "    # for real images we need normalization\n",
    "    #    I = 0.5*(images[:,1::2, 1::2]+images[:,0::2, 1::2]+images[:,0::2, 0::2]+images[:,1::2, 0::2])\n",
    "    #    images[:,1::2, 1::2]=  images[:,1::2, 1::2]/I\n",
    "    #    images[:,0::2, 1::2]=  images[:,0::2, 1::2]/I\n",
    "    #    images[:,0::2, 0::2]=  images[:,0::2, 0::2]/I\n",
    "    #    images[:,1::2, 0::2]=  images[:,1::2, 0::2]/I\n",
    "\n",
    "    x = np.linalg.lstsq(A_Mat, B_Mat)\n",
    "    X_mat = np.reshape(np.array(x[0]),[3,haxis,vaxis])# each column has the three parameters for a pixel\n",
    "    return X_mat"
   ],
   "metadata": {
    "collapsed": false,
    "pycharm": {
     "name": "#%%\n"
    }
   }
  },
  {
   "cell_type": "code",
   "execution_count": null,
   "outputs": [],
   "source": [
    "def Cal(Stokes, X_mat):\n",
    "    images_demosaiced = pa.demosaicing(X[i])\n",
    "    img_0, img_45, img_90, img_135 = cv2.split(images_demosaiced)"
   ],
   "metadata": {
    "collapsed": false,
    "pycharm": {
     "name": "#%%\n"
    }
   }
  },
  {
   "cell_type": "code",
   "execution_count": null,
   "outputs": [],
   "source": [
    "for i in range(n_im):\n",
    "    images[i] = np.asarray(Image.open(f'{i}.tiff'))\n"
   ],
   "metadata": {
    "collapsed": false,
    "pycharm": {
     "name": "#%%\n"
    }
   }
  }
 ],
 "metadata": {
  "kernelspec": {
   "display_name": "Python 3",
   "language": "python",
   "name": "python3"
  },
  "language_info": {
   "codemirror_mode": {
    "name": "ipython",
    "version": 2
   },
   "file_extension": ".py",
   "mimetype": "text/x-python",
   "name": "python",
   "nbconvert_exporter": "python",
   "pygments_lexer": "ipython2",
   "version": "2.7.6"
  }
 },
 "nbformat": 4,
 "nbformat_minor": 0
}