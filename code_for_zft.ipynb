{
 "cells": [
  {
   "cell_type": "code",
   "execution_count": null,
   "metadata": {
    "pycharm": {
     "name": "#%%\n"
    }
   },
   "outputs": [],
   "source": [
    "from controller import Imager\n",
    "import time\n",
    "import cv2\n",
    "import polanalyser as pa\n",
    "from PIL import Image\n",
    "import matplotlib.pyplot as plt\n",
    "from mpldatacursor import datacursor\n",
    "import numpy as np\n",
    "import os"
   ]
  },
  {
   "cell_type": "code",
   "execution_count": null,
   "metadata": {
    "pycharm": {
     "name": "#%% Initialize camera\n"
    }
   },
   "outputs": [],
   "source": [
    "imager = Imager()\n",
    "num_cams = len(imager.cams)\n",
    "\n",
    "exposure=30000 # set exposure time in micro-seconds\n",
    "\n",
    "imager.cams[-1].remote_device.node_map.ExposureAuto.value = 'Off'\n",
    "PIXELFORMATS = {'8':'Mono8','12':'Mono12Packed'}\n",
    "\n",
    "PIXELFORMAT = PIXELFORMATS['8']  # set pixel format\n",
    "imager.update_params(ExposureTime=exposure, PixelFormat=PIXELFORMAT)\n",
    "imager._start_acquisitions()"
   ]
  },
  {
   "cell_type": "code",
   "execution_count": null,
   "metadata": {
    "pycharm": {
     "name": "#%% CHECK SINGLE IMAGE\n"
    }
   },
   "outputs": [],
   "source": [
    "init_image = imager.capture_sequence(1, 0,0)\n",
    "images = np.squeeze(np.array(init_image[0]))\n",
    "im = np.squeeze(np.array(images))\n",
    "plt.imshow(im, cmap=plt.get_cmap('gray'), vmin=0, vmax=256)\n",
    "cbar = plt.colorbar(mappable=plt.cm.ScalarMappable(cmap=plt.get_cmap('gray')))\n",
    "plt.show()\n",
    "plt.hist(im.flatten(),256)\n",
    "plt.show()"
   ]
  },
  {
   "cell_type": "code",
   "execution_count": null,
   "metadata": {
    "pycharm": {
     "name": "#%% TAKE SEQUENCE\n"
    }
   },
   "outputs": [],
   "source": [
    "time.sleep(10)  # Sleep time before starting a sequence\n",
    "num_images = 5  # Number of images you want to capture\n",
    "\n",
    "break_sets = 0 # In seconds\n",
    "               # if == 0: 3 images are taken with no break (for repetition),\n",
    "               # then then there is a break_sets.\n",
    "               # if break_sets == break_images,\n",
    "               # there is no repetition.\n",
    "break_images = 0 #\n",
    "\n",
    "raw_images, metadata = imager.capture_sequence(num_images, break_sets,break_images)"
   ]
  },
  {
   "cell_type": "code",
   "execution_count": null,
   "metadata": {
    "pycharm": {
     "name": "#%% SAVE SEQUENCE\n"
    }
   },
   "outputs": [],
   "source": [
    "experiment= 'exp'\n",
    "\n",
    "if not os.path.exists(experiment):\n",
    "    os.mkdir(experiment)\n",
    "\n",
    "short = 'E'\n",
    "repeat = 1\n",
    "directory = f\"./{experiment}/{short}{repeat}_{exposure}\"\n",
    "if not os.path.exists(directory):\n",
    "    os.mkdir(directory)\n",
    "for i, nagla in enumerate(raw_images):\n",
    "    if not os.path.exists(f\"./{directory}/{i}\"):\n",
    "        os.mkdir(f\"./{directory}/{i}\")\n",
    "    for img, met in zip(nagla, metadata[i*num_cams:num_cams*(i+1)]):\n",
    "        # To save as numpy array:\n",
    "        #np.save(f'./{directory}/{i}/{met[1].strftime(\"%d_%H_%M_%S_%f\")}_{met[2]}', img)\n",
    "        # To save as png (for other format, switch '.png' to requested format):\n",
    "        I = np.uint8(img) # convert it to uint8\n",
    "        cv2.imwrite(f'./{directory}/{i}/{met[1].strftime(\"%d_%H_%M_%S_%f\")}_{met[2]}'+'.png',I)"
   ]
  },
  {
   "cell_type": "code",
   "execution_count": null,
   "metadata": {
    "pycharm": {
     "name": "#%%\n"
    }
   },
   "outputs": [],
   "source": [
    "imager._stop_acquisitions()\n",
    "\n",
    "\n"
   ]
  }
 ],
 "metadata": {
  "kernelspec": {
   "display_name": "Python 3 (ipykernel)",
   "language": "python",
   "name": "python3"
  },
  "language_info": {
   "codemirror_mode": {
    "name": "ipython",
    "version": 3
   },
   "file_extension": ".py",
   "mimetype": "text/x-python",
   "name": "python",
   "nbconvert_exporter": "python",
   "pygments_lexer": "ipython3",
   "version": "3.8.12"
  }
 },
 "nbformat": 4,
 "nbformat_minor": 1
}
