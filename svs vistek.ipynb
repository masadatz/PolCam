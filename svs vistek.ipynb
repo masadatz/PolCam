{
 "cells": [
  {
   "cell_type": "code",
   "execution_count": 5,
   "id": "983a075b",
   "metadata": {
    "ExecuteTime": {
     "end_time": "2021-05-30T16:04:04.232761Z",
     "start_time": "2021-05-30T16:04:01.198837Z"
    },
    "code_folding": []
   },
   "outputs": [],
   "source": [
    "from harvesters.core import Harvester\n",
    "from controller import Imager\n",
    "from params import GIGE_CTI"
   ]
  },
  {
   "cell_type": "code",
   "execution_count": 3,
   "outputs": [
    {
     "name": "stdout",
     "output_type": "stream",
     "text": [
      "Found 0 devices\n",
      "No devices found. If the camera is connected - call imager.clear_all() or restart the kernel and try again.\n",
      "Devices IDs - []\n"
     ]
    }
   ],
   "source": [
    "imager = Imager()"
   ],
   "metadata": {
    "collapsed": false,
    "pycharm": {
     "name": "#%%\n"
    }
   }
  },
  {
   "cell_type": "code",
   "execution_count": 3,
   "outputs": [],
   "source": [
    "PIXELFORMATS = {'8':'Mono8','12':'Mono12Packed'}\n",
    "PIXELFORMAT = PIXELFORMATS['8']\n",
    "imager.update_params(ExposureTime=20000, PixelFormat=PIXELFORMAT, AcquisitionFrameRate = 10)\n",
    "\n"
   ],
   "metadata": {
    "collapsed": false,
    "pycharm": {
     "name": "#%%\n"
    }
   }
  },
  {
   "cell_type": "code",
   "execution_count": 4,
   "id": "f2073776",
   "metadata": {
    "ExecuteTime": {
     "end_time": "2021-05-30T16:04:06.417839Z",
     "start_time": "2021-05-30T16:04:06.389679Z"
    }
   },
   "outputs": [],
   "source": [
    "imager._start_acquisitions()"
   ]
  },
  {
   "cell_type": "code",
   "execution_count": 5,
   "outputs": [
    {
     "name": "stdout",
     "output_type": "stream",
     "text": [
      "cam 101936 captured image of format Mono8 at 2021-06-16 13:57:37.367265\n",
      "cam 101934 captured image of format Mono8 at 2021-06-16 13:57:37.370248\n",
      "cam 101933 captured image of format Mono8 at 2021-06-16 13:57:37.371254\n",
      "cam 101935 captured image of format Mono8 at 2021-06-16 13:57:37.373247\n"
     ]
    }
   ],
   "source": [
    "imager.get_images(show_images=False, save_images=False)\n",
    "# imager.get_images(show_images=True, save_images=True)\n",
    "imager._stop_acquisitions()"
   ],
   "metadata": {
    "collapsed": false,
    "pycharm": {
     "name": "#%%\n"
    }
   }
  },
  {
   "cell_type": "code",
   "execution_count": 6,
   "id": "488a53b6",
   "metadata": {
    "ExecuteTime": {
     "end_time": "2021-05-30T16:03:56.475178Z",
     "start_time": "2021-05-30T16:03:56.150319Z"
    },
    "pycharm": {
     "name": "#%%\n"
    }
   },
   "outputs": [],
   "source": [
    "imager.clear_all()\n"
   ]
  },
  {
   "cell_type": "code",
   "execution_count": 20,
   "outputs": [
    {
     "ename": "IndexError",
     "evalue": "list index out of range",
     "output_type": "error",
     "traceback": [
      "\u001B[1;31m---------------------------------------------------------------------------\u001B[0m",
      "\u001B[1;31mIndexError\u001B[0m                                Traceback (most recent call last)",
      "\u001B[1;32m<ipython-input-20-48d50b98adfd>\u001B[0m in \u001B[0;36m<module>\u001B[1;34m\u001B[0m\n\u001B[1;32m----> 1\u001B[1;33m \u001B[0mimager\u001B[0m\u001B[1;33m.\u001B[0m\u001B[0mimages\u001B[0m\u001B[1;33m[\u001B[0m\u001B[1;36m0\u001B[0m\u001B[1;33m]\u001B[0m\u001B[1;33m[\u001B[0m\u001B[1;36m0\u001B[0m\u001B[1;33m]\u001B[0m\u001B[1;33m.\u001B[0m\u001B[0mshow\u001B[0m\u001B[1;33m(\u001B[0m\u001B[1;33m)\u001B[0m\u001B[1;33m\u001B[0m\u001B[1;33m\u001B[0m\u001B[0m\n\u001B[0m\u001B[0;32m      2\u001B[0m \u001B[1;33m\u001B[0m\u001B[0m\n",
      "\u001B[1;31mIndexError\u001B[0m: list index out of range"
     ]
    }
   ],
   "source": [
    "imager.images[0][0].show()"
   ],
   "metadata": {
    "collapsed": false,
    "pycharm": {
     "name": "#%%\n"
    }
   }
  },
  {
   "cell_type": "code",
   "source": [
    "from PIL import  Image\n",
    "raw_image = imager.raw_images[0]\n",
    "img = Image.fromarray(raw_image)\n",
    "img.show()"
   ],
   "metadata": {
    "collapsed": false,
    "pycharm": {
     "name": "#%%\n"
    }
   },
   "execution_count": null,
   "outputs": []
  },
  {
   "cell_type": "code",
   "execution_count": null,
   "outputs": [],
   "source": [
    "img.save('123.jpeg')"
   ],
   "metadata": {
    "collapsed": false,
    "pycharm": {
     "name": "#%%\n"
    }
   }
  },
  {
   "cell_type": "code",
   "execution_count": 6,
   "outputs": [
    {
     "name": "stdout",
     "output_type": "stream",
     "text": [
      "Found 1 devices\n"
     ]
    }
   ],
   "source": [
    "h = Harvester()\n",
    "h.add_file(GIGE_CTI)\n",
    "h.update()\n",
    "num_devices = len(h.device_info_list)\n",
    "print(f\"Found {num_devices} devices\")  # see all cameras"
   ],
   "metadata": {
    "collapsed": false,
    "pycharm": {
     "name": "#%%\n"
    }
   }
  },
  {
   "cell_type": "code",
   "execution_count": 7,
   "outputs": [
    {
     "ename": "AccessDeniedException",
     "evalue": "GenTL exception: Requested operation is not allowed. (Message from the source: GC_ERR_ACCESS_DENIED) (ID: -1005)",
     "output_type": "error",
     "traceback": [
      "\u001B[1;31m---------------------------------------------------------------------------\u001B[0m",
      "\u001B[1;31mAccessDeniedException\u001B[0m                     Traceback (most recent call last)",
      "\u001B[1;32m<ipython-input-7-5193d1fef56e>\u001B[0m in \u001B[0;36m<module>\u001B[1;34m\u001B[0m\n\u001B[1;32m----> 1\u001B[1;33m \u001B[0mie\u001B[0m \u001B[1;33m=\u001B[0m \u001B[0mh\u001B[0m\u001B[1;33m.\u001B[0m\u001B[0mcreate_image_acquirer\u001B[0m\u001B[1;33m(\u001B[0m\u001B[1;36m0\u001B[0m\u001B[1;33m)\u001B[0m\u001B[1;33m\u001B[0m\u001B[1;33m\u001B[0m\u001B[0m\n\u001B[0m",
      "\u001B[1;32m~\\miniconda3\\envs\\imager\\lib\\site-packages\\harvesters\\core.py\u001B[0m in \u001B[0;36mcreate_image_acquirer\u001B[1;34m(self, list_index, id_, vendor, model, tl_type, user_defined_name, serial_number, version, sleep_duration, file_path, privilege)\u001B[0m\n\u001B[0;32m   3323\u001B[0m \u001B[1;33m\u001B[0m\u001B[0m\n\u001B[0;32m   3324\u001B[0m             \u001B[1;31m#\u001B[0m\u001B[1;33m\u001B[0m\u001B[1;33m\u001B[0m\u001B[1;33m\u001B[0m\u001B[0m\n\u001B[1;32m-> 3325\u001B[1;33m             \u001B[0mdevice\u001B[0m\u001B[1;33m.\u001B[0m\u001B[0mopen\u001B[0m\u001B[1;33m(\u001B[0m\u001B[0m_privilege\u001B[0m\u001B[1;33m)\u001B[0m\u001B[1;33m\u001B[0m\u001B[1;33m\u001B[0m\u001B[0m\n\u001B[0m\u001B[0;32m   3326\u001B[0m \u001B[1;33m\u001B[0m\u001B[0m\n\u001B[0;32m   3327\u001B[0m         \u001B[1;32mexcept\u001B[0m \u001B[0mGenericException\u001B[0m \u001B[1;32mas\u001B[0m \u001B[0me\u001B[0m\u001B[1;33m:\u001B[0m\u001B[1;33m\u001B[0m\u001B[1;33m\u001B[0m\u001B[0m\n",
      "\u001B[1;32m~\\miniconda3\\envs\\imager\\lib\\site-packages\\genicam\\gentl.py\u001B[0m in \u001B[0;36mopen\u001B[1;34m(self, accessFlags)\u001B[0m\n\u001B[0;32m   3187\u001B[0m \u001B[1;33m\u001B[0m\u001B[0m\n\u001B[0;32m   3188\u001B[0m         \"\"\"\n\u001B[1;32m-> 3189\u001B[1;33m         \u001B[1;32mreturn\u001B[0m \u001B[0m_gentl\u001B[0m\u001B[1;33m.\u001B[0m\u001B[0mDevice_open\u001B[0m\u001B[1;33m(\u001B[0m\u001B[0mself\u001B[0m\u001B[1;33m,\u001B[0m \u001B[0maccessFlags\u001B[0m\u001B[1;33m)\u001B[0m\u001B[1;33m\u001B[0m\u001B[1;33m\u001B[0m\u001B[0m\n\u001B[0m\u001B[0;32m   3190\u001B[0m \u001B[1;33m\u001B[0m\u001B[0m\n\u001B[0;32m   3191\u001B[0m \u001B[1;33m\u001B[0m\u001B[0m\n",
      "\u001B[1;31mAccessDeniedException\u001B[0m: GenTL exception: Requested operation is not allowed. (Message from the source: GC_ERR_ACCESS_DENIED) (ID: -1005)"
     ]
    }
   ],
   "source": [
    "ie = h.create_image_acquirer(0)"
   ],
   "metadata": {
    "collapsed": false,
    "pycharm": {
     "name": "#%%\n"
    }
   }
  }
 ],
 "metadata": {
  "kernelspec": {
   "name": "conda-env-imager-py",
   "language": "python",
   "display_name": "Python [conda env:imager] *"
  },
  "language_info": {
   "codemirror_mode": {
    "name": "ipython",
    "version": 3
   },
   "file_extension": ".py",
   "mimetype": "text/x-python",
   "name": "python",
   "nbconvert_exporter": "python",
   "pygments_lexer": "ipython3",
   "version": "3.8.8"
  },
  "toc": {
   "nav_menu": {},
   "number_sections": true,
   "sideBar": true,
   "skip_h1_title": false,
   "toc_cell": false,
   "toc_position": {},
   "toc_section_display": "block",
   "toc_window_display": false
  },
  "varInspector": {
   "cols": {
    "lenName": 16,
    "lenType": 16,
    "lenVar": 40
   },
   "kernels_config": {
    "python": {
     "delete_cmd_postfix": "",
     "delete_cmd_prefix": "del ",
     "library": "var_list.py",
     "varRefreshCmd": "print(var_dic_list())"
    },
    "r": {
     "delete_cmd_postfix": ") ",
     "delete_cmd_prefix": "rm(",
     "library": "var_list.r",
     "varRefreshCmd": "cat(var_dic_list()) "
    }
   },
   "position": {
    "height": "346.4px",
    "left": "1139px",
    "right": "20px",
    "top": "86px",
    "width": "350px"
   },
   "types_to_exclude": [
    "module",
    "function",
    "builtin_function_or_method",
    "instance",
    "_Feature"
   ],
   "window_display": false
  }
 },
 "nbformat": 4,
 "nbformat_minor": 5
}