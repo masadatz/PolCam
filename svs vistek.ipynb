{
 "cells": [
  {
   "cell_type": "code",
   "execution_count": 1,
   "id": "e184773e",
   "metadata": {
    "ExecuteTime": {
     "end_time": "2021-05-11T16:56:06.459099Z",
     "start_time": "2021-05-11T16:56:06.152993Z"
    }
   },
   "outputs": [],
   "source": [
    "# Based on - https://github.com/genicam/harvesters\n",
    "\n",
    "from harvesters.core import Harvester\n",
    "from PIL import Image # for the example\n",
    "\n"
   ]
  },
  {
   "cell_type": "code",
   "execution_count": 2,
   "id": "983a075b",
   "metadata": {
    "ExecuteTime": {
     "end_time": "2021-05-11T16:56:08.641139Z",
     "start_time": "2021-05-11T16:56:08.622365Z"
    }
   },
   "outputs": [
    {
     "name": "stdout",
     "output_type": "stream",
     "text": [
      "[(id_='2C1700101935', vendor='SVS-VISTEK GmbH', model='exo250ZU3', tl_type='U3V', user_defined_name=None, serial_number='101935', version='1.7.2'), (id_='2C1700101934', vendor='SVS-VISTEK GmbH', model='exo250ZU3', tl_type='U3V', user_defined_name=None, serial_number='101934', version='1.7.2')]\n"
     ]
    }
   ],
   "source": [
    "h = Harvester()\n",
    "h.add_file(r'C:\\\\Program Files\\\\SVS-VISTEK GmbH\\\\SVCam Kit\\\\TLUsb\\\\bin\\\\sv_u3v_tl_x64.cti') \n",
    "h.update()\n",
    "print(h.device_info_list) # see all cameras\n"
   ]
  },
  {
   "cell_type": "code",
   "execution_count": 3,
   "id": "9aac864a",
   "metadata": {
    "ExecuteTime": {
     "end_time": "2021-05-11T16:57:50.909925Z",
     "start_time": "2021-05-11T16:57:47.419687Z"
    }
   },
   "outputs": [],
   "source": [
    "ia0 = h.create_image_acquirer(0) # First camera in list\n",
    "ia1 = h.create_image_acquirer(1) # First camera in list\n",
    "# serial_number='101934'\n",
    "#print(dir(ia.remote_device.node_map)) # see all parameters\n"
   ]
  },
  {
   "cell_type": "code",
   "execution_count": 5,
   "id": "dd37e871",
   "metadata": {
    "ExecuteTime": {
     "end_time": "2021-05-11T16:59:12.328671Z",
     "start_time": "2021-05-11T16:59:12.318641Z"
    }
   },
   "outputs": [
    {
     "data": {
      "text/plain": [
       "41.0"
      ]
     },
     "execution_count": 5,
     "metadata": {},
     "output_type": "execute_result"
    }
   ],
   "source": [
    "ia1.remote_device.node_map.DeviceTemperature.value"
   ]
  },
  {
   "cell_type": "code",
   "execution_count": 7,
   "id": "bee35883",
   "metadata": {
    "ExecuteTime": {
     "end_time": "2021-05-11T17:01:44.055360Z",
     "start_time": "2021-05-11T17:01:43.993102Z"
    }
   },
   "outputs": [],
   "source": [
    "for ia in [ia0, ia1]:\n",
    "    ia.remote_device.node_map.ExposureTime.value = 50.0 # for example, change exposure time\n",
    "    ia.start_acquisition() # Start capturing images\n"
   ]
  },
  {
   "cell_type": "code",
   "execution_count": 49,
   "id": "77a1f174",
   "metadata": {
    "ExecuteTime": {
     "end_time": "2021-05-11T17:11:32.815646Z",
     "start_time": "2021-05-11T17:11:32.808403Z"
    }
   },
   "outputs": [
    {
     "name": "stdout",
     "output_type": "stream",
     "text": [
      "2021-05-11 20:11:32.810397\n",
      "2021-05-11 20:11:32.811395\n"
     ]
    }
   ],
   "source": [
    "images = []\n",
    "from datetime import datetime \n",
    "for ia in [ia0, ia1]:\n",
    "    # acquire and save an image\n",
    "    with ia.fetch_buffer() as buffer:\n",
    "         print(datetime.now())\n",
    "         component = buffer.payload.components[0]\n",
    "         _2d = component.data.reshape(component.height, component.width)\n",
    "#          images.append(Image.fromarray(_2d))\n",
    "            \n",
    "            "
   ]
  },
  {
   "cell_type": "code",
   "execution_count": 9,
   "id": "ec668ca7",
   "metadata": {
    "ExecuteTime": {
     "end_time": "2021-05-11T17:01:48.210658Z",
     "start_time": "2021-05-11T17:01:48.190502Z"
    }
   },
   "outputs": [
    {
     "data": {
      "text/plain": [
       "2"
      ]
     },
     "execution_count": 9,
     "metadata": {},
     "output_type": "execute_result"
    }
   ],
   "source": [
    "len(images)"
   ]
  },
  {
   "cell_type": "code",
   "execution_count": null,
   "id": "9b78b545",
   "metadata": {},
   "outputs": [],
   "source": [
    "im.save('my_image.jpeg')\n"
   ]
  },
  {
   "cell_type": "code",
   "execution_count": 11,
   "id": "3769dafe",
   "metadata": {
    "ExecuteTime": {
     "end_time": "2021-05-11T17:02:13.421535Z",
     "start_time": "2021-05-11T17:02:12.092898Z"
    }
   },
   "outputs": [],
   "source": [
    "images[1].show()"
   ]
  },
  {
   "cell_type": "code",
   "execution_count": 13,
   "id": "8d74374e",
   "metadata": {
    "ExecuteTime": {
     "end_time": "2021-05-11T17:03:38.194096Z",
     "start_time": "2021-05-11T17:03:38.174085Z"
    }
   },
   "outputs": [
    {
     "data": {
      "text/plain": [
       "['__class__',\n",
       " '__delattr__',\n",
       " '__dict__',\n",
       " '__dir__',\n",
       " '__doc__',\n",
       " '__eq__',\n",
       " '__format__',\n",
       " '__ge__',\n",
       " '__getattribute__',\n",
       " '__gt__',\n",
       " '__hash__',\n",
       " '__init__',\n",
       " '__init_subclass__',\n",
       " '__le__',\n",
       " '__lt__',\n",
       " '__module__',\n",
       " '__ne__',\n",
       " '__new__',\n",
       " '__reduce__',\n",
       " '__reduce_ex__',\n",
       " '__repr__',\n",
       " '__setattr__',\n",
       " '__sizeof__',\n",
       " '__str__',\n",
       " '__subclasshook__',\n",
       " '__weakref__',\n",
       " '_buffer',\n",
       " '_data',\n",
       " '_get_nr_bytes',\n",
       " '_logger',\n",
       " '_node_map',\n",
       " '_nr_components',\n",
       " '_part',\n",
       " '_to_np_array',\n",
       " 'data',\n",
       " 'data_format',\n",
       " 'data_format_namespace',\n",
       " 'data_format_value',\n",
       " 'data_offset',\n",
       " 'delivered_image_height',\n",
       " 'has_part',\n",
       " 'height',\n",
       " 'num_components_per_pixel',\n",
       " 'represent_pixel_location',\n",
       " 'source_id',\n",
       " 'width',\n",
       " 'x_offset',\n",
       " 'x_padding',\n",
       " 'y_offset',\n",
       " 'y_padding']"
      ]
     },
     "execution_count": 13,
     "metadata": {},
     "output_type": "execute_result"
    }
   ],
   "source": [
    "dir(component)"
   ]
  },
  {
   "cell_type": "code",
   "execution_count": 19,
   "id": "53375d30",
   "metadata": {
    "ExecuteTime": {
     "end_time": "2021-05-11T17:04:51.077738Z",
     "start_time": "2021-05-11T17:04:51.058443Z"
    }
   },
   "outputs": [
    {
     "data": {
      "text/plain": [
       "'Mono8'"
      ]
     },
     "execution_count": 19,
     "metadata": {},
     "output_type": "execute_result"
    }
   ],
   "source": [
    "component.data_format"
   ]
  },
  {
   "cell_type": "code",
   "execution_count": 20,
   "id": "3bafb589",
   "metadata": {
    "ExecuteTime": {
     "end_time": "2021-05-11T17:05:15.343105Z",
     "start_time": "2021-05-11T17:05:15.325172Z"
    }
   },
   "outputs": [
    {
     "data": {
      "text/plain": [
       "['Events',\n",
       " '__class__',\n",
       " '__delattr__',\n",
       " '__dict__',\n",
       " '__dir__',\n",
       " '__doc__',\n",
       " '__enter__',\n",
       " '__eq__',\n",
       " '__exit__',\n",
       " '__format__',\n",
       " '__ge__',\n",
       " '__getattribute__',\n",
       " '__gt__',\n",
       " '__hash__',\n",
       " '__init__',\n",
       " '__init_subclass__',\n",
       " '__le__',\n",
       " '__lt__',\n",
       " '__module__',\n",
       " '__ne__',\n",
       " '__new__',\n",
       " '__reduce__',\n",
       " '__reduce_ex__',\n",
       " '__repr__',\n",
       " '__setattr__',\n",
       " '__sizeof__',\n",
       " '__str__',\n",
       " '__subclasshook__',\n",
       " '__weakref__',\n",
       " '_announce_buffers',\n",
       " '_announced_buffers',\n",
       " '_buffer_handling_mode',\n",
       " '_callback_dict',\n",
       " '_check_validity',\n",
       " '_chunk_adapter',\n",
       " '_create_acquisition_thread',\n",
       " '_create_buffer_tokens',\n",
       " '_create_ds_at_connection',\n",
       " '_create_raw_buffers',\n",
       " '_data_streams',\n",
       " '_device',\n",
       " '_emit_callback',\n",
       " '_emit_callbacks',\n",
       " '_event',\n",
       " '_event_new_buffer_managers',\n",
       " '_finalizer',\n",
       " '_flush_buffers',\n",
       " '_get_chunk_adapter',\n",
       " '_get_port_connected_node_map',\n",
       " '_has_acquired_1st_image',\n",
       " '_interface',\n",
       " '_is_acquiring',\n",
       " '_logger',\n",
       " '_min_num_buffers',\n",
       " '_num_buffers',\n",
       " '_num_filled_buffers_to_hold',\n",
       " '_num_images_to_acquire',\n",
       " '_profiler',\n",
       " '_queue',\n",
       " '_queue_announced_buffers',\n",
       " '_release_buffers',\n",
       " '_release_data_streams',\n",
       " '_remote_device',\n",
       " '_retrieve_file_path',\n",
       " '_setup_data_streams',\n",
       " '_sigint_handler',\n",
       " '_sleep_duration',\n",
       " '_specialized_tl_type',\n",
       " '_statistics',\n",
       " '_supported_events',\n",
       " '_system',\n",
       " '_thread_image_acquisition',\n",
       " '_threads',\n",
       " '_timeout_for_image_acquisition',\n",
       " '_update_chunk_data',\n",
       " '_update_num_images_to_acquire',\n",
       " '_update_statistics',\n",
       " '_xml_dir',\n",
       " 'add_callback',\n",
       " 'buffer_handling_mode',\n",
       " 'data_streams',\n",
       " 'destroy',\n",
       " 'device',\n",
       " 'fetch_buffer',\n",
       " 'interface',\n",
       " 'is_acquiring',\n",
       " 'is_acquiring_images',\n",
       " 'is_armed',\n",
       " 'min_num_buffers',\n",
       " 'num_buffers',\n",
       " 'num_filled_buffers_to_hold',\n",
       " 'num_holding_filled_buffers',\n",
       " 'remote_device',\n",
       " 'remove_callback',\n",
       " 'remove_callbacks',\n",
       " 'sleep_duration',\n",
       " 'start_acquisition',\n",
       " 'start_image_acquisition',\n",
       " 'statistics',\n",
       " 'stop_acquisition',\n",
       " 'stop_image_acquisition',\n",
       " 'supported_events',\n",
       " 'system',\n",
       " 'thread_image_acquisition',\n",
       " 'timeout_for_image_acquisition',\n",
       " 'worker_image_acquisition']"
      ]
     },
     "execution_count": 20,
     "metadata": {},
     "output_type": "execute_result"
    }
   ],
   "source": [
    "dir(ia)"
   ]
  },
  {
   "cell_type": "code",
   "execution_count": 23,
   "id": "80ecbc2f",
   "metadata": {
    "ExecuteTime": {
     "end_time": "2021-05-11T17:05:47.034597Z",
     "start_time": "2021-05-11T17:05:47.022631Z"
    }
   },
   "outputs": [
    {
     "data": {
      "text/plain": [
       "['__class__',\n",
       " '__delattr__',\n",
       " '__dict__',\n",
       " '__dir__',\n",
       " '__doc__',\n",
       " '__eq__',\n",
       " '__format__',\n",
       " '__ge__',\n",
       " '__getattribute__',\n",
       " '__gt__',\n",
       " '__hash__',\n",
       " '__init__',\n",
       " '__init_subclass__',\n",
       " '__le__',\n",
       " '__lt__',\n",
       " '__module__',\n",
       " '__ne__',\n",
       " '__new__',\n",
       " '__reduce__',\n",
       " '__reduce_ex__',\n",
       " '__repr__',\n",
       " '__setattr__',\n",
       " '__sizeof__',\n",
       " '__str__',\n",
       " '__subclasshook__',\n",
       " '__weakref__',\n",
       " '_fps',\n",
       " '_fps_max',\n",
       " '_get_timestamp',\n",
       " '_get_timestamp_freq',\n",
       " '_has_acquired_1st_timestamp',\n",
       " '_num_images',\n",
       " '_time_base',\n",
       " '_time_elapsed',\n",
       " '_timestamp_base',\n",
       " 'elapsed_time_s',\n",
       " 'fps',\n",
       " 'fps_max',\n",
       " 'increment_num_images',\n",
       " 'num_images',\n",
       " 'reset',\n",
       " 'update_timestamp']"
      ]
     },
     "execution_count": 23,
     "metadata": {},
     "output_type": "execute_result"
    }
   ],
   "source": [
    "dir(ia.statistics)"
   ]
  },
  {
   "cell_type": "code",
   "execution_count": 35,
   "id": "3839826f",
   "metadata": {
    "ExecuteTime": {
     "end_time": "2021-05-11T17:07:27.149063Z",
     "start_time": "2021-05-11T17:07:27.128091Z"
    }
   },
   "outputs": [
    {
     "name": "stdout",
     "output_type": "stream",
     "text": [
      "2021-05-11 20:07:27.129089\n"
     ]
    },
    {
     "ename": "TypeError",
     "evalue": "_get_timestamp() missing 1 required positional argument: 'buffer'",
     "output_type": "error",
     "traceback": [
      "\u001b[1;31m---------------------------------------------------------------------------\u001b[0m",
      "\u001b[1;31mTypeError\u001b[0m                                 Traceback (most recent call last)",
      "\u001b[1;32m<ipython-input-35-b083f63c371c>\u001b[0m in \u001b[0;36m<module>\u001b[1;34m\u001b[0m\n\u001b[0;32m      1\u001b[0m \u001b[1;32mfrom\u001b[0m \u001b[0mdatetime\u001b[0m \u001b[1;32mimport\u001b[0m \u001b[0mdatetime\u001b[0m\u001b[1;33m\u001b[0m\u001b[1;33m\u001b[0m\u001b[0m\n\u001b[0;32m      2\u001b[0m \u001b[0mprint\u001b[0m\u001b[1;33m(\u001b[0m\u001b[0mdatetime\u001b[0m\u001b[1;33m.\u001b[0m\u001b[0mnow\u001b[0m\u001b[1;33m(\u001b[0m\u001b[1;33m)\u001b[0m\u001b[1;33m)\u001b[0m\u001b[1;33m\u001b[0m\u001b[1;33m\u001b[0m\u001b[0m\n\u001b[1;32m----> 3\u001b[1;33m \u001b[1;33m(\u001b[0m\u001b[0mia\u001b[0m\u001b[1;33m.\u001b[0m\u001b[0mstatistics\u001b[0m\u001b[1;33m.\u001b[0m\u001b[0m_get_timestamp\u001b[0m\u001b[1;33m(\u001b[0m\u001b[1;33m)\u001b[0m\u001b[1;33m)\u001b[0m\u001b[1;33m\u001b[0m\u001b[1;33m\u001b[0m\u001b[0m\n\u001b[0m",
      "\u001b[1;31mTypeError\u001b[0m: _get_timestamp() missing 1 required positional argument: 'buffer'"
     ]
    }
   ],
   "source": [
    "from datetime import datetime\n",
    "print(datetime.now())\n",
    "(ia.statistics._get_timestamp())"
   ]
  }
 ],
 "metadata": {
  "kernelspec": {
   "display_name": "Python [conda env:svs] *",
   "language": "python",
   "name": "conda-env-svs-py"
  },
  "language_info": {
   "codemirror_mode": {
    "name": "ipython",
    "version": 3
   },
   "file_extension": ".py",
   "mimetype": "text/x-python",
   "name": "python",
   "nbconvert_exporter": "python",
   "pygments_lexer": "ipython3",
   "version": "3.8.8"
  },
  "toc": {
   "nav_menu": {},
   "number_sections": true,
   "sideBar": true,
   "skip_h1_title": false,
   "toc_cell": false,
   "toc_position": {},
   "toc_section_display": "block",
   "toc_window_display": false
  },
  "varInspector": {
   "cols": {
    "lenName": 16,
    "lenType": 16,
    "lenVar": 40
   },
   "kernels_config": {
    "python": {
     "delete_cmd_postfix": "",
     "delete_cmd_prefix": "del ",
     "library": "var_list.py",
     "varRefreshCmd": "print(var_dic_list())"
    },
    "r": {
     "delete_cmd_postfix": ") ",
     "delete_cmd_prefix": "rm(",
     "library": "var_list.r",
     "varRefreshCmd": "cat(var_dic_list()) "
    }
   },
   "types_to_exclude": [
    "module",
    "function",
    "builtin_function_or_method",
    "instance",
    "_Feature"
   ],
   "window_display": false
  }
 },
 "nbformat": 4,
 "nbformat_minor": 5
}
