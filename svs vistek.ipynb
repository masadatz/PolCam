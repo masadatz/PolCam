{
 "cells": [
  {
   "cell_type": "code",
   "execution_count": 9,
   "id": "983a075b",
   "metadata": {
    "ExecuteTime": {
     "end_time": "2021-05-30T16:04:04.232761Z",
     "start_time": "2021-05-30T16:04:01.198837Z"
    },
    "code_folding": []
   },
   "outputs": [],
   "source": [
    "from controller import Imager"
   ]
  },
  {
   "cell_type": "code",
   "execution_count": 10,
   "id": "5b0d7aa8",
   "metadata": {
    "pycharm": {
     "name": "#%%\n"
    }
   },
   "outputs": [
    {
     "name": "stdout",
     "output_type": "stream",
     "text": [
      "Found 4 devices\n",
      "Devices IDs - ['101936', '101934', '101935', '101933']\n"
     ]
    }
   ],
   "source": [
    "imager = Imager()"
   ]
  },
  {
   "cell_type": "code",
   "execution_count": 7,
   "id": "98e22aca",
   "metadata": {
    "pycharm": {
     "name": "#%%\n"
    }
   },
   "outputs": [
    {
     "ename": "AccessException",
     "evalue": "Node is not writable. : AccessException thrown in node 'AcquisitionFrameRate' while calling 'AcquisitionFrameRate.SetValue()' (file 'FloatT.h', line 87)",
     "output_type": "error",
     "traceback": [
      "\u001b[1;31m---------------------------------------------------------------------------\u001b[0m",
      "\u001b[1;31mAccessException\u001b[0m                           Traceback (most recent call last)",
      "\u001b[1;32m<ipython-input-7-d01bc1f37c2f>\u001b[0m in \u001b[0;36m<module>\u001b[1;34m\u001b[0m\n\u001b[0;32m      1\u001b[0m \u001b[0mimager\u001b[0m\u001b[1;33m.\u001b[0m\u001b[0mcams\u001b[0m\u001b[1;33m[\u001b[0m\u001b[1;33m-\u001b[0m\u001b[1;36m1\u001b[0m\u001b[1;33m]\u001b[0m\u001b[1;33m.\u001b[0m\u001b[0mremote_device\u001b[0m\u001b[1;33m.\u001b[0m\u001b[0mnode_map\u001b[0m\u001b[1;33m.\u001b[0m\u001b[0mExposureAuto\u001b[0m\u001b[1;33m.\u001b[0m\u001b[0mvalue\u001b[0m \u001b[1;33m=\u001b[0m \u001b[1;34m'Off'\u001b[0m\u001b[1;33m\u001b[0m\u001b[1;33m\u001b[0m\u001b[0m\n\u001b[1;32m----> 2\u001b[1;33m \u001b[0mimager\u001b[0m\u001b[1;33m.\u001b[0m\u001b[0mupdate_params\u001b[0m\u001b[1;33m(\u001b[0m\u001b[0mExposureTime\u001b[0m\u001b[1;33m=\u001b[0m\u001b[1;36m20000\u001b[0m\u001b[1;33m,\u001b[0m \u001b[0mAcquisitionFrameRate\u001b[0m \u001b[1;33m=\u001b[0m \u001b[1;36m5\u001b[0m\u001b[1;33m)\u001b[0m\u001b[1;33m\u001b[0m\u001b[1;33m\u001b[0m\u001b[0m\n\u001b[0m\u001b[0;32m      3\u001b[0m \u001b[1;33m\u001b[0m\u001b[0m\n",
      "\u001b[1;32m~\\Google Drive\\CloudCT\\svs_vistek\\controller.py\u001b[0m in \u001b[0;36mupdate_params\u001b[1;34m(self, ExposureTime, PixelFormat, AcquisitionFrameRate)\u001b[0m\n\u001b[0;32m     34\u001b[0m                 \u001b[0mia\u001b[0m\u001b[1;33m.\u001b[0m\u001b[0mremote_device\u001b[0m\u001b[1;33m.\u001b[0m\u001b[0mnode_map\u001b[0m\u001b[1;33m.\u001b[0m\u001b[0mPixelFormat\u001b[0m\u001b[1;33m.\u001b[0m\u001b[0mvalue\u001b[0m \u001b[1;33m=\u001b[0m \u001b[0mPixelFormat\u001b[0m  \u001b[1;31m# .symbolics instead of .value for options\u001b[0m\u001b[1;33m\u001b[0m\u001b[1;33m\u001b[0m\u001b[0m\n\u001b[0;32m     35\u001b[0m             \u001b[1;32mif\u001b[0m \u001b[0mAcquisitionFrameRate\u001b[0m \u001b[1;32mis\u001b[0m \u001b[1;32mnot\u001b[0m \u001b[1;32mNone\u001b[0m\u001b[1;33m:\u001b[0m\u001b[1;33m\u001b[0m\u001b[1;33m\u001b[0m\u001b[0m\n\u001b[1;32m---> 36\u001b[1;33m                 \u001b[0mia\u001b[0m\u001b[1;33m.\u001b[0m\u001b[0mremote_device\u001b[0m\u001b[1;33m.\u001b[0m\u001b[0mnode_map\u001b[0m\u001b[1;33m.\u001b[0m\u001b[0mAcquisitionFrameRate\u001b[0m\u001b[1;33m.\u001b[0m\u001b[0mvalue\u001b[0m \u001b[1;33m=\u001b[0m \u001b[0mAcquisitionFrameRate\u001b[0m\u001b[1;33m\u001b[0m\u001b[1;33m\u001b[0m\u001b[0m\n\u001b[0m\u001b[0;32m     37\u001b[0m \u001b[1;33m\u001b[0m\u001b[0m\n\u001b[0;32m     38\u001b[0m     \u001b[1;32mdef\u001b[0m \u001b[0mget_temperature\u001b[0m\u001b[1;33m(\u001b[0m\u001b[0mself\u001b[0m\u001b[1;33m)\u001b[0m\u001b[1;33m:\u001b[0m\u001b[1;33m\u001b[0m\u001b[1;33m\u001b[0m\u001b[0m\n",
      "\u001b[1;32m~\\miniconda3\\envs\\imager\\lib\\site-packages\\genicam\\genapi.py\u001b[0m in \u001b[0;36m<lambda>\u001b[1;34m(self, name, value)\u001b[0m\n\u001b[0;32m   2131\u001b[0m     \u001b[1;32mfor\u001b[0m \u001b[0m_s\u001b[0m \u001b[1;32min\u001b[0m \u001b[1;33m[\u001b[0m\u001b[0mIValue\u001b[0m\u001b[1;33m]\u001b[0m\u001b[1;33m:\u001b[0m\u001b[1;33m\u001b[0m\u001b[1;33m\u001b[0m\u001b[0m\n\u001b[0;32m   2132\u001b[0m         \u001b[0m__swig_setmethods__\u001b[0m\u001b[1;33m.\u001b[0m\u001b[0mupdate\u001b[0m\u001b[1;33m(\u001b[0m\u001b[0mgetattr\u001b[0m\u001b[1;33m(\u001b[0m\u001b[0m_s\u001b[0m\u001b[1;33m,\u001b[0m \u001b[1;34m'__swig_setmethods__'\u001b[0m\u001b[1;33m,\u001b[0m \u001b[1;33m{\u001b[0m\u001b[1;33m}\u001b[0m\u001b[1;33m)\u001b[0m\u001b[1;33m)\u001b[0m\u001b[1;33m\u001b[0m\u001b[1;33m\u001b[0m\u001b[0m\n\u001b[1;32m-> 2133\u001b[1;33m     \u001b[0m__setattr__\u001b[0m \u001b[1;33m=\u001b[0m \u001b[1;32mlambda\u001b[0m \u001b[0mself\u001b[0m\u001b[1;33m,\u001b[0m \u001b[0mname\u001b[0m\u001b[1;33m,\u001b[0m \u001b[0mvalue\u001b[0m\u001b[1;33m:\u001b[0m \u001b[0m_swig_setattr\u001b[0m\u001b[1;33m(\u001b[0m\u001b[0mself\u001b[0m\u001b[1;33m,\u001b[0m \u001b[0mIFloat\u001b[0m\u001b[1;33m,\u001b[0m \u001b[0mname\u001b[0m\u001b[1;33m,\u001b[0m \u001b[0mvalue\u001b[0m\u001b[1;33m)\u001b[0m\u001b[1;33m\u001b[0m\u001b[1;33m\u001b[0m\u001b[0m\n\u001b[0m\u001b[0;32m   2134\u001b[0m     \u001b[0m__swig_getmethods__\u001b[0m \u001b[1;33m=\u001b[0m \u001b[1;33m{\u001b[0m\u001b[1;33m}\u001b[0m\u001b[1;33m\u001b[0m\u001b[1;33m\u001b[0m\u001b[0m\n\u001b[0;32m   2135\u001b[0m     \u001b[1;32mfor\u001b[0m \u001b[0m_s\u001b[0m \u001b[1;32min\u001b[0m \u001b[1;33m[\u001b[0m\u001b[0mIValue\u001b[0m\u001b[1;33m]\u001b[0m\u001b[1;33m:\u001b[0m\u001b[1;33m\u001b[0m\u001b[1;33m\u001b[0m\u001b[0m\n",
      "\u001b[1;32m~\\miniconda3\\envs\\imager\\lib\\site-packages\\genicam\\genapi.py\u001b[0m in \u001b[0;36m_swig_setattr\u001b[1;34m(self, class_type, name, value)\u001b[0m\n\u001b[0;32m     99\u001b[0m \u001b[1;33m\u001b[0m\u001b[0m\n\u001b[0;32m    100\u001b[0m \u001b[1;32mdef\u001b[0m \u001b[0m_swig_setattr\u001b[0m\u001b[1;33m(\u001b[0m\u001b[0mself\u001b[0m\u001b[1;33m,\u001b[0m \u001b[0mclass_type\u001b[0m\u001b[1;33m,\u001b[0m \u001b[0mname\u001b[0m\u001b[1;33m,\u001b[0m \u001b[0mvalue\u001b[0m\u001b[1;33m)\u001b[0m\u001b[1;33m:\u001b[0m\u001b[1;33m\u001b[0m\u001b[1;33m\u001b[0m\u001b[0m\n\u001b[1;32m--> 101\u001b[1;33m     \u001b[1;32mreturn\u001b[0m \u001b[0m_swig_setattr_nondynamic\u001b[0m\u001b[1;33m(\u001b[0m\u001b[0mself\u001b[0m\u001b[1;33m,\u001b[0m \u001b[0mclass_type\u001b[0m\u001b[1;33m,\u001b[0m \u001b[0mname\u001b[0m\u001b[1;33m,\u001b[0m \u001b[0mvalue\u001b[0m\u001b[1;33m,\u001b[0m \u001b[1;36m0\u001b[0m\u001b[1;33m)\u001b[0m\u001b[1;33m\u001b[0m\u001b[1;33m\u001b[0m\u001b[0m\n\u001b[0m\u001b[0;32m    102\u001b[0m \u001b[1;33m\u001b[0m\u001b[0m\n\u001b[0;32m    103\u001b[0m \u001b[1;33m\u001b[0m\u001b[0m\n",
      "\u001b[1;32m~\\miniconda3\\envs\\imager\\lib\\site-packages\\genicam\\genapi.py\u001b[0m in \u001b[0;36m_swig_setattr_nondynamic\u001b[1;34m(self, class_type, name, value, static)\u001b[0m\n\u001b[0;32m     91\u001b[0m     \u001b[1;32mif\u001b[0m \u001b[1;33m(\u001b[0m\u001b[1;32mnot\u001b[0m \u001b[0mstatic\u001b[0m\u001b[1;33m)\u001b[0m\u001b[1;33m:\u001b[0m\u001b[1;33m\u001b[0m\u001b[1;33m\u001b[0m\u001b[0m\n\u001b[0;32m     92\u001b[0m         \u001b[1;32mif\u001b[0m \u001b[0m_newclass\u001b[0m\u001b[1;33m:\u001b[0m\u001b[1;33m\u001b[0m\u001b[1;33m\u001b[0m\u001b[0m\n\u001b[1;32m---> 93\u001b[1;33m             \u001b[0mobject\u001b[0m\u001b[1;33m.\u001b[0m\u001b[0m__setattr__\u001b[0m\u001b[1;33m(\u001b[0m\u001b[0mself\u001b[0m\u001b[1;33m,\u001b[0m \u001b[0mname\u001b[0m\u001b[1;33m,\u001b[0m \u001b[0mvalue\u001b[0m\u001b[1;33m)\u001b[0m\u001b[1;33m\u001b[0m\u001b[1;33m\u001b[0m\u001b[0m\n\u001b[0m\u001b[0;32m     94\u001b[0m         \u001b[1;32melse\u001b[0m\u001b[1;33m:\u001b[0m\u001b[1;33m\u001b[0m\u001b[1;33m\u001b[0m\u001b[0m\n\u001b[0;32m     95\u001b[0m             \u001b[0mself\u001b[0m\u001b[1;33m.\u001b[0m\u001b[0m__dict__\u001b[0m\u001b[1;33m[\u001b[0m\u001b[0mname\u001b[0m\u001b[1;33m]\u001b[0m \u001b[1;33m=\u001b[0m \u001b[0mvalue\u001b[0m\u001b[1;33m\u001b[0m\u001b[1;33m\u001b[0m\u001b[0m\n",
      "\u001b[1;32m~\\miniconda3\\envs\\imager\\lib\\site-packages\\genicam\\genapi.py\u001b[0m in \u001b[0;36m_set_value\u001b[1;34m(self, value)\u001b[0m\n\u001b[0;32m   2226\u001b[0m \u001b[1;33m\u001b[0m\u001b[0m\n\u001b[0;32m   2227\u001b[0m     \u001b[1;32mdef\u001b[0m \u001b[0m_set_value\u001b[0m\u001b[1;33m(\u001b[0m\u001b[0mself\u001b[0m\u001b[1;33m,\u001b[0m \u001b[0mvalue\u001b[0m\u001b[1;33m)\u001b[0m\u001b[1;33m:\u001b[0m\u001b[1;33m\u001b[0m\u001b[1;33m\u001b[0m\u001b[0m\n\u001b[1;32m-> 2228\u001b[1;33m         \u001b[0mself\u001b[0m\u001b[1;33m.\u001b[0m\u001b[0m_primal_set_value\u001b[0m\u001b[1;33m(\u001b[0m\u001b[0mvalue\u001b[0m\u001b[1;33m)\u001b[0m\u001b[1;33m\u001b[0m\u001b[1;33m\u001b[0m\u001b[0m\n\u001b[0m\u001b[0;32m   2229\u001b[0m \u001b[1;33m\u001b[0m\u001b[0m\n\u001b[0;32m   2230\u001b[0m     \u001b[1;32mdef\u001b[0m \u001b[0mset_value\u001b[0m\u001b[1;33m(\u001b[0m\u001b[0mself\u001b[0m\u001b[1;33m,\u001b[0m \u001b[0mvalue\u001b[0m\u001b[1;33m,\u001b[0m \u001b[0mverify\u001b[0m \u001b[1;33m=\u001b[0m \u001b[1;32mTrue\u001b[0m\u001b[1;33m)\u001b[0m\u001b[1;33m:\u001b[0m\u001b[1;33m\u001b[0m\u001b[1;33m\u001b[0m\u001b[0m\n",
      "\u001b[1;32m~\\miniconda3\\envs\\imager\\lib\\site-packages\\genicam\\genapi.py\u001b[0m in \u001b[0;36m_primal_set_value\u001b[1;34m(self, Value, Verify)\u001b[0m\n\u001b[0;32m   2142\u001b[0m \u001b[1;33m\u001b[0m\u001b[0m\n\u001b[0;32m   2143\u001b[0m     \u001b[1;32mdef\u001b[0m \u001b[0m_primal_set_value\u001b[0m\u001b[1;33m(\u001b[0m\u001b[0mself\u001b[0m\u001b[1;33m,\u001b[0m \u001b[0mValue\u001b[0m\u001b[1;33m,\u001b[0m \u001b[0mVerify\u001b[0m\u001b[1;33m=\u001b[0m\u001b[1;32mTrue\u001b[0m\u001b[1;33m)\u001b[0m\u001b[1;33m:\u001b[0m\u001b[1;33m\u001b[0m\u001b[1;33m\u001b[0m\u001b[0m\n\u001b[1;32m-> 2144\u001b[1;33m         \u001b[1;32mreturn\u001b[0m \u001b[0m_genapi\u001b[0m\u001b[1;33m.\u001b[0m\u001b[0mIFloat__primal_set_value\u001b[0m\u001b[1;33m(\u001b[0m\u001b[0mself\u001b[0m\u001b[1;33m,\u001b[0m \u001b[0mValue\u001b[0m\u001b[1;33m,\u001b[0m \u001b[0mVerify\u001b[0m\u001b[1;33m)\u001b[0m\u001b[1;33m\u001b[0m\u001b[1;33m\u001b[0m\u001b[0m\n\u001b[0m\u001b[0;32m   2145\u001b[0m \u001b[1;33m\u001b[0m\u001b[0m\n\u001b[0;32m   2146\u001b[0m     \u001b[1;32mdef\u001b[0m \u001b[0m_primal_get_value\u001b[0m\u001b[1;33m(\u001b[0m\u001b[0mself\u001b[0m\u001b[1;33m,\u001b[0m \u001b[0mVerify\u001b[0m\u001b[1;33m=\u001b[0m\u001b[1;32mFalse\u001b[0m\u001b[1;33m,\u001b[0m \u001b[0mIgnoreCache\u001b[0m\u001b[1;33m=\u001b[0m\u001b[1;32mFalse\u001b[0m\u001b[1;33m)\u001b[0m\u001b[1;33m:\u001b[0m\u001b[1;33m\u001b[0m\u001b[1;33m\u001b[0m\u001b[0m\n",
      "\u001b[1;31mAccessException\u001b[0m: Node is not writable. : AccessException thrown in node 'AcquisitionFrameRate' while calling 'AcquisitionFrameRate.SetValue()' (file 'FloatT.h', line 87)"
     ]
    }
   ],
   "source": [
    "imager.cams[-1].remote_device.node_map.ExposureAuto.value = 'Off'\n",
    "imager.update_params(ExposureTime=20000, AcquisitionFrameRate = 5)"
   ]
  },
  {
   "cell_type": "code",
   "execution_count": 16,
   "id": "cd20f020",
   "metadata": {
    "pycharm": {
     "name": "#%%\n"
    }
   },
   "outputs": [],
   "source": [
    "PIXELFORMATS = {'8':'Mono8','12':'Mono12Packed'}\n",
    "PIXELFORMAT = PIXELFORMATS['8']\n",
    "imager.update_params(ExposureTime=20000, PixelFormat=PIXELFORMAT, AcquisitionFrameRate = 50)"
   ]
  },
  {
   "cell_type": "code",
   "execution_count": 18,
   "id": "f2073776",
   "metadata": {
    "ExecuteTime": {
     "end_time": "2021-05-30T16:04:06.417839Z",
     "start_time": "2021-05-30T16:04:06.389679Z"
    }
   },
   "outputs": [],
   "source": [
    "imager._start_acquisitions()"
   ]
  },
  {
   "cell_type": "code",
   "execution_count": 19,
   "id": "42480ec8",
   "metadata": {
    "pycharm": {
     "name": "#%%\n"
    }
   },
   "outputs": [
    {
     "name": "stdout",
     "output_type": "stream",
     "text": [
      "cam 101936 captured image of format Mono8 at 2021-06-16 17:55:51.907006\n",
      "cam 101934 captured image of format Mono8 at 2021-06-16 17:55:51.908007\n",
      "cam 101935 captured image of format Mono8 at 2021-06-16 17:55:51.909007\n",
      "cam 101933 captured image of format Mono8 at 2021-06-16 17:55:51.911007\n",
      "cam 101936 captured image of format Mono8 at 2021-06-16 17:55:52.168678\n",
      "cam 101934 captured image of format Mono8 at 2021-06-16 17:55:52.187756\n",
      "cam 101935 captured image of format Mono8 at 2021-06-16 17:55:52.190510\n",
      "cam 101933 captured image of format Mono8 at 2021-06-16 17:55:52.191760\n",
      "cam 101936 captured image of format Mono8 at 2021-06-16 17:55:52.440733\n",
      "cam 101934 captured image of format Mono8 at 2021-06-16 17:55:52.442734\n",
      "cam 101935 captured image of format Mono8 at 2021-06-16 17:55:52.443732\n",
      "cam 101933 captured image of format Mono8 at 2021-06-16 17:55:52.445733\n",
      "cam 101936 captured image of format Mono8 at 2021-06-16 17:55:52.666638\n",
      "cam 101934 captured image of format Mono8 at 2021-06-16 17:55:52.680607\n",
      "cam 101935 captured image of format Mono8 at 2021-06-16 17:55:52.712681\n",
      "cam 101933 captured image of format Mono8 at 2021-06-16 17:55:52.713676\n",
      "cam 101936 captured image of format Mono8 at 2021-06-16 17:55:52.946575\n",
      "cam 101934 captured image of format Mono8 at 2021-06-16 17:55:52.948576\n",
      "cam 101935 captured image of format Mono8 at 2021-06-16 17:55:52.949576\n",
      "cam 101933 captured image of format Mono8 at 2021-06-16 17:55:52.951575\n",
      "cam 101936 captured image of format Mono8 at 2021-06-16 17:55:53.269886\n",
      "cam 101934 captured image of format Mono8 at 2021-06-16 17:55:53.271889\n",
      "cam 101935 captured image of format Mono8 at 2021-06-16 17:55:53.273889\n",
      "cam 101933 captured image of format Mono8 at 2021-06-16 17:55:53.274888\n",
      "cam 101936 captured image of format Mono8 at 2021-06-16 17:55:53.502457\n",
      "cam 101934 captured image of format Mono8 at 2021-06-16 17:55:53.504457\n",
      "cam 101935 captured image of format Mono8 at 2021-06-16 17:55:53.505457\n",
      "cam 101933 captured image of format Mono8 at 2021-06-16 17:55:53.506457\n",
      "cam 101936 captured image of format Mono8 at 2021-06-16 17:55:53.755401\n",
      "cam 101934 captured image of format Mono8 at 2021-06-16 17:55:53.762402\n",
      "cam 101935 captured image of format Mono8 at 2021-06-16 17:55:53.763405\n",
      "cam 101933 captured image of format Mono8 at 2021-06-16 17:55:53.764402\n",
      "cam 101936 captured image of format Mono8 at 2021-06-16 17:55:54.015306\n",
      "cam 101934 captured image of format Mono8 at 2021-06-16 17:55:54.057562\n",
      "cam 101935 captured image of format Mono8 at 2021-06-16 17:55:54.059563\n",
      "cam 101933 captured image of format Mono8 at 2021-06-16 17:55:54.060562\n",
      "cam 101936 captured image of format Mono8 at 2021-06-16 17:55:54.343255\n",
      "cam 101934 captured image of format Mono8 at 2021-06-16 17:55:54.367791\n",
      "cam 101935 captured image of format Mono8 at 2021-06-16 17:55:54.369791\n",
      "cam 101933 captured image of format Mono8 at 2021-06-16 17:55:54.370791\n",
      "cam 101936 captured image of format Mono8 at 2021-06-16 17:55:54.582048\n",
      "cam 101934 captured image of format Mono8 at 2021-06-16 17:55:54.584049\n",
      "cam 101935 captured image of format Mono8 at 2021-06-16 17:55:54.585049\n",
      "cam 101933 captured image of format Mono8 at 2021-06-16 17:55:54.586049\n",
      "cam 101936 captured image of format Mono8 at 2021-06-16 17:55:54.800813\n",
      "cam 101934 captured image of format Mono8 at 2021-06-16 17:55:54.827082\n",
      "cam 101935 captured image of format Mono8 at 2021-06-16 17:55:54.841222\n",
      "cam 101933 captured image of format Mono8 at 2021-06-16 17:55:54.857824\n",
      "cam 101936 captured image of format Mono8 at 2021-06-16 17:55:55.096780\n",
      "cam 101934 captured image of format Mono8 at 2021-06-16 17:55:55.097780\n",
      "cam 101935 captured image of format Mono8 at 2021-06-16 17:55:55.099780\n",
      "cam 101933 captured image of format Mono8 at 2021-06-16 17:55:55.100780\n",
      "cam 101936 captured image of format Mono8 at 2021-06-16 17:55:55.411262\n",
      "cam 101934 captured image of format Mono8 at 2021-06-16 17:55:55.412263\n",
      "cam 101935 captured image of format Mono8 at 2021-06-16 17:55:55.414262\n",
      "cam 101933 captured image of format Mono8 at 2021-06-16 17:55:55.415262\n",
      "cam 101936 captured image of format Mono8 at 2021-06-16 17:55:55.640648\n",
      "cam 101934 captured image of format Mono8 at 2021-06-16 17:55:55.657287\n",
      "cam 101935 captured image of format Mono8 at 2021-06-16 17:55:55.688153\n",
      "cam 101933 captured image of format Mono8 at 2021-06-16 17:55:55.690154\n",
      "cam 101936 captured image of format Mono8 at 2021-06-16 17:55:55.902664\n",
      "cam 101934 captured image of format Mono8 at 2021-06-16 17:55:55.904665\n",
      "cam 101935 captured image of format Mono8 at 2021-06-16 17:55:55.905668\n",
      "cam 101933 captured image of format Mono8 at 2021-06-16 17:55:55.907665\n",
      "cam 101936 captured image of format Mono8 at 2021-06-16 17:55:56.146196\n",
      "cam 101934 captured image of format Mono8 at 2021-06-16 17:55:56.191551\n",
      "cam 101935 captured image of format Mono8 at 2021-06-16 17:55:56.193378\n",
      "cam 101933 captured image of format Mono8 at 2021-06-16 17:55:56.194378\n",
      "cam 101936 captured image of format Mono8 at 2021-06-16 17:55:56.419372\n",
      "cam 101934 captured image of format Mono8 at 2021-06-16 17:55:56.424379\n",
      "cam 101935 captured image of format Mono8 at 2021-06-16 17:55:56.426372\n",
      "cam 101933 captured image of format Mono8 at 2021-06-16 17:55:56.427373\n",
      "cam 101936 captured image of format Mono8 at 2021-06-16 17:55:56.709530\n",
      "cam 101934 captured image of format Mono8 at 2021-06-16 17:55:56.862664\n",
      "cam 101935 captured image of format Mono8 at 2021-06-16 17:55:56.863664\n",
      "cam 101933 captured image of format Mono8 at 2021-06-16 17:55:56.865664\n",
      "cam 101936 captured image of format Mono8 at 2021-06-16 17:55:57.090530\n",
      "cam 101934 captured image of format Mono8 at 2021-06-16 17:55:57.143749\n",
      "cam 101935 captured image of format Mono8 at 2021-06-16 17:55:57.144748\n",
      "cam 101933 captured image of format Mono8 at 2021-06-16 17:55:57.146749\n",
      "cam 101936 captured image of format Mono8 at 2021-06-16 17:55:57.411177\n",
      "cam 101934 captured image of format Mono8 at 2021-06-16 17:55:57.426213\n",
      "cam 101935 captured image of format Mono8 at 2021-06-16 17:55:57.428213\n",
      "cam 101933 captured image of format Mono8 at 2021-06-16 17:55:57.429215\n",
      "cam 101936 captured image of format Mono8 at 2021-06-16 17:55:57.666754\n",
      "cam 101934 captured image of format Mono8 at 2021-06-16 17:55:57.681183\n",
      "cam 101935 captured image of format Mono8 at 2021-06-16 17:55:57.697831\n",
      "cam 101933 captured image of format Mono8 at 2021-06-16 17:55:57.707537\n",
      "cam 101936 captured image of format Mono8 at 2021-06-16 17:55:57.958012\n",
      "cam 101934 captured image of format Mono8 at 2021-06-16 17:55:57.960012\n",
      "cam 101935 captured image of format Mono8 at 2021-06-16 17:55:57.961014\n",
      "cam 101933 captured image of format Mono8 at 2021-06-16 17:55:57.962012\n",
      "cam 101936 captured image of format Mono8 at 2021-06-16 17:55:58.232146\n",
      "cam 101934 captured image of format Mono8 at 2021-06-16 17:55:58.233176\n",
      "cam 101935 captured image of format Mono8 at 2021-06-16 17:55:58.234178\n",
      "cam 101933 captured image of format Mono8 at 2021-06-16 17:55:58.236178\n",
      "cam 101936 captured image of format Mono8 at 2021-06-16 17:55:58.460046\n",
      "cam 101934 captured image of format Mono8 at 2021-06-16 17:55:58.462047\n",
      "cam 101935 captured image of format Mono8 at 2021-06-16 17:55:58.463047\n",
      "cam 101933 captured image of format Mono8 at 2021-06-16 17:55:58.464048\n",
      "cam 101936 captured image of format Mono8 at 2021-06-16 17:55:58.706908\n",
      "cam 101934 captured image of format Mono8 at 2021-06-16 17:55:58.743978\n",
      "cam 101935 captured image of format Mono8 at 2021-06-16 17:55:58.744979\n",
      "cam 101933 captured image of format Mono8 at 2021-06-16 17:55:58.746979\n",
      "cam 101936 captured image of format Mono8 at 2021-06-16 17:55:59.038209\n",
      "cam 101934 captured image of format Mono8 at 2021-06-16 17:55:59.040209\n",
      "cam 101935 captured image of format Mono8 at 2021-06-16 17:55:59.041209\n",
      "cam 101933 captured image of format Mono8 at 2021-06-16 17:55:59.042210\n",
      "cam 101936 captured image of format Mono8 at 2021-06-16 17:55:59.297157\n",
      "cam 101934 captured image of format Mono8 at 2021-06-16 17:55:59.307604\n",
      "cam 101935 captured image of format Mono8 at 2021-06-16 17:55:59.308602\n",
      "cam 101933 captured image of format Mono8 at 2021-06-16 17:55:59.309601\n",
      "cam 101936 captured image of format Mono8 at 2021-06-16 17:55:59.632441\n",
      "cam 101934 captured image of format Mono8 at 2021-06-16 17:55:59.633443\n",
      "cam 101935 captured image of format Mono8 at 2021-06-16 17:55:59.634443\n",
      "cam 101933 captured image of format Mono8 at 2021-06-16 17:55:59.635442\n",
      "cam 101936 captured image of format Mono8 at 2021-06-16 17:55:59.860197\n",
      "cam 101934 captured image of format Mono8 at 2021-06-16 17:55:59.875226\n",
      "cam 101935 captured image of format Mono8 at 2021-06-16 17:55:59.898008\n",
      "cam 101933 captured image of format Mono8 at 2021-06-16 17:55:59.899008\n",
      "cam 101936 captured image of format Mono8 at 2021-06-16 17:56:00.160548\n",
      "cam 101934 captured image of format Mono8 at 2021-06-16 17:56:00.161549\n",
      "cam 101935 captured image of format Mono8 at 2021-06-16 17:56:00.163550\n",
      "cam 101933 captured image of format Mono8 at 2021-06-16 17:56:00.211239\n",
      "cam 101936 captured image of format Mono8 at 2021-06-16 17:56:00.426199\n",
      "cam 101934 captured image of format Mono8 at 2021-06-16 17:56:00.458511\n",
      "cam 101935 captured image of format Mono8 at 2021-06-16 17:56:00.459511\n",
      "cam 101933 captured image of format Mono8 at 2021-06-16 17:56:00.461511\n",
      "cam 101936 captured image of format Mono8 at 2021-06-16 17:56:00.672549\n",
      "cam 101934 captured image of format Mono8 at 2021-06-16 17:56:00.706772\n",
      "cam 101935 captured image of format Mono8 at 2021-06-16 17:56:00.717772\n",
      "cam 101933 captured image of format Mono8 at 2021-06-16 17:56:00.748319\n",
      "cam 101936 captured image of format Mono8 at 2021-06-16 17:56:00.977552\n",
      "cam 101934 captured image of format Mono8 at 2021-06-16 17:56:01.007944\n",
      "cam 101935 captured image of format Mono8 at 2021-06-16 17:56:01.008946\n",
      "cam 101933 captured image of format Mono8 at 2021-06-16 17:56:01.010946\n",
      "cam 101936 captured image of format Mono8 at 2021-06-16 17:56:01.227476\n",
      "cam 101934 captured image of format Mono8 at 2021-06-16 17:56:01.229473\n",
      "cam 101935 captured image of format Mono8 at 2021-06-16 17:56:01.230474\n",
      "cam 101933 captured image of format Mono8 at 2021-06-16 17:56:01.231473\n",
      "cam 101936 captured image of format Mono8 at 2021-06-16 17:56:01.469864\n",
      "cam 101934 captured image of format Mono8 at 2021-06-16 17:56:01.470865\n",
      "cam 101935 captured image of format Mono8 at 2021-06-16 17:56:01.473865\n",
      "cam 101933 captured image of format Mono8 at 2021-06-16 17:56:01.474865\n",
      "cam 101936 captured image of format Mono8 at 2021-06-16 17:56:01.721711\n",
      "cam 101934 captured image of format Mono8 at 2021-06-16 17:56:01.723708\n",
      "cam 101935 captured image of format Mono8 at 2021-06-16 17:56:01.724708\n",
      "cam 101933 captured image of format Mono8 at 2021-06-16 17:56:01.725708\n",
      "cam 101936 captured image of format Mono8 at 2021-06-16 17:56:01.975128\n",
      "cam 101934 captured image of format Mono8 at 2021-06-16 17:56:01.986867\n",
      "cam 101935 captured image of format Mono8 at 2021-06-16 17:56:01.988868\n",
      "cam 101933 captured image of format Mono8 at 2021-06-16 17:56:02.005524\n",
      "cam 101936 captured image of format Mono8 at 2021-06-16 17:56:02.267558\n",
      "cam 101934 captured image of format Mono8 at 2021-06-16 17:56:02.268559\n",
      "cam 101935 captured image of format Mono8 at 2021-06-16 17:56:02.269559\n",
      "cam 101933 captured image of format Mono8 at 2021-06-16 17:56:02.270558\n",
      "cam 101936 captured image of format Mono8 at 2021-06-16 17:56:02.480878\n",
      "cam 101934 captured image of format Mono8 at 2021-06-16 17:56:02.495514\n",
      "cam 101935 captured image of format Mono8 at 2021-06-16 17:56:02.507522\n",
      "cam 101933 captured image of format Mono8 at 2021-06-16 17:56:02.525946\n",
      "cam 101936 captured image of format Mono8 at 2021-06-16 17:56:02.743045\n",
      "cam 101934 captured image of format Mono8 at 2021-06-16 17:56:02.744046\n",
      "cam 101935 captured image of format Mono8 at 2021-06-16 17:56:02.745046\n",
      "cam 101933 captured image of format Mono8 at 2021-06-16 17:56:02.747046\n",
      "cam 101936 captured image of format Mono8 at 2021-06-16 17:56:03.001947\n",
      "cam 101934 captured image of format Mono8 at 2021-06-16 17:56:03.017939\n",
      "cam 101935 captured image of format Mono8 at 2021-06-16 17:56:03.019940\n",
      "cam 101933 captured image of format Mono8 at 2021-06-16 17:56:03.020941\n",
      "cam 101936 captured image of format Mono8 at 2021-06-16 17:56:03.248933\n",
      "cam 101934 captured image of format Mono8 at 2021-06-16 17:56:03.249933\n",
      "cam 101935 captured image of format Mono8 at 2021-06-16 17:56:03.250933\n",
      "cam 101933 captured image of format Mono8 at 2021-06-16 17:56:03.251933\n",
      "cam 101936 captured image of format Mono8 at 2021-06-16 17:56:03.477238\n",
      "cam 101934 captured image of format Mono8 at 2021-06-16 17:56:03.479239\n",
      "cam 101935 captured image of format Mono8 at 2021-06-16 17:56:03.480239\n",
      "cam 101933 captured image of format Mono8 at 2021-06-16 17:56:03.481239\n",
      "cam 101936 captured image of format Mono8 at 2021-06-16 17:56:03.691797\n",
      "cam 101934 captured image of format Mono8 at 2021-06-16 17:56:03.704251\n",
      "cam 101935 captured image of format Mono8 at 2021-06-16 17:56:03.706253\n",
      "cam 101933 captured image of format Mono8 at 2021-06-16 17:56:03.753272\n",
      "cam 101936 captured image of format Mono8 at 2021-06-16 17:56:04.029536\n",
      "cam 101934 captured image of format Mono8 at 2021-06-16 17:56:04.042118\n",
      "cam 101935 captured image of format Mono8 at 2021-06-16 17:56:04.044119\n",
      "cam 101933 captured image of format Mono8 at 2021-06-16 17:56:04.075725\n",
      "cam 101936 captured image of format Mono8 at 2021-06-16 17:56:04.377289\n",
      "cam 101934 captured image of format Mono8 at 2021-06-16 17:56:04.378290\n",
      "cam 101935 captured image of format Mono8 at 2021-06-16 17:56:04.380289\n",
      "cam 101933 captured image of format Mono8 at 2021-06-16 17:56:04.396095\n",
      "cam 101936 captured image of format Mono8 at 2021-06-16 17:56:04.641457\n",
      "cam 101934 captured image of format Mono8 at 2021-06-16 17:56:04.642449\n",
      "cam 101935 captured image of format Mono8 at 2021-06-16 17:56:04.644447\n",
      "cam 101933 captured image of format Mono8 at 2021-06-16 17:56:04.645447\n",
      "cam 101936 captured image of format Mono8 at 2021-06-16 17:56:04.900660\n",
      "cam 101934 captured image of format Mono8 at 2021-06-16 17:56:04.904352\n",
      "cam 101935 captured image of format Mono8 at 2021-06-16 17:56:04.906326\n",
      "cam 101933 captured image of format Mono8 at 2021-06-16 17:56:04.907323\n",
      "cam 101936 captured image of format Mono8 at 2021-06-16 17:56:05.148167\n",
      "cam 101934 captured image of format Mono8 at 2021-06-16 17:56:05.149166\n",
      "cam 101935 captured image of format Mono8 at 2021-06-16 17:56:05.150166\n",
      "cam 101933 captured image of format Mono8 at 2021-06-16 17:56:05.151165\n"
     ]
    }
   ],
   "source": [
    "# imager.get_images(show_images=True, save_images=False)\n",
    "raw_images = imager.capture_sequence(num_frames=50, sleep_seconds=0.2)"
   ]
  },
  {
   "cell_type": "code",
   "execution_count": 5,
   "id": "ee157fc6",
   "metadata": {
    "pycharm": {
     "name": "#%%\n"
    }
   },
   "outputs": [
    {
     "name": "stdout",
     "output_type": "stream",
     "text": [
      "cam 101936 captured image of format Mono8 at 2021-06-16 17:51:26.743861\n",
      "cam 101934 captured image of format Mono8 at 2021-06-16 17:51:26.833860\n",
      "cam 101935 captured image of format Mono8 at 2021-06-16 17:51:26.889859\n",
      "cam 101933 captured image of format Mono8 at 2021-06-16 17:51:26.919860\n",
      "cam 192900073 captured image of format BayerRG8 at 2021-06-16 17:51:26.965369\n",
      "cam 101936 captured image of format Mono8 at 2021-06-16 17:51:27.310368\n",
      "cam 101934 captured image of format Mono8 at 2021-06-16 17:51:27.325369\n",
      "cam 101935 captured image of format Mono8 at 2021-06-16 17:51:27.355368\n",
      "cam 101933 captured image of format Mono8 at 2021-06-16 17:51:27.360367\n",
      "cam 192900073 captured image of format BayerRG8 at 2021-06-16 17:51:27.361368\n",
      "cam 101936 captured image of format Mono8 at 2021-06-16 17:51:27.700897\n",
      "cam 101934 captured image of format Mono8 at 2021-06-16 17:51:27.711897\n",
      "cam 101935 captured image of format Mono8 at 2021-06-16 17:51:27.760904\n",
      "cam 101933 captured image of format Mono8 at 2021-06-16 17:51:27.820895\n",
      "cam 192900073 captured image of format BayerRG8 at 2021-06-16 17:51:27.850896\n",
      "cam 101936 captured image of format Mono8 at 2021-06-16 17:51:28.180893\n",
      "cam 101934 captured image of format Mono8 at 2021-06-16 17:51:28.255893\n",
      "cam 101935 captured image of format Mono8 at 2021-06-16 17:51:28.281893\n",
      "cam 101933 captured image of format Mono8 at 2021-06-16 17:51:28.315893\n",
      "cam 192900073 captured image of format BayerRG8 at 2021-06-16 17:51:28.336892\n",
      "cam 101936 captured image of format Mono8 at 2021-06-16 17:51:28.675890\n",
      "cam 101934 captured image of format Mono8 at 2021-06-16 17:51:28.795890\n",
      "cam 101935 captured image of format Mono8 at 2021-06-16 17:51:28.810889\n",
      "cam 101933 captured image of format Mono8 at 2021-06-16 17:51:28.825890\n",
      "cam 192900073 captured image of format BayerRG8 at 2021-06-16 17:51:28.844890\n",
      "cam 101936 captured image of format Mono8 at 2021-06-16 17:51:29.156396\n",
      "cam 101934 captured image of format Mono8 at 2021-06-16 17:51:29.161396\n",
      "cam 101935 captured image of format Mono8 at 2021-06-16 17:51:29.231464\n",
      "cam 101933 captured image of format Mono8 at 2021-06-16 17:51:29.261395\n",
      "cam 192900073 captured image of format BayerRG8 at 2021-06-16 17:51:29.267394\n",
      "cam 101936 captured image of format Mono8 at 2021-06-16 17:51:29.651742\n",
      "cam 101934 captured image of format Mono8 at 2021-06-16 17:51:29.753743\n",
      "cam 101935 captured image of format Mono8 at 2021-06-16 17:51:29.755742\n",
      "cam 101933 captured image of format Mono8 at 2021-06-16 17:51:29.771741\n",
      "cam 192900073 captured image of format BayerRG8 at 2021-06-16 17:51:29.801741\n",
      "cam 101936 captured image of format Mono8 at 2021-06-16 17:51:30.146739\n",
      "cam 101934 captured image of format Mono8 at 2021-06-16 17:51:30.326740\n",
      "cam 101935 captured image of format Mono8 at 2021-06-16 17:51:30.333738\n",
      "cam 101933 captured image of format Mono8 at 2021-06-16 17:51:30.334739\n",
      "cam 192900073 captured image of format BayerRG8 at 2021-06-16 17:51:30.336739\n",
      "cam 101936 captured image of format Mono8 at 2021-06-16 17:51:30.717245\n",
      "cam 101934 captured image of format Mono8 at 2021-06-16 17:51:30.732245\n",
      "cam 101935 captured image of format Mono8 at 2021-06-16 17:51:30.822245\n",
      "cam 101933 captured image of format Mono8 at 2021-06-16 17:51:30.837243\n",
      "cam 192900073 captured image of format BayerRG8 at 2021-06-16 17:51:30.852244\n",
      "cam 101936 captured image of format Mono8 at 2021-06-16 17:51:31.322751\n",
      "cam 101934 captured image of format Mono8 at 2021-06-16 17:51:31.365759\n",
      "cam 101935 captured image of format Mono8 at 2021-06-16 17:51:31.377751\n",
      "cam 101933 captured image of format Mono8 at 2021-06-16 17:51:31.407750\n",
      "cam 192900073 captured image of format BayerRG8 at 2021-06-16 17:51:31.437750\n",
      "cam 101936 captured image of format Mono8 at 2021-06-16 17:51:31.798256\n",
      "cam 101934 captured image of format Mono8 at 2021-06-16 17:51:31.873256\n",
      "cam 101935 captured image of format Mono8 at 2021-06-16 17:51:31.917257\n",
      "cam 101933 captured image of format Mono8 at 2021-06-16 17:51:31.933265\n",
      "cam 192900073 captured image of format BayerRG8 at 2021-06-16 17:51:31.963255\n",
      "cam 101936 captured image of format Mono8 at 2021-06-16 17:51:32.278762\n",
      "cam 101934 captured image of format Mono8 at 2021-06-16 17:51:32.293763\n",
      "cam 101935 captured image of format Mono8 at 2021-06-16 17:51:32.308764\n",
      "cam 101933 captured image of format Mono8 at 2021-06-16 17:51:32.342762\n",
      "cam 192900073 captured image of format BayerRG8 at 2021-06-16 17:51:32.372762\n",
      "cam 101936 captured image of format Mono8 at 2021-06-16 17:51:32.669268\n",
      "cam 101934 captured image of format Mono8 at 2021-06-16 17:51:32.717267\n",
      "cam 101935 captured image of format Mono8 at 2021-06-16 17:51:32.749267\n",
      "cam 101933 captured image of format Mono8 at 2021-06-16 17:51:32.751268\n",
      "cam 192900073 captured image of format BayerRG8 at 2021-06-16 17:51:32.752268\n",
      "cam 101936 captured image of format Mono8 at 2021-06-16 17:51:33.044265\n",
      "cam 101934 captured image of format Mono8 at 2021-06-16 17:51:33.050266\n",
      "cam 101935 captured image of format Mono8 at 2021-06-16 17:51:33.052267\n",
      "cam 101933 captured image of format Mono8 at 2021-06-16 17:51:33.053267\n",
      "cam 192900073 captured image of format BayerRG8 at 2021-06-16 17:51:33.054267\n",
      "cam 101936 captured image of format Mono8 at 2021-06-16 17:51:33.524774\n",
      "cam 101934 captured image of format Mono8 at 2021-06-16 17:51:33.537775\n",
      "cam 101935 captured image of format Mono8 at 2021-06-16 17:51:33.538775\n",
      "cam 101933 captured image of format Mono8 at 2021-06-16 17:51:33.569773\n",
      "cam 192900073 captured image of format BayerRG8 at 2021-06-16 17:51:33.614773\n",
      "cam 101936 captured image of format Mono8 at 2021-06-16 17:51:33.944772\n",
      "cam 101934 captured image of format Mono8 at 2021-06-16 17:51:34.003772\n",
      "cam 101935 captured image of format Mono8 at 2021-06-16 17:51:34.049770\n",
      "cam 101933 captured image of format Mono8 at 2021-06-16 17:51:34.112771\n",
      "cam 192900073 captured image of format BayerRG8 at 2021-06-16 17:51:34.118772\n",
      "cam 101936 captured image of format Mono8 at 2021-06-16 17:51:34.605277\n",
      "cam 101934 captured image of format Mono8 at 2021-06-16 17:51:34.620275\n",
      "cam 101935 captured image of format Mono8 at 2021-06-16 17:51:34.655276\n",
      "cam 101933 captured image of format Mono8 at 2021-06-16 17:51:34.656275\n",
      "cam 192900073 captured image of format BayerRG8 at 2021-06-16 17:51:34.658278\n",
      "cam 101936 captured image of format Mono8 at 2021-06-16 17:51:35.010273\n",
      "cam 101934 captured image of format Mono8 at 2021-06-16 17:51:35.029274\n",
      "cam 101935 captured image of format Mono8 at 2021-06-16 17:51:35.085273\n",
      "cam 101933 captured image of format Mono8 at 2021-06-16 17:51:35.130272\n",
      "cam 192900073 captured image of format BayerRG8 at 2021-06-16 17:51:35.136273\n",
      "cam 101936 captured image of format Mono8 at 2021-06-16 17:51:35.385272\n",
      "cam 101934 captured image of format Mono8 at 2021-06-16 17:51:35.490270\n",
      "cam 101935 captured image of format Mono8 at 2021-06-16 17:51:35.520270\n",
      "cam 101933 captured image of format Mono8 at 2021-06-16 17:51:35.525270\n",
      "cam 192900073 captured image of format BayerRG8 at 2021-06-16 17:51:35.532271\n",
      "cam 101936 captured image of format Mono8 at 2021-06-16 17:51:35.940777\n",
      "cam 101934 captured image of format Mono8 at 2021-06-16 17:51:35.975776\n",
      "cam 101935 captured image of format Mono8 at 2021-06-16 17:51:36.030775\n",
      "cam 101933 captured image of format Mono8 at 2021-06-16 17:51:36.060784\n",
      "cam 192900073 captured image of format BayerRG8 at 2021-06-16 17:51:36.105775\n",
      "cam 101936 captured image of format Mono8 at 2021-06-16 17:51:36.480774\n",
      "cam 101934 captured image of format Mono8 at 2021-06-16 17:51:36.532772\n",
      "cam 101935 captured image of format Mono8 at 2021-06-16 17:51:36.533773\n",
      "cam 101933 captured image of format Mono8 at 2021-06-16 17:51:36.534773\n",
      "cam 192900073 captured image of format BayerRG8 at 2021-06-16 17:51:36.536774\n",
      "cam 101936 captured image of format Mono8 at 2021-06-16 17:51:36.826279\n",
      "cam 101934 captured image of format Mono8 at 2021-06-16 17:51:36.946279\n",
      "cam 101935 captured image of format Mono8 at 2021-06-16 17:51:36.991278\n",
      "cam 101933 captured image of format Mono8 at 2021-06-16 17:51:37.066278\n",
      "cam 192900073 captured image of format BayerRG8 at 2021-06-16 17:51:37.111278\n",
      "cam 101936 captured image of format Mono8 at 2021-06-16 17:51:37.396867\n",
      "cam 101934 captured image of format Mono8 at 2021-06-16 17:51:37.401788\n",
      "cam 101935 captured image of format Mono8 at 2021-06-16 17:51:37.402787\n",
      "cam 101933 captured image of format Mono8 at 2021-06-16 17:51:37.404786\n",
      "cam 192900073 captured image of format BayerRG8 at 2021-06-16 17:51:37.405786\n",
      "cam 101936 captured image of format Mono8 at 2021-06-16 17:51:37.786784\n",
      "cam 101934 captured image of format Mono8 at 2021-06-16 17:51:37.816792\n",
      "cam 101935 captured image of format Mono8 at 2021-06-16 17:51:37.846783\n",
      "cam 101933 captured image of format Mono8 at 2021-06-16 17:51:37.876783\n",
      "cam 192900073 captured image of format BayerRG8 at 2021-06-16 17:51:37.891784\n",
      "cam 101936 captured image of format Mono8 at 2021-06-16 17:51:38.346291\n",
      "cam 101934 captured image of format Mono8 at 2021-06-16 17:51:38.348290\n",
      "cam 101935 captured image of format Mono8 at 2021-06-16 17:51:38.349292\n",
      "cam 101933 captured image of format Mono8 at 2021-06-16 17:51:38.351291\n",
      "cam 192900073 captured image of format BayerRG8 at 2021-06-16 17:51:38.352290\n",
      "cam 101936 captured image of format Mono8 at 2021-06-16 17:51:38.927795\n",
      "cam 101934 captured image of format Mono8 at 2021-06-16 17:51:38.961796\n",
      "cam 101935 captured image of format Mono8 at 2021-06-16 17:51:39.018030\n",
      "cam 101933 captured image of format Mono8 at 2021-06-16 17:51:39.033301\n",
      "cam 192900073 captured image of format BayerRG8 at 2021-06-16 17:51:39.108302\n",
      "cam 101936 captured image of format Mono8 at 2021-06-16 17:51:39.513298\n",
      "cam 101934 captured image of format Mono8 at 2021-06-16 17:51:39.543300\n",
      "cam 101935 captured image of format Mono8 at 2021-06-16 17:51:39.548299\n",
      "cam 101933 captured image of format Mono8 at 2021-06-16 17:51:39.550299\n",
      "cam 192900073 captured image of format BayerRG8 at 2021-06-16 17:51:39.551299\n",
      "cam 101936 captured image of format Mono8 at 2021-06-16 17:51:39.918297\n",
      "cam 101934 captured image of format Mono8 at 2021-06-16 17:51:40.008804\n",
      "cam 101935 captured image of format Mono8 at 2021-06-16 17:51:40.038804\n",
      "cam 101933 captured image of format Mono8 at 2021-06-16 17:51:40.113805\n",
      "cam 192900073 captured image of format BayerRG8 at 2021-06-16 17:51:40.119805\n",
      "cam 101936 captured image of format Mono8 at 2021-06-16 17:51:40.398804\n",
      "cam 101934 captured image of format Mono8 at 2021-06-16 17:51:40.473810\n",
      "cam 101935 captured image of format Mono8 at 2021-06-16 17:51:40.503803\n",
      "cam 101933 captured image of format Mono8 at 2021-06-16 17:51:40.533802\n",
      "cam 192900073 captured image of format BayerRG8 at 2021-06-16 17:51:40.683800\n",
      "cam 101936 captured image of format Mono8 at 2021-06-16 17:51:41.103798\n",
      "cam 101934 captured image of format Mono8 at 2021-06-16 17:51:41.122797\n",
      "cam 101935 captured image of format Mono8 at 2021-06-16 17:51:41.124799\n",
      "cam 101933 captured image of format Mono8 at 2021-06-16 17:51:41.126799\n",
      "cam 192900073 captured image of format BayerRG8 at 2021-06-16 17:51:41.127798\n",
      "cam 101936 captured image of format Mono8 at 2021-06-16 17:51:41.464307\n",
      "cam 101934 captured image of format Mono8 at 2021-06-16 17:51:41.479308\n",
      "cam 101935 captured image of format Mono8 at 2021-06-16 17:51:41.494307\n",
      "cam 101933 captured image of format Mono8 at 2021-06-16 17:51:41.528308\n",
      "cam 192900073 captured image of format BayerRG8 at 2021-06-16 17:51:41.532307\n",
      "cam 101936 captured image of format Mono8 at 2021-06-16 17:51:41.884814\n",
      "cam 101934 captured image of format Mono8 at 2021-06-16 17:51:41.914814\n",
      "cam 101935 captured image of format Mono8 at 2021-06-16 17:51:41.923816\n",
      "cam 101933 captured image of format Mono8 at 2021-06-16 17:51:41.925814\n",
      "cam 192900073 captured image of format BayerRG8 at 2021-06-16 17:51:41.926816\n",
      "cam 101936 captured image of format Mono8 at 2021-06-16 17:51:42.517811\n",
      "cam 101934 captured image of format Mono8 at 2021-06-16 17:51:42.549810\n",
      "cam 101935 captured image of format Mono8 at 2021-06-16 17:51:42.550813\n",
      "cam 101933 captured image of format Mono8 at 2021-06-16 17:51:42.552811\n",
      "cam 192900073 captured image of format BayerRG8 at 2021-06-16 17:51:42.554811\n",
      "cam 101936 captured image of format Mono8 at 2021-06-16 17:51:42.880318\n",
      "cam 101934 captured image of format Mono8 at 2021-06-16 17:51:42.905317\n",
      "cam 101935 captured image of format Mono8 at 2021-06-16 17:51:42.920318\n",
      "cam 101933 captured image of format Mono8 at 2021-06-16 17:51:42.956317\n",
      "cam 192900073 captured image of format BayerRG8 at 2021-06-16 17:51:42.957318\n",
      "cam 101936 captured image of format Mono8 at 2021-06-16 17:51:43.355315\n",
      "cam 101934 captured image of format Mono8 at 2021-06-16 17:51:43.408315\n",
      "cam 101935 captured image of format Mono8 at 2021-06-16 17:51:43.410315\n",
      "cam 101933 captured image of format Mono8 at 2021-06-16 17:51:43.411316\n",
      "cam 192900073 captured image of format BayerRG8 at 2021-06-16 17:51:43.412315\n",
      "cam 101936 captured image of format Mono8 at 2021-06-16 17:51:43.805420\n",
      "cam 101934 captured image of format Mono8 at 2021-06-16 17:51:43.820421\n",
      "cam 101935 captured image of format Mono8 at 2021-06-16 17:51:43.895419\n",
      "cam 101933 captured image of format Mono8 at 2021-06-16 17:51:44.000419\n",
      "cam 192900073 captured image of format BayerRG8 at 2021-06-16 17:51:44.120928\n",
      "cam 101936 captured image of format Mono8 at 2021-06-16 17:51:44.390925\n",
      "cam 101934 captured image of format Mono8 at 2021-06-16 17:51:44.396925\n",
      "cam 101935 captured image of format Mono8 at 2021-06-16 17:51:44.397925\n",
      "cam 101933 captured image of format Mono8 at 2021-06-16 17:51:44.398925\n",
      "cam 192900073 captured image of format BayerRG8 at 2021-06-16 17:51:44.399926\n",
      "cam 101936 captured image of format Mono8 at 2021-06-16 17:51:44.750922\n",
      "cam 101934 captured image of format Mono8 at 2021-06-16 17:51:44.795923\n",
      "cam 101935 captured image of format Mono8 at 2021-06-16 17:51:44.815923\n",
      "cam 101933 captured image of format Mono8 at 2021-06-16 17:51:44.870921\n",
      "cam 192900073 captured image of format BayerRG8 at 2021-06-16 17:51:44.885922\n",
      "cam 101936 captured image of format Mono8 at 2021-06-16 17:51:45.426429\n",
      "cam 101934 captured image of format Mono8 at 2021-06-16 17:51:45.486429\n",
      "cam 101935 captured image of format Mono8 at 2021-06-16 17:51:45.513429\n",
      "cam 101933 captured image of format Mono8 at 2021-06-16 17:51:45.546429\n",
      "cam 192900073 captured image of format BayerRG8 at 2021-06-16 17:51:45.551429\n",
      "cam 101936 captured image of format Mono8 at 2021-06-16 17:51:46.011425\n",
      "cam 101934 captured image of format Mono8 at 2021-06-16 17:51:46.056506\n",
      "cam 101935 captured image of format Mono8 at 2021-06-16 17:51:46.086504\n",
      "cam 101933 captured image of format Mono8 at 2021-06-16 17:51:46.146504\n",
      "cam 192900073 captured image of format BayerRG8 at 2021-06-16 17:51:46.176503\n",
      "cam 101936 captured image of format Mono8 at 2021-06-16 17:51:46.506501\n",
      "cam 101934 captured image of format Mono8 at 2021-06-16 17:51:46.541502\n",
      "cam 101935 captured image of format Mono8 at 2021-06-16 17:51:46.542501\n",
      "cam 101933 captured image of format Mono8 at 2021-06-16 17:51:46.543501\n",
      "cam 192900073 captured image of format BayerRG8 at 2021-06-16 17:51:46.545504\n",
      "cam 101936 captured image of format Mono8 at 2021-06-16 17:51:46.882015\n",
      "cam 101934 captured image of format Mono8 at 2021-06-16 17:51:46.932007\n",
      "cam 101935 captured image of format Mono8 at 2021-06-16 17:51:46.938007\n",
      "cam 101933 captured image of format Mono8 at 2021-06-16 17:51:46.940007\n",
      "cam 192900073 captured image of format BayerRG8 at 2021-06-16 17:51:46.941008\n",
      "cam 101936 captured image of format Mono8 at 2021-06-16 17:51:47.411513\n",
      "cam 101934 captured image of format Mono8 at 2021-06-16 17:51:47.412513\n",
      "cam 101935 captured image of format Mono8 at 2021-06-16 17:51:47.414513\n",
      "cam 101933 captured image of format Mono8 at 2021-06-16 17:51:47.415515\n",
      "cam 192900073 captured image of format BayerRG8 at 2021-06-16 17:51:47.416513\n",
      "cam 101936 captured image of format Mono8 at 2021-06-16 17:51:47.782520\n",
      "cam 101934 captured image of format Mono8 at 2021-06-16 17:51:47.797511\n",
      "cam 101935 captured image of format Mono8 at 2021-06-16 17:51:47.857511\n",
      "cam 101933 captured image of format Mono8 at 2021-06-16 17:51:47.891511\n",
      "cam 192900073 captured image of format BayerRG8 at 2021-06-16 17:51:47.893510\n",
      "cam 101936 captured image of format Mono8 at 2021-06-16 17:51:48.278020\n",
      "cam 101934 captured image of format Mono8 at 2021-06-16 17:51:48.323019\n",
      "cam 101935 captured image of format Mono8 at 2021-06-16 17:51:48.358019\n",
      "cam 101933 captured image of format Mono8 at 2021-06-16 17:51:48.359019\n",
      "cam 192900073 captured image of format BayerRG8 at 2021-06-16 17:51:48.360019\n",
      "cam 101936 captured image of format Mono8 at 2021-06-16 17:51:48.718017\n",
      "cam 101934 captured image of format Mono8 at 2021-06-16 17:51:48.720017\n",
      "cam 101935 captured image of format Mono8 at 2021-06-16 17:51:48.721017\n",
      "cam 101933 captured image of format Mono8 at 2021-06-16 17:51:48.722017\n",
      "cam 192900073 captured image of format BayerRG8 at 2021-06-16 17:51:48.723016\n",
      "cam 101936 captured image of format Mono8 at 2021-06-16 17:51:49.013015\n",
      "cam 101934 captured image of format Mono8 at 2021-06-16 17:51:49.028014\n",
      "cam 101935 captured image of format Mono8 at 2021-06-16 17:51:49.088014\n",
      "cam 101933 captured image of format Mono8 at 2021-06-16 17:51:49.122015\n",
      "cam 192900073 captured image of format BayerRG8 at 2021-06-16 17:51:49.132013\n",
      "cam 101936 captured image of format Mono8 at 2021-06-16 17:51:49.613520\n",
      "cam 101934 captured image of format Mono8 at 2021-06-16 17:51:49.628520\n",
      "cam 101935 captured image of format Mono8 at 2021-06-16 17:51:49.643520\n",
      "cam 101933 captured image of format Mono8 at 2021-06-16 17:51:49.658520\n",
      "cam 192900073 captured image of format BayerRG8 at 2021-06-16 17:51:49.673605\n",
      "cam 101936 captured image of format Mono8 at 2021-06-16 17:51:49.973518\n",
      "cam 101934 captured image of format Mono8 at 2021-06-16 17:51:50.003519\n",
      "cam 101935 captured image of format Mono8 at 2021-06-16 17:51:50.132519\n",
      "cam 101933 captured image of format Mono8 at 2021-06-16 17:51:50.137518\n",
      "cam 192900073 captured image of format BayerRG8 at 2021-06-16 17:51:50.198517\n",
      "cam 101936 captured image of format Mono8 at 2021-06-16 17:51:50.483515\n",
      "cam 101934 captured image of format Mono8 at 2021-06-16 17:51:50.588514\n",
      "cam 101935 captured image of format Mono8 at 2021-06-16 17:51:50.608514\n",
      "cam 101933 captured image of format Mono8 at 2021-06-16 17:51:50.610515\n",
      "cam 192900073 captured image of format BayerRG8 at 2021-06-16 17:51:50.611516\n"
     ]
    }
   ],
   "source": [
    "# imager.get_images(show_images=True, save_images=False)\n",
    "raw_images = imager.capture_sequence(num_frames=50, sleep_seconds=0.2)"
   ]
  },
  {
   "cell_type": "code",
   "execution_count": 20,
   "id": "f6527997",
   "metadata": {
    "pycharm": {
     "name": "#%%\n"
    }
   },
   "outputs": [],
   "source": [
    "imager._stop_acquisitions()"
   ]
  },
  {
   "cell_type": "code",
   "execution_count": 8,
   "id": "488a53b6",
   "metadata": {
    "ExecuteTime": {
     "end_time": "2021-05-30T16:03:56.475178Z",
     "start_time": "2021-05-30T16:03:56.150319Z"
    },
    "pycharm": {
     "name": "#%%\n"
    }
   },
   "outputs": [],
   "source": [
    "imager.clear_all()\n"
   ]
  },
  {
   "cell_type": "code",
   "execution_count": 22,
   "id": "6d0d9240",
   "metadata": {
    "pycharm": {
     "name": "#%%\n"
    }
   },
   "outputs": [
    {
     "data": {
      "text/plain": [
       "'Off'"
      ]
     },
     "execution_count": 22,
     "metadata": {},
     "output_type": "execute_result"
    }
   ],
   "source": [
    "imager.cams[-1].remote_device.node_map.ExposureAuto.value = 'Off'"
   ]
  },
  {
   "cell_type": "code",
   "execution_count": 10,
   "id": "a3b91d64",
   "metadata": {
    "pycharm": {
     "name": "#%%\n"
    }
   },
   "outputs": [
    {
     "data": {
      "text/plain": [
       "(5, 2048, 2448)"
      ]
     },
     "execution_count": 10,
     "metadata": {},
     "output_type": "execute_result"
    }
   ],
   "source": [
    "import numpy as np\n",
    "np.array(raw_images[0]).shape"
   ]
  },
  {
   "cell_type": "code",
   "execution_count": 11,
   "id": "6aa46cd2",
   "metadata": {
    "pycharm": {
     "name": "#%%\n"
    }
   },
   "outputs": [],
   "source": [
    "num_frames =10\n",
    "\n",
    "arr = np.empty((num_frames,5,2048,2448), dtype='uint8')\n",
    "for frame_num in range(num_frames):\n",
    "    arr[frame_num] = np.array(raw_images[frame_num])"
   ]
  },
  {
   "cell_type": "code",
   "execution_count": null,
   "id": "0b6f5814",
   "metadata": {
    "pycharm": {
     "name": "#%%\n"
    }
   },
   "outputs": [],
   "source": []
  },
  {
   "cell_type": "code",
   "execution_count": 25,
   "id": "d8cd8bde",
   "metadata": {
    "pycharm": {
     "name": "#%%\n"
    }
   },
   "outputs": [],
   "source": [
    "import pickle\n",
    "pickle.dump(raw_images, open(\"dump3.pkl\", 'wb'))"
   ]
  },
  {
   "cell_type": "code",
   "execution_count": 14,
   "id": "1c5a473e",
   "metadata": {
    "pycharm": {
     "name": "#%%\n"
    }
   },
   "outputs": [],
   "source": [
    "np.save('arr', arr)"
   ]
  },
  {
   "cell_type": "code",
   "execution_count": null,
   "id": "9cba5bce",
   "metadata": {
    "pycharm": {
     "name": "#%%\n"
    }
   },
   "outputs": [],
   "source": []
  }
 ],
 "metadata": {
  "kernelspec": {
   "display_name": "Python [conda env:imager] *",
   "language": "python",
   "name": "conda-env-imager-py"
  },
  "language_info": {
   "codemirror_mode": {
    "name": "ipython",
    "version": 3
   },
   "file_extension": ".py",
   "mimetype": "text/x-python",
   "name": "python",
   "nbconvert_exporter": "python",
   "pygments_lexer": "ipython3",
   "version": "3.8.10"
  },
  "toc": {
   "nav_menu": {},
   "number_sections": true,
   "sideBar": true,
   "skip_h1_title": false,
   "toc_cell": false,
   "toc_position": {},
   "toc_section_display": "block",
   "toc_window_display": false
  },
  "varInspector": {
   "cols": {
    "lenName": 16,
    "lenType": 16,
    "lenVar": 40
   },
   "kernels_config": {
    "python": {
     "delete_cmd_postfix": "",
     "delete_cmd_prefix": "del ",
     "library": "var_list.py",
     "varRefreshCmd": "print(var_dic_list())"
    },
    "r": {
     "delete_cmd_postfix": ") ",
     "delete_cmd_prefix": "rm(",
     "library": "var_list.r",
     "varRefreshCmd": "cat(var_dic_list()) "
    }
   },
   "position": {
    "height": "346.4px",
    "left": "1139px",
    "right": "20px",
    "top": "86px",
    "width": "350px"
   },
   "types_to_exclude": [
    "module",
    "function",
    "builtin_function_or_method",
    "instance",
    "_Feature"
   ],
   "window_display": false
  }
 },
 "nbformat": 4,
 "nbformat_minor": 5
}
