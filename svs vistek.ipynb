{
 "cells": [
  {
   "cell_type": "code",
   "execution_count": 35,
   "id": "983a075b",
   "metadata": {
    "ExecuteTime": {
     "end_time": "2021-05-30T16:04:04.232761Z",
     "start_time": "2021-05-30T16:04:01.198837Z"
    },
    "code_folding": []
   },
   "outputs": [
    {
     "name": "stdout",
     "output_type": "stream",
     "text": [
      "Found 2 devices\n",
      "Devices IDs - ['101935', '192900073']\n"
     ]
    }
   ],
   "source": [
    "# Based on - https://github.com/genicam/harvesters\n",
    "\n",
    "from harvesters.core import Harvester\n",
    "from PIL import Image\n",
    "from datetime import datetime \n",
    "import time\n",
    "import copy\n",
    "class Imager:\n",
    "    def __init__(self):\n",
    "        self.h = Harvester()\n",
    "        self.h.add_file(r'C:\\\\Program Files\\\\SVS-VISTEK GmbH\\\\SVCam Kit\\\\TLUsb\\\\bin\\\\sv_u3v_tl_x64.cti') \n",
    "        self.h.add_file(r'C:\\Program Files\\SVS-VISTEK GmbH\\SVCam Kit\\TLGigE\\bin\\\\sv_gev_tl_x64.cti') \n",
    "        self.h.update()\n",
    "        num_devices = len(self.h.device_info_list)\n",
    "        print(f\"Found {num_devices} devices\") # see all cameras\n",
    "        if num_devices == 0:\n",
    "            print(\"No devices found. If the camera is connected - call imager.clear_all() or restart the kernel and try again.\")\n",
    "        self.serial_ids = [info.serial_number for info in self.h.device_info_list]\n",
    "        print(f\"Devices IDs - {self.serial_ids}\") # see all cameras\n",
    "        self.cams = [self.h.create_image_acquirer(serial_number=_id) for _id in self.serial_ids]\n",
    "        \n",
    "    def get_camera_params(self):\n",
    "        \"\"\"\n",
    "        List of possible parameters to adjust\"\"\"\n",
    "        print(dir(self.cams[0].remote_device.node_map)) # see all parameters\n",
    "\n",
    "    def update_params(self, ExposureTime, PixelFormat, AcquisitionFrameRate):\n",
    "        for ia in self.cams:\n",
    "            ia.remote_device.node_map.ExposureTime.value = ExposureTime # for example, change exposure time\n",
    "            ia.remote_device.node_map.PixelFormat.value = PixelFormat # .symbolics instead of .value for options\n",
    "            ia.remote_device.node_map.AcquisitionFrameRate.value = AcquisitionFrameRate\n",
    "    \n",
    "    def get_temperature(self):\n",
    "        for ia in self.cams:\n",
    "            print(ia.remote_device.node_map.DeviceTemperature.value)\n",
    "            \n",
    "    def _start_acquisitions(self):\n",
    "        for ia in self.cams:\n",
    "            ia.start_acquisition(run_in_background=True) # Start capturing images\n",
    "\n",
    "    def _stop_acquisitions(self):\n",
    "        for ia in self.cams:\n",
    "            ia.stop_acquisition() # stop capturing images\n",
    "            \n",
    "    def process_components_to_images(self, components):\n",
    "        images = []\n",
    "        for component in components:\n",
    "\n",
    "            _2d = data.reshape(component.height, component.width)\n",
    "            print(_2d.min(), _2d.max())\n",
    "            images.append(Image.fromarray(_2d))\n",
    "        return images\n",
    "    \n",
    "    def show_images(self):\n",
    "        for img, img_time, cam_id in self.images:\n",
    "            img.show()\n",
    "            img.save(f'{cam_id}_{img_time.strftime(\"%Y_%m_%d_%H%M%S\")}.jpeg')\n",
    "            \n",
    "    def get_images(self, show_images):\n",
    "        images_with_times=[]\n",
    "        for cam_id, ia in zip(self.serial_ids, self.cams):\n",
    "            # acquire and save an image\n",
    "            cur_time = datetime.now()\n",
    "\n",
    "            with ia.fetch_buffer() as buffer: \n",
    "                component = buffer.payload.components[0]\n",
    "                print(f\"cam {cam_id} captured image of format {component.data_format} at {cur_time}\")\n",
    "                if component.data_format == 'Mono12Packed':\n",
    "                    data = component.data >> 4\n",
    "                else:\n",
    "                    data = component.data\n",
    "                _2d = component.data.reshape(component.height, component.width)\n",
    "\n",
    "                img = Image.fromarray(copy.deepcopy(_2d))\n",
    "#                 img.show()\n",
    "#                 img.save(f'{cam_id}_{cur_time.strftime(\"%Y_%m_%d_%H%M%S\")}.jpeg')\n",
    "                images_with_times.append((img, cur_time, cam_id))\n",
    "\n",
    "        self.images = images_with_times\n",
    "\n",
    "    def clear_all(self):\n",
    "        for ia in self.cams:\n",
    "            ia.destroy()\n",
    "        self.h.reset()\n",
    "\n",
    "\n",
    "imager = Imager()"
   ]
  },
  {
   "cell_type": "code",
   "execution_count": 36,
   "id": "68b6b020",
   "metadata": {
    "ExecuteTime": {
     "end_time": "2021-05-30T16:04:05.202154Z",
     "start_time": "2021-05-30T16:04:04.692413Z"
    }
   },
   "outputs": [],
   "source": [
    "imager._start_acquisitions()"
   ]
  },
  {
   "cell_type": "code",
   "execution_count": 37,
   "id": "f2073776",
   "metadata": {
    "ExecuteTime": {
     "end_time": "2021-05-30T16:04:06.417839Z",
     "start_time": "2021-05-30T16:04:06.389679Z"
    }
   },
   "outputs": [
    {
     "name": "stdout",
     "output_type": "stream",
     "text": [
      "cam 101935 captured image of format Mono8 at 2021-05-30 19:04:06.390677\n",
      "cam 192900073 captured image of format BayerRG8 at 2021-05-30 19:04:06.394676\n"
     ]
    }
   ],
   "source": [
    "#imager.update_params(ExposureTime=30000, PixelFormat='Mono8', AcquisitionFrameRate = 10)\n",
    "imager.get_images(show_images=True)\n",
    "#imager.get_images(show_images=True)"
   ]
  },
  {
   "cell_type": "code",
   "execution_count": 38,
   "id": "149bb7ba",
   "metadata": {
    "ExecuteTime": {
     "end_time": "2021-05-30T16:04:24.154548Z",
     "start_time": "2021-05-30T16:04:20.094062Z"
    }
   },
   "outputs": [],
   "source": [
    "imager.show_images()"
   ]
  },
  {
   "cell_type": "code",
   "execution_count": 34,
   "id": "488a53b6",
   "metadata": {
    "ExecuteTime": {
     "end_time": "2021-05-30T16:03:56.475178Z",
     "start_time": "2021-05-30T16:03:56.150319Z"
    }
   },
   "outputs": [],
   "source": [
    "imager._stop_acquisitions()\n",
    "imager.clear_all()"
   ]
  },
  {
   "cell_type": "code",
   "execution_count": null,
   "id": "a76d48e4",
   "metadata": {},
   "outputs": [],
   "source": []
  }
 ],
 "metadata": {
  "kernelspec": {
   "display_name": "Python [conda env:svs] *",
   "language": "python",
   "name": "conda-env-svs-py"
  },
  "language_info": {
   "codemirror_mode": {
    "name": "ipython",
    "version": 3
   },
   "file_extension": ".py",
   "mimetype": "text/x-python",
   "name": "python",
   "nbconvert_exporter": "python",
   "pygments_lexer": "ipython3",
   "version": "3.8.8"
  },
  "toc": {
   "nav_menu": {},
   "number_sections": true,
   "sideBar": true,
   "skip_h1_title": false,
   "toc_cell": false,
   "toc_position": {},
   "toc_section_display": "block",
   "toc_window_display": false
  },
  "varInspector": {
   "cols": {
    "lenName": 16,
    "lenType": 16,
    "lenVar": 40
   },
   "kernels_config": {
    "python": {
     "delete_cmd_postfix": "",
     "delete_cmd_prefix": "del ",
     "library": "var_list.py",
     "varRefreshCmd": "print(var_dic_list())"
    },
    "r": {
     "delete_cmd_postfix": ") ",
     "delete_cmd_prefix": "rm(",
     "library": "var_list.r",
     "varRefreshCmd": "cat(var_dic_list()) "
    }
   },
   "position": {
    "height": "346.4px",
    "left": "1139px",
    "right": "20px",
    "top": "86px",
    "width": "350px"
   },
   "types_to_exclude": [
    "module",
    "function",
    "builtin_function_or_method",
    "instance",
    "_Feature"
   ],
   "window_display": false
  }
 },
 "nbformat": 4,
 "nbformat_minor": 5
}
