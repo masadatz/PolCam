{
 "cells": [
  {
   "cell_type": "code",
   "execution_count": 1,
   "id": "983a075b",
   "metadata": {
    "ExecuteTime": {
     "end_time": "2021-05-30T16:04:04.232761Z",
     "start_time": "2021-05-30T16:04:01.198837Z"
    },
    "code_folding": []
   },
   "outputs": [],
   "source": [
    "from controller import Imager"
   ]
  },
  {
   "cell_type": "code",
   "execution_count": 2,
   "id": "5b0d7aa8",
   "metadata": {
    "pycharm": {
     "name": "#%%\n"
    }
   },
   "outputs": [
    {
     "name": "stdout",
     "output_type": "stream",
     "text": [
      "Found 2 devices\n",
      "Devices IDs - ['101934', '192900073']\n"
     ]
    },
    {
     "ename": "ErrorException",
     "evalue": "GenTL exception: Unspecified runtime exception. (Message from the source: GC_ERR_ERROR) (ID: -1001)",
     "output_type": "error",
     "traceback": [
      "\u001B[1;31m---------------------------------------------------------------------------\u001B[0m",
      "\u001B[1;31mErrorException\u001B[0m                            Traceback (most recent call last)",
      "\u001B[1;32m<ipython-input-2-2b5afedc92d5>\u001B[0m in \u001B[0;36m<module>\u001B[1;34m\u001B[0m\n\u001B[1;32m----> 1\u001B[1;33m \u001B[0mimager\u001B[0m \u001B[1;33m=\u001B[0m \u001B[0mImager\u001B[0m\u001B[1;33m(\u001B[0m\u001B[1;33m)\u001B[0m\u001B[1;33m\u001B[0m\u001B[1;33m\u001B[0m\u001B[0m\n\u001B[0m\u001B[0;32m      2\u001B[0m \u001B[1;33m\u001B[0m\u001B[0m\n",
      "\u001B[1;32m~\\Google Drive\\CloudCT\\svs_vistek\\controller.py\u001B[0m in \u001B[0;36m__init__\u001B[1;34m(self)\u001B[0m\n\u001B[0;32m     31\u001B[0m         \u001B[0mself\u001B[0m\u001B[1;33m.\u001B[0m\u001B[0mserial_ids\u001B[0m \u001B[1;33m=\u001B[0m \u001B[1;33m[\u001B[0m\u001B[0minfo\u001B[0m\u001B[1;33m.\u001B[0m\u001B[0mserial_number\u001B[0m \u001B[1;32mfor\u001B[0m \u001B[0minfo\u001B[0m \u001B[1;32min\u001B[0m \u001B[0mself\u001B[0m\u001B[1;33m.\u001B[0m\u001B[0mh\u001B[0m\u001B[1;33m.\u001B[0m\u001B[0mdevice_info_list\u001B[0m\u001B[1;33m]\u001B[0m\u001B[1;33m\u001B[0m\u001B[1;33m\u001B[0m\u001B[0m\n\u001B[0;32m     32\u001B[0m         \u001B[0mprint\u001B[0m\u001B[1;33m(\u001B[0m\u001B[1;34mf\"Devices IDs - {self.serial_ids}\"\u001B[0m\u001B[1;33m)\u001B[0m  \u001B[1;31m# see all cameras\u001B[0m\u001B[1;33m\u001B[0m\u001B[1;33m\u001B[0m\u001B[0m\n\u001B[1;32m---> 33\u001B[1;33m         \u001B[0mself\u001B[0m\u001B[1;33m.\u001B[0m\u001B[0mcams\u001B[0m \u001B[1;33m=\u001B[0m \u001B[1;33m[\u001B[0m\u001B[0mself\u001B[0m\u001B[1;33m.\u001B[0m\u001B[0mh\u001B[0m\u001B[1;33m.\u001B[0m\u001B[0mcreate_image_acquirer\u001B[0m\u001B[1;33m(\u001B[0m\u001B[0mserial_number\u001B[0m\u001B[1;33m=\u001B[0m\u001B[0m_id\u001B[0m\u001B[1;33m)\u001B[0m \u001B[1;32mfor\u001B[0m \u001B[0m_id\u001B[0m \u001B[1;32min\u001B[0m \u001B[0mself\u001B[0m\u001B[1;33m.\u001B[0m\u001B[0mserial_ids\u001B[0m\u001B[1;33m]\u001B[0m\u001B[1;33m\u001B[0m\u001B[1;33m\u001B[0m\u001B[0m\n\u001B[0m\u001B[0;32m     34\u001B[0m \u001B[1;33m\u001B[0m\u001B[0m\n\u001B[0;32m     35\u001B[0m     \u001B[1;32mdef\u001B[0m \u001B[0mget_camera_params\u001B[0m\u001B[1;33m(\u001B[0m\u001B[0mself\u001B[0m\u001B[1;33m)\u001B[0m\u001B[1;33m:\u001B[0m\u001B[1;33m\u001B[0m\u001B[1;33m\u001B[0m\u001B[0m\n",
      "\u001B[1;32m~\\Google Drive\\CloudCT\\svs_vistek\\controller.py\u001B[0m in \u001B[0;36m<listcomp>\u001B[1;34m(.0)\u001B[0m\n\u001B[0;32m     31\u001B[0m         \u001B[0mself\u001B[0m\u001B[1;33m.\u001B[0m\u001B[0mserial_ids\u001B[0m \u001B[1;33m=\u001B[0m \u001B[1;33m[\u001B[0m\u001B[0minfo\u001B[0m\u001B[1;33m.\u001B[0m\u001B[0mserial_number\u001B[0m \u001B[1;32mfor\u001B[0m \u001B[0minfo\u001B[0m \u001B[1;32min\u001B[0m \u001B[0mself\u001B[0m\u001B[1;33m.\u001B[0m\u001B[0mh\u001B[0m\u001B[1;33m.\u001B[0m\u001B[0mdevice_info_list\u001B[0m\u001B[1;33m]\u001B[0m\u001B[1;33m\u001B[0m\u001B[1;33m\u001B[0m\u001B[0m\n\u001B[0;32m     32\u001B[0m         \u001B[0mprint\u001B[0m\u001B[1;33m(\u001B[0m\u001B[1;34mf\"Devices IDs - {self.serial_ids}\"\u001B[0m\u001B[1;33m)\u001B[0m  \u001B[1;31m# see all cameras\u001B[0m\u001B[1;33m\u001B[0m\u001B[1;33m\u001B[0m\u001B[0m\n\u001B[1;32m---> 33\u001B[1;33m         \u001B[0mself\u001B[0m\u001B[1;33m.\u001B[0m\u001B[0mcams\u001B[0m \u001B[1;33m=\u001B[0m \u001B[1;33m[\u001B[0m\u001B[0mself\u001B[0m\u001B[1;33m.\u001B[0m\u001B[0mh\u001B[0m\u001B[1;33m.\u001B[0m\u001B[0mcreate_image_acquirer\u001B[0m\u001B[1;33m(\u001B[0m\u001B[0mserial_number\u001B[0m\u001B[1;33m=\u001B[0m\u001B[0m_id\u001B[0m\u001B[1;33m)\u001B[0m \u001B[1;32mfor\u001B[0m \u001B[0m_id\u001B[0m \u001B[1;32min\u001B[0m \u001B[0mself\u001B[0m\u001B[1;33m.\u001B[0m\u001B[0mserial_ids\u001B[0m\u001B[1;33m]\u001B[0m\u001B[1;33m\u001B[0m\u001B[1;33m\u001B[0m\u001B[0m\n\u001B[0m\u001B[0;32m     34\u001B[0m \u001B[1;33m\u001B[0m\u001B[0m\n\u001B[0;32m     35\u001B[0m     \u001B[1;32mdef\u001B[0m \u001B[0mget_camera_params\u001B[0m\u001B[1;33m(\u001B[0m\u001B[0mself\u001B[0m\u001B[1;33m)\u001B[0m\u001B[1;33m:\u001B[0m\u001B[1;33m\u001B[0m\u001B[1;33m\u001B[0m\u001B[0m\n",
      "\u001B[1;32m~\\miniconda3\\envs\\imager\\lib\\site-packages\\harvesters\\core.py\u001B[0m in \u001B[0;36mcreate_image_acquirer\u001B[1;34m(self, list_index, id_, vendor, model, tl_type, user_defined_name, serial_number, version, sleep_duration, file_path, privilege)\u001B[0m\n\u001B[0;32m   3323\u001B[0m \u001B[1;33m\u001B[0m\u001B[0m\n\u001B[0;32m   3324\u001B[0m             \u001B[1;31m#\u001B[0m\u001B[1;33m\u001B[0m\u001B[1;33m\u001B[0m\u001B[1;33m\u001B[0m\u001B[0m\n\u001B[1;32m-> 3325\u001B[1;33m             \u001B[0mdevice\u001B[0m\u001B[1;33m.\u001B[0m\u001B[0mopen\u001B[0m\u001B[1;33m(\u001B[0m\u001B[0m_privilege\u001B[0m\u001B[1;33m)\u001B[0m\u001B[1;33m\u001B[0m\u001B[1;33m\u001B[0m\u001B[0m\n\u001B[0m\u001B[0;32m   3326\u001B[0m \u001B[1;33m\u001B[0m\u001B[0m\n\u001B[0;32m   3327\u001B[0m         \u001B[1;32mexcept\u001B[0m \u001B[0mGenericException\u001B[0m \u001B[1;32mas\u001B[0m \u001B[0me\u001B[0m\u001B[1;33m:\u001B[0m\u001B[1;33m\u001B[0m\u001B[1;33m\u001B[0m\u001B[0m\n",
      "\u001B[1;32m~\\miniconda3\\envs\\imager\\lib\\site-packages\\genicam\\gentl.py\u001B[0m in \u001B[0;36mopen\u001B[1;34m(self, accessFlags)\u001B[0m\n\u001B[0;32m   3187\u001B[0m \u001B[1;33m\u001B[0m\u001B[0m\n\u001B[0;32m   3188\u001B[0m         \"\"\"\n\u001B[1;32m-> 3189\u001B[1;33m         \u001B[1;32mreturn\u001B[0m \u001B[0m_gentl\u001B[0m\u001B[1;33m.\u001B[0m\u001B[0mDevice_open\u001B[0m\u001B[1;33m(\u001B[0m\u001B[0mself\u001B[0m\u001B[1;33m,\u001B[0m \u001B[0maccessFlags\u001B[0m\u001B[1;33m)\u001B[0m\u001B[1;33m\u001B[0m\u001B[1;33m\u001B[0m\u001B[0m\n\u001B[0m\u001B[0;32m   3190\u001B[0m \u001B[1;33m\u001B[0m\u001B[0m\n\u001B[0;32m   3191\u001B[0m \u001B[1;33m\u001B[0m\u001B[0m\n",
      "\u001B[1;31mErrorException\u001B[0m: GenTL exception: Unspecified runtime exception. (Message from the source: GC_ERR_ERROR) (ID: -1001)"
     ]
    }
   ],
   "source": [
    "imager = Imager()"
   ]
  },
  {
   "cell_type": "code",
   "execution_count": 10,
   "id": "98e22aca",
   "metadata": {
    "pycharm": {
     "name": "#%%\n"
    }
   },
   "outputs": [
    {
     "ename": "IndexError",
     "evalue": "list index out of range",
     "output_type": "error",
     "traceback": [
      "\u001B[1;31m---------------------------------------------------------------------------\u001B[0m",
      "\u001B[1;31mIndexError\u001B[0m                                Traceback (most recent call last)",
      "\u001B[1;32m<ipython-input-10-58085fb47d2d>\u001B[0m in \u001B[0;36m<module>\u001B[1;34m\u001B[0m\n\u001B[0;32m      1\u001B[0m \u001B[1;31m# pydev_debug_cell\u001B[0m\u001B[1;33m\u001B[0m\u001B[1;33m\u001B[0m\u001B[1;33m\u001B[0m\u001B[0m\n\u001B[1;32m----> 2\u001B[1;33m \u001B[0mimager\u001B[0m\u001B[1;33m.\u001B[0m\u001B[0mcams\u001B[0m\u001B[1;33m[\u001B[0m\u001B[1;33m-\u001B[0m\u001B[1;36m1\u001B[0m\u001B[1;33m]\u001B[0m\u001B[1;33m.\u001B[0m\u001B[0mremote_device\u001B[0m\u001B[1;33m.\u001B[0m\u001B[0mnode_map\u001B[0m\u001B[1;33m.\u001B[0m\u001B[0mExposureAuto\u001B[0m\u001B[1;33m.\u001B[0m\u001B[0mvalue\u001B[0m \u001B[1;33m=\u001B[0m \u001B[1;34m'Off'\u001B[0m\u001B[1;33m\u001B[0m\u001B[1;33m\u001B[0m\u001B[0m\n\u001B[0m\u001B[0;32m      3\u001B[0m \u001B[0mPIXELFORMATS\u001B[0m \u001B[1;33m=\u001B[0m \u001B[1;33m{\u001B[0m\u001B[1;34m'8'\u001B[0m\u001B[1;33m:\u001B[0m\u001B[1;34m'Mono8'\u001B[0m\u001B[1;33m,\u001B[0m\u001B[1;34m'12'\u001B[0m\u001B[1;33m:\u001B[0m\u001B[1;34m'Mono12Packed'\u001B[0m\u001B[1;33m}\u001B[0m\u001B[1;33m\u001B[0m\u001B[1;33m\u001B[0m\u001B[0m\n\u001B[0;32m      4\u001B[0m \u001B[0mPIXELFORMAT\u001B[0m \u001B[1;33m=\u001B[0m \u001B[0mPIXELFORMATS\u001B[0m\u001B[1;33m[\u001B[0m\u001B[1;34m'12'\u001B[0m\u001B[1;33m]\u001B[0m\u001B[1;33m\u001B[0m\u001B[1;33m\u001B[0m\u001B[0m\n\u001B[0;32m      5\u001B[0m \u001B[0mimager\u001B[0m\u001B[1;33m.\u001B[0m\u001B[0mupdate_params\u001B[0m\u001B[1;33m(\u001B[0m\u001B[0mExposureTime\u001B[0m\u001B[1;33m=\u001B[0m\u001B[1;36m20000\u001B[0m\u001B[1;33m,\u001B[0m \u001B[0mPixelFormat\u001B[0m\u001B[1;33m=\u001B[0m\u001B[0mPIXELFORMAT\u001B[0m\u001B[1;33m,\u001B[0m \u001B[0mAcquisitionFrameRate\u001B[0m \u001B[1;33m=\u001B[0m \u001B[1;36m50\u001B[0m\u001B[1;33m)\u001B[0m\u001B[1;33m\u001B[0m\u001B[1;33m\u001B[0m\u001B[0m\n",
      "\u001B[1;31mIndexError\u001B[0m: list index out of range"
     ]
    }
   ],
   "source": [
    "imager.cams[-1].remote_device.node_map.ExposureAuto.value = 'Off'\n",
    "PIXELFORMATS = {'8':'Mono8','12':'Mono12Packed'}\n",
    "PIXELFORMAT = PIXELFORMATS['12']\n",
    "imager.update_params(ExposureTime=20000, PixelFormat=PIXELFORMAT, AcquisitionFrameRate = 50)"
   ]
  },
  {
   "cell_type": "code",
   "execution_count": 1,
   "id": "f2073776",
   "metadata": {
    "ExecuteTime": {
     "end_time": "2021-05-30T16:04:06.417839Z",
     "start_time": "2021-05-30T16:04:06.389679Z"
    }
   },
   "outputs": [
    {
     "ename": "NameError",
     "evalue": "name 'imager' is not defined",
     "output_type": "error",
     "traceback": [
      "\u001B[1;31m---------------------------------------------------------------------------\u001B[0m",
      "\u001B[1;31mNameError\u001B[0m                                 Traceback (most recent call last)",
      "\u001B[1;32m<ipython-input-1-fc620c041ec5>\u001B[0m in \u001B[0;36m<module>\u001B[1;34m\u001B[0m\n\u001B[0;32m      1\u001B[0m \u001B[1;31m#imager._start_acquisitions()\u001B[0m\u001B[1;33m\u001B[0m\u001B[1;33m\u001B[0m\u001B[1;33m\u001B[0m\u001B[0m\n\u001B[1;32m----> 2\u001B[1;33m \u001B[0mimager\u001B[0m\u001B[1;33m.\u001B[0m\u001B[0m_stop_acquisitions\u001B[0m\u001B[1;33m(\u001B[0m\u001B[1;33m)\u001B[0m\u001B[1;33m\u001B[0m\u001B[1;33m\u001B[0m\u001B[0m\n\u001B[0m",
      "\u001B[1;31mNameError\u001B[0m: name 'imager' is not defined"
     ]
    }
   ],
   "source": [
    "imager._start_acquisitions()\n",
    "#imager._stop_acquisitions()"
   ]
  },
  {
   "cell_type": "code",
   "execution_count": 1,
   "id": "e595e6b4",
   "metadata": {},
   "outputs": [
    {
     "ename": "NameError",
     "evalue": "name 'imager' is not defined",
     "output_type": "error",
     "traceback": [
      "\u001B[1;31m---------------------------------------------------------------------------\u001B[0m",
      "\u001B[1;31mNameError\u001B[0m                                 Traceback (most recent call last)",
      "\u001B[1;32m<ipython-input-1-0e33807e9ae2>\u001B[0m in \u001B[0;36m<module>\u001B[1;34m\u001B[0m\n\u001B[0;32m     10\u001B[0m \u001B[0mn\u001B[0m\u001B[1;33m=\u001B[0m \u001B[1;36m25\u001B[0m\u001B[1;33m\u001B[0m\u001B[1;33m\u001B[0m\u001B[0m\n\u001B[0;32m     11\u001B[0m \u001B[1;32mfor\u001B[0m \u001B[0mi\u001B[0m \u001B[1;32min\u001B[0m \u001B[0mrange\u001B[0m\u001B[1;33m(\u001B[0m\u001B[0mn\u001B[0m\u001B[1;33m)\u001B[0m\u001B[1;33m:\u001B[0m\u001B[1;33m\u001B[0m\u001B[1;33m\u001B[0m\u001B[0m\n\u001B[1;32m---> 12\u001B[1;33m     \u001B[0minit_image\u001B[0m \u001B[1;33m=\u001B[0m \u001B[0mimager\u001B[0m\u001B[1;33m.\u001B[0m\u001B[0mcapture_sequence\u001B[0m\u001B[1;33m(\u001B[0m\u001B[0mnum_frames\u001B[0m\u001B[1;33m=\u001B[0m\u001B[1;36m1\u001B[0m\u001B[1;33m,\u001B[0m \u001B[0msleep_seconds1\u001B[0m\u001B[1;33m=\u001B[0m\u001B[1;36m5\u001B[0m\u001B[1;33m,\u001B[0m\u001B[0msleep_seconds2\u001B[0m\u001B[1;33m=\u001B[0m\u001B[1;36m5\u001B[0m\u001B[1;33m)\u001B[0m\u001B[1;33m\u001B[0m\u001B[1;33m\u001B[0m\u001B[0m\n\u001B[0m\u001B[0;32m     13\u001B[0m     \u001B[0minit_image\u001B[0m \u001B[1;33m=\u001B[0m \u001B[0mnp\u001B[0m\u001B[1;33m.\u001B[0m\u001B[0msqueeze\u001B[0m\u001B[1;33m(\u001B[0m\u001B[0mnp\u001B[0m\u001B[1;33m.\u001B[0m\u001B[0marray\u001B[0m\u001B[1;33m(\u001B[0m\u001B[0minit_image\u001B[0m\u001B[1;33m[\u001B[0m\u001B[1;36m0\u001B[0m\u001B[1;33m]\u001B[0m\u001B[1;33m)\u001B[0m\u001B[1;33m)\u001B[0m\u001B[1;33m\u001B[0m\u001B[1;33m\u001B[0m\u001B[0m\n\u001B[0;32m     14\u001B[0m     \u001B[0mnp\u001B[0m\u001B[1;33m.\u001B[0m\u001B[0msave\u001B[0m\u001B[1;33m(\u001B[0m\u001B[0mstr\u001B[0m\u001B[1;33m(\u001B[0m\u001B[0mi\u001B[0m\u001B[1;33m)\u001B[0m\u001B[1;33m,\u001B[0m\u001B[0minit_image\u001B[0m\u001B[1;33m)\u001B[0m\u001B[1;33m\u001B[0m\u001B[1;33m\u001B[0m\u001B[0m\n",
      "\u001B[1;31mNameError\u001B[0m: name 'imager' is not defined"
     ]
    }
   ],
   "source": [
    "import time\n",
    "import cv2\n",
    "import polanalyser as pa\n",
    "from PIL import Image\n",
    "import matplotlib.pyplot as plt\n",
    "from mpldatacursor import datacursor\n",
    "import numpy as np\n",
    "# Based on https://github.com/elerac/polanalyser\n",
    "time.sleep(10)\n",
    "n= 25\n",
    "for i in range(n):\n",
    "    init_image = imager.capture_sequence(num_frames=1, sleep_seconds1=5,sleep_seconds2=5)\n",
    "    init_image = np.squeeze(np.array(init_image[0]))\n",
    "    np.save(str(i),init_image)\n",
    "\n",
    "    img_demosaiced = pa.demosaicing(init_image)\n",
    "    img_0, img_45, img_90, img_135 = cv2.split(img_demosaiced)\n",
    "    #Image.fromarray(img_0).show()\n",
    "    #Image.fromarray(img_45).show()\n",
    "    #Image.fromarray(img_90).show()\n",
    "    #Image.fromarray(img_135).show()\n",
    "    Stokes =  pa.calcLinearStokes(np.moveaxis(np.array([img_0, img_45, img_90, img_135]), 0, -1),\n",
    "                                  np.deg2rad([0,45,90,135]))\n",
    "    I = Stokes[:, :, 0]\n",
    "    DoLP = pa.cvtStokesToDoLP(Stokes)\n",
    "    AoLP = (180/np.pi)*pa.cvtStokesToAoLP(Stokes)-90\n",
    "    plt.figure(1)\n",
    "    im1 = plt.imshow(I/np.max(I))\n",
    "    plt.colorbar(im1)\n",
    "    datacursor()\n",
    "    plt.title('I')\n",
    "    plt.axis('off')\n",
    "    plt.show()\n",
    "    '''\n",
    "    plt.figure(2)\n",
    "    im2 = plt.imshow(DoLP)\n",
    "    plt.colorbar(im2)\n",
    "    datacursor(im2)\n",
    "    plt.title('DoLP')\n",
    "    plt.axis('off')\n",
    "    plt.show()\n",
    "    plt.figure(3)\n",
    "    im3 = plt.imshow(AoLP)\n",
    "    plt.colorbar(im3)\n",
    "    datacursor(im3)\n",
    "    plt.title('AoLP')\n",
    "    plt.axis('off')\n",
    "    '''\n",
    "\n",
    "    #plt.show()\n",
    "\n",
    "\n"
   ]
  },
  {
   "cell_type": "code",
   "execution_count": 8,
   "id": "42480ec8",
   "metadata": {
    "pycharm": {
     "name": "#%%\n"
    }
   },
   "outputs": [
    {
     "name": "stdout",
     "output_type": "stream",
     "text": [
      "0 - 2021-10-12 18:41:52.914107 - 101936 captured Mono12Packed image \n"
     ]
    },
    {
     "data": {
      "text/plain": "([array([[21, 13, 19, ..., 82, 77, 83],\n         [17, 10, 16, ..., 82, 78, 83],\n         [19, 14, 20, ..., 84, 78, 85],\n         ...,\n         [11, 11, 11, ..., 10, 10, 10],\n         [11, 12, 11, ..., 10,  9, 11],\n         [11, 11, 13, ..., 11, 10, 11]], dtype=uint16)],\n [(0, datetime.datetime(2021, 10, 12, 18, 41, 52, 914107), '101936')])"
     },
     "execution_count": 8,
     "metadata": {},
     "output_type": "execute_result"
    }
   ],
   "source": [
    "#imager.get_images(show_images=True, save_images=False)\n",
    "raw_images = imager.capture_sequence(num_frames=50, sleep_seconds1=0.2, sleep_seconds2=0.2)"
   ]
  },
  {
   "cell_type": "code",
   "execution_count": 20,
   "id": "f6527997",
   "metadata": {
    "pycharm": {
     "name": "#%%\n"
    }
   },
   "outputs": [],
   "source": [
    "imager._stop_acquisitions()"
   ]
  },
  {
   "cell_type": "code",
   "execution_count": 8,
   "id": "488a53b6",
   "metadata": {
    "ExecuteTime": {
     "end_time": "2021-05-30T16:03:56.475178Z",
     "start_time": "2021-05-30T16:03:56.150319Z"
    },
    "pycharm": {
     "name": "#%%\n"
    }
   },
   "outputs": [],
   "source": [
    "imager.clear_all()"
   ]
  },
  {
   "cell_type": "code",
   "execution_count": 22,
   "id": "6d0d9240",
   "metadata": {
    "pycharm": {
     "name": "#%%\n"
    }
   },
   "outputs": [
    {
     "data": {
      "text/plain": [
       "'Off'"
      ]
     },
     "execution_count": 22,
     "metadata": {},
     "output_type": "execute_result"
    }
   ],
   "source": [
    "imager.cams[-1].remote_device.node_map.ExposureAuto.value = 'Off'"
   ]
  },
  {
   "cell_type": "code",
   "execution_count": 10,
   "id": "a3b91d64",
   "metadata": {
    "pycharm": {
     "name": "#%%\n"
    }
   },
   "outputs": [
    {
     "data": {
      "text/plain": [
       "(5, 2048, 2448)"
      ]
     },
     "execution_count": 10,
     "metadata": {},
     "output_type": "execute_result"
    }
   ],
   "source": [
    "import numpy as np\n",
    "np.array(raw_images[0]).shape"
   ]
  },
  {
   "cell_type": "code",
   "execution_count": 11,
   "id": "6aa46cd2",
   "metadata": {
    "pycharm": {
     "name": "#%%\n"
    }
   },
   "outputs": [],
   "source": [
    "num_frames =10\n",
    "\n",
    "arr = np.empty((num_frames,5,2048,2448), dtype='uint8')\n",
    "for frame_num in range(num_frames):\n",
    "    arr[frame_num] = np.array(raw_images[frame_num])"
   ]
  },
  {
   "cell_type": "code",
   "execution_count": null,
   "id": "0b6f5814",
   "metadata": {
    "pycharm": {
     "name": "#%%\n"
    }
   },
   "outputs": [],
   "source": []
  },
  {
   "cell_type": "code",
   "execution_count": 25,
   "id": "d8cd8bde",
   "metadata": {
    "pycharm": {
     "name": "#%%\n"
    }
   },
   "outputs": [],
   "source": [
    "import pickle\n",
    "pickle.dump(raw_images, open(\"dump3.pkl\", 'wb'))"
   ]
  },
  {
   "cell_type": "code",
   "execution_count": 14,
   "id": "1c5a473e",
   "metadata": {
    "pycharm": {
     "name": "#%%\n"
    }
   },
   "outputs": [],
   "source": [
    "np.save('arr', arr)"
   ]
  },
  {
   "cell_type": "code",
   "execution_count": 14,
   "id": "9cba5bce",
   "metadata": {
    "pycharm": {
     "name": "#%%\n"
    }
   },
   "outputs": [],
   "source": [
    "arr = np.load('0.npy')\n"
   ]
  },
  {
   "cell_type": "code",
   "execution_count": null,
   "outputs": [],
   "source": [],
   "metadata": {
    "collapsed": false,
    "pycharm": {
     "name": "#%%\n"
    }
   }
  }
 ],
 "metadata": {
  "kernelspec": {
   "display_name": "Python [conda env:imager] *",
   "language": "python",
   "name": "conda-env-imager-py"
  },
  "language_info": {
   "codemirror_mode": {
    "name": "ipython",
    "version": 3
   },
   "file_extension": ".py",
   "mimetype": "text/x-python",
   "name": "python",
   "nbconvert_exporter": "python",
   "pygments_lexer": "ipython3",
   "version": "3.8.10"
  },
  "toc": {
   "nav_menu": {},
   "number_sections": true,
   "sideBar": true,
   "skip_h1_title": false,
   "toc_cell": false,
   "toc_position": {},
   "toc_section_display": "block",
   "toc_window_display": false
  },
  "varInspector": {
   "cols": {
    "lenName": 16,
    "lenType": 16,
    "lenVar": 40
   },
   "kernels_config": {
    "python": {
     "delete_cmd_postfix": "",
     "delete_cmd_prefix": "del ",
     "library": "var_list.py",
     "varRefreshCmd": "print(var_dic_list())"
    },
    "r": {
     "delete_cmd_postfix": ") ",
     "delete_cmd_prefix": "rm(",
     "library": "var_list.r",
     "varRefreshCmd": "cat(var_dic_list()) "
    }
   },
   "position": {
    "height": "346.4px",
    "left": "1139px",
    "right": "20px",
    "top": "86px",
    "width": "350px"
   },
   "types_to_exclude": [
    "module",
    "function",
    "builtin_function_or_method",
    "instance",
    "_Feature"
   ],
   "window_display": false
  }
 },
 "nbformat": 4,
 "nbformat_minor": 5
}