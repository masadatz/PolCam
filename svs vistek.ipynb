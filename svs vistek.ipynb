{
 "cells": [
  {
   "cell_type": "code",
   "execution_count": 1,
   "id": "983a075b",
   "metadata": {
    "ExecuteTime": {
     "end_time": "2021-05-18T10:04:37.486483Z",
     "start_time": "2021-05-18T10:04:35.166336Z"
    },
    "code_folding": []
   },
   "outputs": [
    {
     "name": "stdout",
     "output_type": "stream",
     "text": [
      "Found 1 devices\n",
      "Devices IDs - ['101935']\n"
     ]
    }
   ],
   "source": [
    "# Based on - https://github.com/genicam/harvesters\n",
    "\n",
    "from harvesters.core import Harvester\n",
    "from PIL import Image\n",
    "from datetime import datetime \n",
    "import time\n",
    "class Imager:\n",
    "    def __init__(self):\n",
    "        self.h = Harvester()\n",
    "        self.h.add_file(r'C:\\\\Program Files\\\\SVS-VISTEK GmbH\\\\SVCam Kit\\\\TLUsb\\\\bin\\\\sv_u3v_tl_x64.cti') \n",
    "        self.h.add_file(r'C:\\Program Files\\SVS-VISTEK GmbH\\SVCam Kit\\TLGigE\\bin\\\\sv_gev_tl_x64.cti') \n",
    "        self.h.update()\n",
    "        num_devices = len(self.h.device_info_list)\n",
    "        print(f\"Found {num_devices} devices\") # see all cameras\n",
    "        if num_devices == 0:\n",
    "            print(\"No devices found. If the camera is connected - call imager.clear_all() or restart the kernel and try again.\")\n",
    "        self.serial_ids = [info.serial_number for info in self.h.device_info_list]\n",
    "        print(f\"Devices IDs - {self.serial_ids}\") # see all cameras\n",
    "        self.cams = [self.h.create_image_acquirer(serial_number=_id) for _id in self.serial_ids]\n",
    "        \n",
    "    def get_camera_params(self):\n",
    "        \"\"\"\n",
    "        List of possible parameters to adjust\"\"\"\n",
    "        print(dir(self.cams[0].remote_device.node_map)) # see all parameters\n",
    "\n",
    "    def update_params(self, ExposureTime, PixelFormat):\n",
    "        for ia in self.cams:\n",
    "            ia.remote_device.node_map.ExposureTime.value = ExposureTime # for example, change exposure time\n",
    "            ia.remote_device.node_map.PixelFormat.value = PixelFormat # .symbolics instead of .value for options\n",
    "    \n",
    "    def get_temperature(self):\n",
    "        for ia in self.cams:\n",
    "            print(ia.remote_device.node_map.DeviceTemperature.value)\n",
    "            \n",
    "    def _start_acquisitions(self):\n",
    "        for ia in self.cams:\n",
    "            ia.start_acquisition(run_in_background=True) # Start capturing images\n",
    "\n",
    "    def _stop_acquisitions(self):\n",
    "        for ia in self.cams:\n",
    "            ia.stop_acquisition() # stop capturing images\n",
    "            \n",
    "    def process_components_to_images(self, components):\n",
    "        images = []\n",
    "        for component in components:\n",
    "\n",
    "            _2d = data.reshape(component.height, component.width)\n",
    "            print(_2d.min(), _2d.max())\n",
    "            images.append(Image.fromarray(_2d))\n",
    "        return images\n",
    "\n",
    "            \n",
    "    def get_images(self, show_images):\n",
    "        \n",
    "        for ia in self.cams:\n",
    "            # acquire and save an image\n",
    "            try:\n",
    "                device_id = ia.remote_device.node_map.DeviceID.value\n",
    "            except AttributeError:\n",
    "                device_id = ia.remote_device.node_map.DeviceUserID.value\n",
    "            cur_time = datetime.now()\n",
    "            \n",
    "            with ia.fetch_buffer() as buffer:\n",
    "                component = buffer.payload.components[0]\n",
    "                print(f\"cam {device_id} captured image of format {component.data_format} at {cur_time}\")\n",
    "#             if component.data_format == 'Mono12Packed':\n",
    "#                 data = component.data >> 4\n",
    "#             else:\n",
    "#                 data = component.data\n",
    "                print(ia.remote_device.node_map.ExposureTime.value)\n",
    "                _2d = component.data.reshape(component.height, component.width)\n",
    "            if _2d.mean() == 0:\n",
    "                time.sleep(1)\n",
    "                cur_time = datetime.now()\n",
    "                with ia.fetch_buffer(timeout=1) as buffer:\n",
    "                    component = buffer.payload.components[0]\n",
    "                    print(f\"cam {device_id} captured image of format {component.data_format} at {cur_time}\")\n",
    "                    _2d = component.data.reshape(component.height, component.width)\n",
    "\n",
    "                print(_2d.mean())\n",
    "\n",
    "            img = Image.fromarray(_2d)\n",
    "            if _2d.mean() != 0:\n",
    "                img.show()\n",
    "                img.save(f'my_image_{cur_time.strftime(\"%Y_%m_%d_%H%M%S\")}.jpeg')\n",
    "            else:\n",
    "                print(\"Black image :(\")\n",
    "    def clear_all(self):\n",
    "        for ia in self.cams:\n",
    "            ia.destroy()\n",
    "        self.h.reset()\n",
    "    \n",
    "                \n",
    "\n",
    "    \n",
    "            \n",
    "    # TODO \n",
    "\n",
    "imager = Imager()"
   ]
  },
  {
   "cell_type": "code",
   "execution_count": 2,
   "id": "68b6b020",
   "metadata": {
    "ExecuteTime": {
     "end_time": "2021-05-18T10:04:38.470857Z",
     "start_time": "2021-05-18T10:04:38.428923Z"
    }
   },
   "outputs": [],
   "source": [
    "imager._start_acquisitions()"
   ]
  },
  {
   "cell_type": "code",
   "execution_count": 3,
   "id": "f2073776",
   "metadata": {
    "ExecuteTime": {
     "end_time": "2021-05-18T10:04:41.284448Z",
     "start_time": "2021-05-18T10:04:40.233320Z"
    }
   },
   "outputs": [
    {
     "name": "stdout",
     "output_type": "stream",
     "text": [
      "cam 101935 captured image of format Mono8 at 2021-05-18 13:04:40.235171\n",
      "20000.0\n",
      "cam 101935 captured image of format Mono8 at 2021-05-18 13:04:41.252905\n",
      "0.0\n",
      "Black image :(\n"
     ]
    }
   ],
   "source": [
    "#imager.update_params(ExposureTime=20000, PixelFormat='Mono8')\n",
    "imager.get_images(show_images=True)\n"
   ]
  },
  {
   "cell_type": "code",
   "execution_count": 12,
   "id": "ff73c900",
   "metadata": {
    "ExecuteTime": {
     "end_time": "2021-05-18T10:04:26.621059Z",
     "start_time": "2021-05-18T10:04:26.610912Z"
    }
   },
   "outputs": [],
   "source": [
    "imager._stop_acquisitions()\n",
    "imager.clear_all()"
   ]
  },
  {
   "cell_type": "code",
   "execution_count": 20,
   "id": "b767a4a4",
   "metadata": {
    "ExecuteTime": {
     "end_time": "2021-05-18T10:08:57.130060Z",
     "start_time": "2021-05-18T10:08:57.115439Z"
    }
   },
   "outputs": [
    {
     "name": "stdout",
     "output_type": "stream",
     "text": [
      "Black image :(\n"
     ]
    }
   ],
   "source": [
    "\n",
    "ia = imager.cams[0]\n",
    "\n",
    "cur_time = datetime.now()\n",
    "with ia.fetch_buffer() as buffer:\n",
    "    component = buffer.payload.components[0]\n",
    "\n",
    "_2d = component.data.reshape(component.height, component.width)\n",
    "if _2d.mean() != 0:\n",
    "    img.show()\n",
    "    img.save(f'my_image_{cur_time.strftime(\"%Y_%m_%d_%H%M%S\")}.jpeg')\n",
    "else:\n",
    "    print(\"Black image :(\")"
   ]
  },
  {
   "cell_type": "code",
   "execution_count": null,
   "id": "4e941144",
   "metadata": {},
   "outputs": [],
   "source": []
  },
  {
   "cell_type": "code",
   "execution_count": null,
   "id": "f9b17cd1",
   "metadata": {},
   "outputs": [],
   "source": []
  }
 ],
 "metadata": {
  "kernelspec": {
   "display_name": "Python [conda env:svs] *",
   "language": "python",
   "name": "conda-env-svs-py"
  },
  "language_info": {
   "codemirror_mode": {
    "name": "ipython",
    "version": 3
   },
   "file_extension": ".py",
   "mimetype": "text/x-python",
   "name": "python",
   "nbconvert_exporter": "python",
   "pygments_lexer": "ipython3",
   "version": "3.8.8"
  },
  "toc": {
   "nav_menu": {},
   "number_sections": true,
   "sideBar": true,
   "skip_h1_title": false,
   "toc_cell": false,
   "toc_position": {},
   "toc_section_display": "block",
   "toc_window_display": false
  },
  "varInspector": {
   "cols": {
    "lenName": 16,
    "lenType": 16,
    "lenVar": 40
   },
   "kernels_config": {
    "python": {
     "delete_cmd_postfix": "",
     "delete_cmd_prefix": "del ",
     "library": "var_list.py",
     "varRefreshCmd": "print(var_dic_list())"
    },
    "r": {
     "delete_cmd_postfix": ") ",
     "delete_cmd_prefix": "rm(",
     "library": "var_list.r",
     "varRefreshCmd": "cat(var_dic_list()) "
    }
   },
   "position": {
    "height": "341.4px",
    "left": "1166px",
    "right": "20px",
    "top": "120px",
    "width": "350px"
   },
   "types_to_exclude": [
    "module",
    "function",
    "builtin_function_or_method",
    "instance",
    "_Feature"
   ],
   "window_display": false
  }
 },
 "nbformat": 4,
 "nbformat_minor": 5
}
