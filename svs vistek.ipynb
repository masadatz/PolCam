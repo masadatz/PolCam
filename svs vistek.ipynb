{
 "cells": [
  {
   "cell_type": "code",
   "execution_count": 35,
   "id": "983a075b",
   "metadata": {
    "ExecuteTime": {
     "end_time": "2021-05-30T16:04:04.232761Z",
     "start_time": "2021-05-30T16:04:01.198837Z"
    },
    "code_folding": []
   },
   "outputs": [
    {
     "name": "stdout",
     "output_type": "stream",
     "text": [
      "Found 2 devices\n",
      "Devices IDs - ['101935', '192900073']\n"
     ]
    }
   ],
   "source": [
    "from controller import Imager"
   ]
  },
  {
   "cell_type": "code",
   "execution_count": null,
   "outputs": [],
   "source": [
    "imager = Imager()"
   ],
   "metadata": {
    "collapsed": false,
    "pycharm": {
     "name": "#%%\n"
    }
   }
  },
  {
   "cell_type": "code",
   "execution_count": 36,
   "id": "68b6b020",
   "metadata": {
    "ExecuteTime": {
     "end_time": "2021-05-30T16:04:05.202154Z",
     "start_time": "2021-05-30T16:04:04.692413Z"
    }
   },
   "outputs": [],
   "source": [
    "imager._start_acquisitions()"
   ]
  },
  {
   "cell_type": "code",
   "execution_count": 37,
   "id": "f2073776",
   "metadata": {
    "ExecuteTime": {
     "end_time": "2021-05-30T16:04:06.417839Z",
     "start_time": "2021-05-30T16:04:06.389679Z"
    }
   },
   "outputs": [
    {
     "name": "stdout",
     "output_type": "stream",
     "text": [
      "cam 101935 captured image of format Mono8 at 2021-05-30 19:04:06.390677\n",
      "cam 192900073 captured image of format BayerRG8 at 2021-05-30 19:04:06.394676\n"
     ]
    }
   ],
   "source": [
    "#imager.update_params(ExposureTime=30000, PixelFormat='Mono8', AcquisitionFrameRate = 10)\n",
    "imager.get_images(show_images=True)\n",
    "#imager.get_images(show_images=True)"
   ]
  },
  {
   "cell_type": "code",
   "execution_count": 38,
   "id": "149bb7ba",
   "metadata": {
    "ExecuteTime": {
     "end_time": "2021-05-30T16:04:24.154548Z",
     "start_time": "2021-05-30T16:04:20.094062Z"
    }
   },
   "outputs": [],
   "source": [
    "imager.show_images()"
   ]
  },
  {
   "cell_type": "code",
   "execution_count": 34,
   "id": "488a53b6",
   "metadata": {
    "ExecuteTime": {
     "end_time": "2021-05-30T16:03:56.475178Z",
     "start_time": "2021-05-30T16:03:56.150319Z"
    }
   },
   "outputs": [],
   "source": [
    "imager._stop_acquisitions()\n",
    "imager.clear_all()"
   ]
  },
  {
   "cell_type": "code",
   "execution_count": null,
   "id": "a76d48e4",
   "metadata": {},
   "outputs": [],
   "source": []
  }
 ],
 "metadata": {
  "kernelspec": {
   "display_name": "Python [conda env:svs] *",
   "language": "python",
   "name": "conda-env-svs-py"
  },
  "language_info": {
   "codemirror_mode": {
    "name": "ipython",
    "version": 3
   },
   "file_extension": ".py",
   "mimetype": "text/x-python",
   "name": "python",
   "nbconvert_exporter": "python",
   "pygments_lexer": "ipython3",
   "version": "3.8.8"
  },
  "toc": {
   "nav_menu": {},
   "number_sections": true,
   "sideBar": true,
   "skip_h1_title": false,
   "toc_cell": false,
   "toc_position": {},
   "toc_section_display": "block",
   "toc_window_display": false
  },
  "varInspector": {
   "cols": {
    "lenName": 16,
    "lenType": 16,
    "lenVar": 40
   },
   "kernels_config": {
    "python": {
     "delete_cmd_postfix": "",
     "delete_cmd_prefix": "del ",
     "library": "var_list.py",
     "varRefreshCmd": "print(var_dic_list())"
    },
    "r": {
     "delete_cmd_postfix": ") ",
     "delete_cmd_prefix": "rm(",
     "library": "var_list.r",
     "varRefreshCmd": "cat(var_dic_list()) "
    }
   },
   "position": {
    "height": "346.4px",
    "left": "1139px",
    "right": "20px",
    "top": "86px",
    "width": "350px"
   },
   "types_to_exclude": [
    "module",
    "function",
    "builtin_function_or_method",
    "instance",
    "_Feature"
   ],
   "window_display": false
  }
 },
 "nbformat": 4,
 "nbformat_minor": 5
}