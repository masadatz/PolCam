{
 "cells": [
  {
   "cell_type": "code",
   "execution_count": 1,
   "metadata": {
    "pycharm": {
     "name": "#%%\n"
    }
   },
   "outputs": [],
   "source": [
    "from controller import Imager\n",
    "import time\n",
    "import cv2\n",
    "import polanalyser as pa\n",
    "from PIL import Image\n",
    "import matplotlib.pyplot as plt\n",
    "from mpldatacursor import datacursor\n",
    "import numpy as np\n",
    "import os"
   ]
  },
  {
   "cell_type": "code",
   "execution_count": 2,
   "metadata": {
    "pycharm": {
     "name": "#%%\n"
    }
   },
   "outputs": [
    {
     "name": "stdout",
     "output_type": "stream",
     "text": [
      "Found 5 devices\n",
      "Devices IDs - ['101936', '101934', '101933', '101935', '192900073']\n"
     ]
    }
   ],
   "source": [
    "imager = Imager()"
   ]
  },
  {
   "cell_type": "code",
   "execution_count": 20,
   "metadata": {
    "pycharm": {
     "name": "#%%\n"
    }
   },
   "outputs": [],
   "source": [
    "imager.cams[-1].remote_device.node_map.ExposureAuto.value = 'Off'\n",
    "PIXELFORMATS = {'8':'Mono8','12':'Mono12Packed'}\n",
    "PIXELFORMAT = PIXELFORMATS['8']\n",
    "imager.update_params(ExposureTime=30000, PixelFormat=PIXELFORMAT)"
   ]
  },
  {
   "cell_type": "code",
   "execution_count": 21,
   "metadata": {
    "pycharm": {
     "name": "#%%\n"
    }
   },
   "outputs": [],
   "source": [
    "imager._start_acquisitions()\n",
    "# imager._stop_acquisitions()"
   ]
  },
  {
   "cell_type": "code",
   "execution_count": 5,
   "metadata": {
    "scrolled": true
   },
   "outputs": [
    {
     "name": "stdout",
     "output_type": "stream",
     "text": [
      "0 - 2021-10-13 14:12:25.925960 - 101936 captured Mono8 image \n",
      "0 - 2021-10-13 14:12:25.925960 - 101934 captured Mono8 image \n",
      "0 - 2021-10-13 14:12:25.926960 - 101933 captured Mono8 image \n",
      "0 - 2021-10-13 14:12:25.927961 - 101935 captured Mono8 image \n",
      "0 - 2021-10-13 14:12:25.928961 - 192900073 captured Mono8 image \n",
      "0 - 2021-10-13 14:12:25.932960 - 101936 captured Mono8 image \n",
      "0 - 2021-10-13 14:12:25.933959 - 101934 captured Mono8 image \n",
      "0 - 2021-10-13 14:12:26.323212 - 101933 captured Mono8 image \n",
      "0 - 2021-10-13 14:12:26.323212 - 101935 captured Mono8 image \n",
      "0 - 2021-10-13 14:12:26.354463 - 192900073 captured Mono8 image \n",
      "0 - 2021-10-13 14:12:26.370087 - 101936 captured Mono8 image \n",
      "0 - 2021-10-13 14:12:26.370087 - 101934 captured Mono8 image \n",
      "0 - 2021-10-13 14:12:26.370087 - 101933 captured Mono8 image \n",
      "0 - 2021-10-13 14:12:26.662184 - 101935 captured Mono8 image \n",
      "0 - 2021-10-13 14:12:26.662184 - 192900073 captured Mono8 image \n",
      "0 - 2021-10-13 14:12:26.677809 - 101936 captured Mono8 image \n",
      "0 - 2021-10-13 14:12:26.677809 - 101934 captured Mono8 image \n",
      "0 - 2021-10-13 14:12:26.677809 - 101933 captured Mono8 image \n",
      "0 - 2021-10-13 14:12:26.677809 - 101935 captured Mono8 image \n",
      "0 - 2021-10-13 14:12:27.316574 - 192900073 captured Mono8 image \n",
      "0 - 2021-10-13 14:12:27.394698 - 101936 captured Mono8 image \n",
      "0 - 2021-10-13 14:12:27.394698 - 101934 captured Mono8 image \n",
      "0 - 2021-10-13 14:12:27.394698 - 101933 captured Mono8 image \n",
      "0 - 2021-10-13 14:12:27.410324 - 101935 captured Mono8 image \n",
      "0 - 2021-10-13 14:12:27.410324 - 192900073 captured Mono8 image \n",
      "0 - 2021-10-13 14:12:27.441573 - 101936 captured Mono8 image \n",
      "0 - 2021-10-13 14:12:27.504074 - 101934 captured Mono8 image \n",
      "0 - 2021-10-13 14:12:27.715982 - 101933 captured Mono8 image \n",
      "0 - 2021-10-13 14:12:27.715982 - 101935 captured Mono8 image \n",
      "0 - 2021-10-13 14:12:27.715982 - 192900073 captured Mono8 image \n",
      "0 - 2021-10-13 14:12:27.726729 - 101936 captured Mono8 image \n",
      "0 - 2021-10-13 14:12:27.726729 - 101934 captured Mono8 image \n",
      "0 - 2021-10-13 14:12:28.179324 - 101933 captured Mono8 image \n",
      "0 - 2021-10-13 14:12:28.179324 - 101935 captured Mono8 image \n",
      "0 - 2021-10-13 14:12:28.179324 - 192900073 captured Mono8 image \n",
      "0 - 2021-10-13 14:12:28.194951 - 101936 captured Mono8 image \n",
      "0 - 2021-10-13 14:12:28.194951 - 101934 captured Mono8 image \n",
      "0 - 2021-10-13 14:12:28.385512 - 101933 captured Mono8 image \n",
      "0 - 2021-10-13 14:12:28.386512 - 101935 captured Mono8 image \n",
      "0 - 2021-10-13 14:12:28.401512 - 192900073 captured Mono8 image \n",
      "0 - 2021-10-13 14:12:28.417512 - 101936 captured Mono8 image \n",
      "0 - 2021-10-13 14:12:28.417512 - 101934 captured Mono8 image \n",
      "0 - 2021-10-13 14:12:28.503025 - 101933 captured Mono8 image \n",
      "0 - 2021-10-13 14:12:28.504025 - 101935 captured Mono8 image \n",
      "0 - 2021-10-13 14:12:28.504025 - 192900073 captured Mono8 image \n",
      "0 - 2021-10-13 14:12:28.585127 - 101936 captured Mono8 image \n",
      "0 - 2021-10-13 14:12:28.585127 - 101934 captured Mono8 image \n",
      "0 - 2021-10-13 14:12:28.585127 - 101933 captured Mono8 image \n",
      "0 - 2021-10-13 14:12:28.757002 - 101935 captured Mono8 image \n",
      "0 - 2021-10-13 14:12:28.788252 - 192900073 captured Mono8 image \n"
     ]
    }
   ],
   "source": [
    "directory = \"try\"\n",
    "frames = 1\n",
    "raw_images = []\n",
    "for _ in range(frames):\n",
    "    raw_images_, _ = imager.get_images(show_images=False, save_images=False, dir=directory)\n",
    "    \n",
    "#     for im in raw_images:\n",
    "#         plt.imshow(im)\n",
    "#         plt.show()"
   ]
  },
  {
   "cell_type": "code",
   "execution_count": 24,
   "metadata": {
    "scrolled": true
   },
   "outputs": [
    {
     "name": "stdout",
     "output_type": "stream",
     "text": [
      "0 - 2021-10-13 15:58:23.189652 - 101936 captured Mono8 image \n",
      "0 - 2021-10-13 15:58:23.189652 - 101934 captured Mono8 image \n",
      "0 - 2021-10-13 15:58:23.220900 - 101933 captured Mono8 image \n",
      "0 - 2021-10-13 15:58:23.346019 - 101935 captured Mono8 image \n",
      "0 - 2021-10-13 15:58:23.347025 - 192900073 captured Mono8 image \n",
      "1 - 2021-10-13 15:58:23.347025 - 101936 captured Mono8 image \n",
      "1 - 2021-10-13 15:58:23.347025 - 101934 captured Mono8 image \n",
      "1 - 2021-10-13 15:58:23.983254 - 101933 captured Mono8 image \n",
      "1 - 2021-10-13 15:58:23.983254 - 101935 captured Mono8 image \n",
      "1 - 2021-10-13 15:58:23.983254 - 192900073 captured Mono8 image \n",
      "2 - 2021-10-13 15:58:24.155129 - 101936 captured Mono8 image \n",
      "2 - 2021-10-13 15:58:24.155129 - 101934 captured Mono8 image \n",
      "2 - 2021-10-13 15:58:24.256185 - 101933 captured Mono8 image \n",
      "2 - 2021-10-13 15:58:24.306824 - 101935 captured Mono8 image \n",
      "2 - 2021-10-13 15:58:24.371825 - 192900073 captured Mono8 image \n",
      "3 - 2021-10-13 15:58:24.718825 - 101936 captured Mono8 image \n",
      "3 - 2021-10-13 15:58:24.723825 - 101934 captured Mono8 image \n",
      "3 - 2021-10-13 15:58:24.724824 - 101933 captured Mono8 image \n",
      "3 - 2021-10-13 15:58:24.725826 - 101935 captured Mono8 image \n",
      "3 - 2021-10-13 15:58:24.727825 - 192900073 captured Mono8 image \n",
      "4 - 2021-10-13 15:58:24.731825 - 101936 captured Mono8 image \n",
      "4 - 2021-10-13 15:58:26.737836 - 101934 captured Mono8 image \n",
      "4 - 2021-10-13 15:58:26.753836 - 101933 captured Mono8 image \n",
      "4 - 2021-10-13 15:58:26.798836 - 101935 captured Mono8 image \n",
      "4 - 2021-10-13 15:58:26.799836 - 192900073 captured Mono8 image \n",
      "5 - 2021-10-13 15:58:26.881836 - 101936 captured Mono8 image \n",
      "5 - 2021-10-13 15:58:26.913843 - 101934 captured Mono8 image \n",
      "5 - 2021-10-13 15:58:26.918838 - 101933 captured Mono8 image \n",
      "5 - 2021-10-13 15:58:26.919836 - 101935 captured Mono8 image \n",
      "5 - 2021-10-13 15:58:27.589881 - 192900073 captured Mono8 image \n",
      "6 - 2021-10-13 15:58:27.905873 - 101936 captured Mono8 image \n",
      "6 - 2021-10-13 15:58:27.969872 - 101934 captured Mono8 image \n",
      "6 - 2021-10-13 15:58:28.004880 - 101933 captured Mono8 image \n",
      "6 - 2021-10-13 15:58:28.006873 - 101935 captured Mono8 image \n",
      "6 - 2021-10-13 15:58:28.007873 - 192900073 captured Mono8 image \n",
      "7 - 2021-10-13 15:58:28.012873 - 101936 captured Mono8 image \n",
      "7 - 2021-10-13 15:58:28.014872 - 101934 captured Mono8 image \n",
      "7 - 2021-10-13 15:58:28.198872 - 101933 captured Mono8 image \n",
      "7 - 2021-10-13 15:58:28.199874 - 101935 captured Mono8 image \n",
      "7 - 2021-10-13 15:58:28.201872 - 192900073 captured Mono8 image \n",
      "8 - 2021-10-13 15:58:28.206873 - 101936 captured Mono8 image \n",
      "8 - 2021-10-13 15:58:28.207874 - 101934 captured Mono8 image \n",
      "8 - 2021-10-13 15:58:28.387873 - 101933 captured Mono8 image \n",
      "8 - 2021-10-13 15:58:28.389873 - 101935 captured Mono8 image \n",
      "8 - 2021-10-13 15:58:28.390874 - 192900073 captured Mono8 image \n",
      "9 - 2021-10-13 15:58:28.737890 - 101936 captured Mono8 image \n",
      "9 - 2021-10-13 15:58:28.742401 - 101934 captured Mono8 image \n",
      "9 - 2021-10-13 15:58:28.744402 - 101933 captured Mono8 image \n",
      "9 - 2021-10-13 15:58:28.745401 - 101935 captured Mono8 image \n",
      "9 - 2021-10-13 15:58:28.747402 - 192900073 captured Mono8 image \n",
      "10 - 2021-10-13 15:58:28.752401 - 101936 captured Mono8 image \n",
      "10 - 2021-10-13 15:58:32.957173 - 101934 captured Mono8 image \n",
      "10 - 2021-10-13 15:58:32.972801 - 101933 captured Mono8 image \n",
      "10 - 2021-10-13 15:58:33.004048 - 101935 captured Mono8 image \n",
      "10 - 2021-10-13 15:58:33.004048 - 192900073 captured Mono8 image \n",
      "11 - 2021-10-13 15:58:33.004048 - 101936 captured Mono8 image \n",
      "11 - 2021-10-13 15:58:33.004048 - 101934 captured Mono8 image \n",
      "11 - 2021-10-13 15:58:33.387603 - 101933 captured Mono8 image \n",
      "11 - 2021-10-13 15:58:33.388604 - 101935 captured Mono8 image \n",
      "11 - 2021-10-13 15:58:33.390605 - 192900073 captured Mono8 image \n",
      "12 - 2021-10-13 15:58:33.750604 - 101936 captured Mono8 image \n",
      "12 - 2021-10-13 15:58:33.752603 - 101934 captured Mono8 image \n",
      "12 - 2021-10-13 15:58:33.753604 - 101933 captured Mono8 image \n",
      "12 - 2021-10-13 15:58:33.754604 - 101935 captured Mono8 image \n",
      "12 - 2021-10-13 15:58:33.756603 - 192900073 captured Mono8 image \n",
      "13 - 2021-10-13 15:58:33.761604 - 101936 captured Mono8 image \n",
      "13 - 2021-10-13 15:58:33.762604 - 101934 captured Mono8 image \n",
      "13 - 2021-10-13 15:58:34.993728 - 101933 captured Mono8 image \n",
      "13 - 2021-10-13 15:58:35.000990 - 101935 captured Mono8 image \n",
      "13 - 2021-10-13 15:58:35.002987 - 192900073 captured Mono8 image \n",
      "14 - 2021-10-13 15:58:35.007987 - 101936 captured Mono8 image \n",
      "14 - 2021-10-13 15:58:35.043885 - 101934 captured Mono8 image \n",
      "14 - 2021-10-13 15:58:35.071884 - 101933 captured Mono8 image \n",
      "14 - 2021-10-13 15:58:35.200323 - 101935 captured Mono8 image \n",
      "14 - 2021-10-13 15:58:35.207362 - 192900073 captured Mono8 image \n",
      "15 - 2021-10-13 15:58:35.520343 - 101936 captured Mono8 image \n",
      "15 - 2021-10-13 15:58:35.599342 - 101934 captured Mono8 image \n",
      "15 - 2021-10-13 15:58:35.693358 - 101933 captured Mono8 image \n",
      "15 - 2021-10-13 15:58:35.744343 - 101935 captured Mono8 image \n",
      "15 - 2021-10-13 15:58:35.788342 - 192900073 captured Mono8 image \n",
      "16 - 2021-10-13 15:58:35.808342 - 101936 captured Mono8 image \n",
      "16 - 2021-10-13 15:58:35.920343 - 101934 captured Mono8 image \n",
      "16 - 2021-10-13 15:58:35.952342 - 101933 captured Mono8 image \n",
      "16 - 2021-10-13 15:58:35.968342 - 101935 captured Mono8 image \n",
      "16 - 2021-10-13 15:58:35.984343 - 192900073 captured Mono8 image \n",
      "17 - 2021-10-13 15:58:35.992343 - 101936 captured Mono8 image \n",
      "17 - 2021-10-13 15:58:35.994342 - 101934 captured Mono8 image \n",
      "17 - 2021-10-13 15:58:36.116342 - 101933 captured Mono8 image \n",
      "17 - 2021-10-13 15:58:36.144343 - 101935 captured Mono8 image \n",
      "17 - 2021-10-13 15:58:36.160343 - 192900073 captured Mono8 image \n",
      "18 - 2021-10-13 15:58:36.720560 - 101936 captured Mono8 image \n",
      "18 - 2021-10-13 15:58:36.783059 - 101934 captured Mono8 image \n",
      "18 - 2021-10-13 15:58:36.783059 - 101933 captured Mono8 image \n",
      "18 - 2021-10-13 15:58:36.845559 - 101935 captured Mono8 image \n",
      "18 - 2021-10-13 15:58:36.845559 - 192900073 captured Mono8 image \n",
      "19 - 2021-10-13 15:58:36.845559 - 101936 captured Mono8 image \n",
      "19 - 2021-10-13 15:58:36.845559 - 101934 captured Mono8 image \n",
      "19 - 2021-10-13 15:58:36.845559 - 101933 captured Mono8 image \n",
      "19 - 2021-10-13 15:58:36.987367 - 101935 captured Mono8 image \n",
      "19 - 2021-10-13 15:58:37.000759 - 192900073 captured Mono8 image \n",
      "20 - 2021-10-13 15:58:37.071079 - 101936 captured Mono8 image \n",
      "20 - 2021-10-13 15:58:37.302387 - 101934 captured Mono8 image \n",
      "20 - 2021-10-13 15:58:37.370570 - 101933 captured Mono8 image \n",
      "20 - 2021-10-13 15:58:37.375569 - 101935 captured Mono8 image \n",
      "20 - 2021-10-13 15:58:37.376570 - 192900073 captured Mono8 image \n",
      "21 - 2021-10-13 15:58:37.918014 - 101936 captured Mono8 image \n",
      "21 - 2021-10-13 15:58:37.980513 - 101934 captured Mono8 image \n",
      "21 - 2021-10-13 15:58:37.980513 - 101933 captured Mono8 image \n",
      "21 - 2021-10-13 15:58:37.980513 - 101935 captured Mono8 image \n",
      "21 - 2021-10-13 15:58:37.980513 - 192900073 captured Mono8 image \n",
      "22 - 2021-10-13 15:58:37.980513 - 101936 captured Mono8 image \n",
      "22 - 2021-10-13 15:58:40.437165 - 101934 captured Mono8 image \n",
      "22 - 2021-10-13 15:58:40.437165 - 101933 captured Mono8 image \n",
      "22 - 2021-10-13 15:58:40.437165 - 101935 captured Mono8 image \n",
      "22 - 2021-10-13 15:58:40.437165 - 192900073 captured Mono8 image \n",
      "23 - 2021-10-13 15:58:40.437165 - 101936 captured Mono8 image \n",
      "23 - 2021-10-13 15:58:43.886533 - 101934 captured Mono8 image \n",
      "23 - 2021-10-13 15:58:44.047243 - 101933 captured Mono8 image \n",
      "23 - 2021-10-13 15:58:44.155429 - 101935 captured Mono8 image \n",
      "23 - 2021-10-13 15:58:44.155429 - 192900073 captured Mono8 image \n",
      "24 - 2021-10-13 15:58:44.550770 - 101936 captured Mono8 image \n",
      "24 - 2021-10-13 15:58:44.571778 - 101934 captured Mono8 image \n",
      "24 - 2021-10-13 15:58:44.572777 - 101933 captured Mono8 image \n",
      "24 - 2021-10-13 15:58:44.574778 - 101935 captured Mono8 image \n",
      "24 - 2021-10-13 15:58:44.575778 - 192900073 captured Mono8 image \n",
      "25 - 2021-10-13 15:58:44.580777 - 101936 captured Mono8 image \n",
      "25 - 2021-10-13 15:58:44.670332 - 101934 captured Mono8 image \n",
      "25 - 2021-10-13 15:58:44.701583 - 101933 captured Mono8 image \n",
      "25 - 2021-10-13 15:58:44.732832 - 101935 captured Mono8 image \n",
      "25 - 2021-10-13 15:58:44.748459 - 192900073 captured Mono8 image \n",
      "26 - 2021-10-13 15:58:45.376165 - 101936 captured Mono8 image \n",
      "26 - 2021-10-13 15:58:45.376165 - 101934 captured Mono8 image \n",
      "26 - 2021-10-13 15:58:45.376165 - 101933 captured Mono8 image \n",
      "26 - 2021-10-13 15:58:45.376165 - 101935 captured Mono8 image \n",
      "26 - 2021-10-13 15:58:45.376165 - 192900073 captured Mono8 image \n"
     ]
    },
    {
     "name": "stdout",
     "output_type": "stream",
     "text": [
      "27 - 2021-10-13 15:58:45.710154 - 101936 captured Mono8 image \n",
      "27 - 2021-10-13 15:58:45.712155 - 101934 captured Mono8 image \n",
      "27 - 2021-10-13 15:58:45.713155 - 101933 captured Mono8 image \n",
      "27 - 2021-10-13 15:58:45.715157 - 101935 captured Mono8 image \n",
      "27 - 2021-10-13 15:58:45.716156 - 192900073 captured Mono8 image \n",
      "28 - 2021-10-13 15:58:45.772807 - 101936 captured Mono8 image \n",
      "28 - 2021-10-13 15:58:48.981584 - 101934 captured Mono8 image \n",
      "28 - 2021-10-13 15:58:48.981584 - 101933 captured Mono8 image \n",
      "28 - 2021-10-13 15:58:48.981584 - 101935 captured Mono8 image \n",
      "28 - 2021-10-13 15:58:48.981584 - 192900073 captured Mono8 image \n",
      "29 - 2021-10-13 15:58:48.981584 - 101936 captured Mono8 image \n",
      "29 - 2021-10-13 15:58:49.059711 - 101934 captured Mono8 image \n",
      "29 - 2021-10-13 15:58:49.106587 - 101933 captured Mono8 image \n",
      "29 - 2021-10-13 15:58:49.386625 - 101935 captured Mono8 image \n",
      "29 - 2021-10-13 15:58:49.387626 - 192900073 captured Mono8 image \n",
      "30 - 2021-10-13 15:58:49.823067 - 101936 captured Mono8 image \n",
      "30 - 2021-10-13 15:58:49.922074 - 101934 captured Mono8 image \n",
      "30 - 2021-10-13 15:58:49.953324 - 101933 captured Mono8 image \n",
      "30 - 2021-10-13 15:58:49.968951 - 101935 captured Mono8 image \n",
      "30 - 2021-10-13 15:58:49.968951 - 192900073 captured Mono8 image \n",
      "31 - 2021-10-13 15:58:49.968951 - 101936 captured Mono8 image \n",
      "31 - 2021-10-13 15:58:50.000200 - 101934 captured Mono8 image \n",
      "31 - 2021-10-13 15:58:50.000200 - 101933 captured Mono8 image \n",
      "31 - 2021-10-13 15:58:50.000200 - 101935 captured Mono8 image \n",
      "31 - 2021-10-13 15:58:50.000200 - 192900073 captured Mono8 image \n",
      "32 - 2021-10-13 15:58:50.000200 - 101936 captured Mono8 image \n",
      "32 - 2021-10-13 15:58:50.504144 - 101934 captured Mono8 image \n",
      "32 - 2021-10-13 15:58:50.504144 - 101933 captured Mono8 image \n",
      "32 - 2021-10-13 15:58:50.504144 - 101935 captured Mono8 image \n",
      "32 - 2021-10-13 15:58:50.504144 - 192900073 captured Mono8 image \n",
      "33 - 2021-10-13 15:58:50.817786 - 101936 captured Mono8 image \n",
      "33 - 2021-10-13 15:58:50.849036 - 101934 captured Mono8 image \n",
      "33 - 2021-10-13 15:58:50.968009 - 101933 captured Mono8 image \n",
      "33 - 2021-10-13 15:58:50.973252 - 101935 captured Mono8 image \n",
      "33 - 2021-10-13 15:58:50.988879 - 192900073 captured Mono8 image \n",
      "34 - 2021-10-13 15:58:51.004502 - 101936 captured Mono8 image \n",
      "34 - 2021-10-13 15:58:51.113891 - 101934 captured Mono8 image \n",
      "34 - 2021-10-13 15:58:51.187639 - 101933 captured Mono8 image \n",
      "34 - 2021-10-13 15:58:51.187639 - 101935 captured Mono8 image \n",
      "34 - 2021-10-13 15:58:51.187639 - 192900073 captured Mono8 image \n",
      "35 - 2021-10-13 15:58:51.343890 - 101936 captured Mono8 image \n",
      "35 - 2021-10-13 15:58:51.506444 - 101934 captured Mono8 image \n",
      "35 - 2021-10-13 15:58:51.568947 - 101933 captured Mono8 image \n",
      "35 - 2021-10-13 15:58:51.599956 - 101935 captured Mono8 image \n",
      "35 - 2021-10-13 15:58:51.620956 - 192900073 captured Mono8 image \n",
      "36 - 2021-10-13 15:58:51.934568 - 101936 captured Mono8 image \n",
      "36 - 2021-10-13 15:58:51.965964 - 101934 captured Mono8 image \n",
      "36 - 2021-10-13 15:58:52.014697 - 101933 captured Mono8 image \n",
      "36 - 2021-10-13 15:58:52.029687 - 101935 captured Mono8 image \n",
      "36 - 2021-10-13 15:58:52.102259 - 192900073 captured Mono8 image \n",
      "37 - 2021-10-13 15:58:52.117885 - 101936 captured Mono8 image \n",
      "37 - 2021-10-13 15:58:52.196010 - 101934 captured Mono8 image \n",
      "37 - 2021-10-13 15:58:52.430931 - 101933 captured Mono8 image \n",
      "37 - 2021-10-13 15:58:52.435931 - 101935 captured Mono8 image \n",
      "37 - 2021-10-13 15:58:52.436930 - 192900073 captured Mono8 image \n",
      "38 - 2021-10-13 15:58:52.533343 - 101936 captured Mono8 image \n",
      "38 - 2021-10-13 15:58:52.572996 - 101934 captured Mono8 image \n",
      "38 - 2021-10-13 15:58:52.572996 - 101933 captured Mono8 image \n",
      "38 - 2021-10-13 15:58:52.572996 - 101935 captured Mono8 image \n",
      "38 - 2021-10-13 15:58:52.572996 - 192900073 captured Mono8 image \n",
      "39 - 2021-10-13 15:58:52.942872 - 101936 captured Mono8 image \n",
      "39 - 2021-10-13 15:58:52.989747 - 101934 captured Mono8 image \n",
      "39 - 2021-10-13 15:58:53.005375 - 101933 captured Mono8 image \n",
      "39 - 2021-10-13 15:58:53.005375 - 101935 captured Mono8 image \n",
      "39 - 2021-10-13 15:58:53.005375 - 192900073 captured Mono8 image \n",
      "40 - 2021-10-13 15:58:53.005375 - 101936 captured Mono8 image \n",
      "40 - 2021-10-13 15:58:53.199079 - 101934 captured Mono8 image \n",
      "40 - 2021-10-13 15:58:53.303981 - 101933 captured Mono8 image \n",
      "40 - 2021-10-13 15:58:53.352043 - 101935 captured Mono8 image \n",
      "40 - 2021-10-13 15:58:53.383297 - 192900073 captured Mono8 image \n",
      "41 - 2021-10-13 15:58:53.383297 - 101936 captured Mono8 image \n",
      "41 - 2021-10-13 15:58:53.383297 - 101934 captured Mono8 image \n",
      "41 - 2021-10-13 15:58:53.597204 - 101933 captured Mono8 image \n",
      "41 - 2021-10-13 15:58:53.598203 - 101935 captured Mono8 image \n",
      "41 - 2021-10-13 15:58:53.600204 - 192900073 captured Mono8 image \n",
      "42 - 2021-10-13 15:58:54.003391 - 101936 captured Mono8 image \n",
      "42 - 2021-10-13 15:58:54.086958 - 101934 captured Mono8 image \n",
      "42 - 2021-10-13 15:58:54.086958 - 101933 captured Mono8 image \n",
      "42 - 2021-10-13 15:58:54.086958 - 101935 captured Mono8 image \n",
      "42 - 2021-10-13 15:58:54.086958 - 192900073 captured Mono8 image \n",
      "43 - 2021-10-13 15:58:54.086958 - 101936 captured Mono8 image \n",
      "43 - 2021-10-13 15:58:54.086958 - 101934 captured Mono8 image \n",
      "43 - 2021-10-13 15:58:54.691120 - 101933 captured Mono8 image \n",
      "43 - 2021-10-13 15:58:54.723500 - 101935 captured Mono8 image \n",
      "43 - 2021-10-13 15:58:54.785999 - 192900073 captured Mono8 image \n",
      "44 - 2021-10-13 15:58:54.817252 - 101936 captured Mono8 image \n",
      "44 - 2021-10-13 15:58:54.848502 - 101934 captured Mono8 image \n",
      "44 - 2021-10-13 15:58:54.926627 - 101933 captured Mono8 image \n",
      "44 - 2021-10-13 15:58:54.926627 - 101935 captured Mono8 image \n",
      "44 - 2021-10-13 15:58:54.933746 - 192900073 captured Mono8 image \n",
      "45 - 2021-10-13 15:58:55.240389 - 101936 captured Mono8 image \n",
      "45 - 2021-10-13 15:58:55.320980 - 101934 captured Mono8 image \n",
      "45 - 2021-10-13 15:58:55.320980 - 101933 captured Mono8 image \n",
      "45 - 2021-10-13 15:58:55.320980 - 101935 captured Mono8 image \n",
      "45 - 2021-10-13 15:58:55.320980 - 192900073 captured Mono8 image \n",
      "46 - 2021-10-13 15:58:55.320980 - 101936 captured Mono8 image \n",
      "46 - 2021-10-13 15:58:55.320980 - 101934 captured Mono8 image \n",
      "46 - 2021-10-13 15:58:56.261803 - 101933 captured Mono8 image \n",
      "46 - 2021-10-13 15:58:56.274866 - 101935 captured Mono8 image \n",
      "46 - 2021-10-13 15:58:56.290492 - 192900073 captured Mono8 image \n",
      "47 - 2021-10-13 15:58:56.299968 - 101936 captured Mono8 image \n",
      "47 - 2021-10-13 15:58:56.301968 - 101934 captured Mono8 image \n",
      "47 - 2021-10-13 15:58:56.302967 - 101933 captured Mono8 image \n",
      "47 - 2021-10-13 15:58:56.471970 - 101935 captured Mono8 image \n",
      "47 - 2021-10-13 15:58:56.473969 - 192900073 captured Mono8 image \n",
      "48 - 2021-10-13 15:58:56.798968 - 101936 captured Mono8 image \n",
      "48 - 2021-10-13 15:58:56.799968 - 101934 captured Mono8 image \n",
      "48 - 2021-10-13 15:58:56.912968 - 101933 captured Mono8 image \n",
      "48 - 2021-10-13 15:58:56.965636 - 101935 captured Mono8 image \n",
      "48 - 2021-10-13 15:58:57.059388 - 192900073 captured Mono8 image \n",
      "49 - 2021-10-13 15:58:57.090646 - 101936 captured Mono8 image \n",
      "49 - 2021-10-13 15:58:57.184385 - 101934 captured Mono8 image \n",
      "49 - 2021-10-13 15:58:57.231239 - 101933 captured Mono8 image \n",
      "49 - 2021-10-13 15:58:57.255401 - 101935 captured Mono8 image \n",
      "49 - 2021-10-13 15:58:57.323077 - 192900073 captured Mono8 image \n"
     ]
    }
   ],
   "source": [
    "\n",
    "raw_images, metadata = imager.capture_sequence(50, 0.3,0)"
   ]
  },
  {
   "cell_type": "code",
   "execution_count": 25,
   "metadata": {},
   "outputs": [],
   "source": [
    "r = 8\n",
    "num = 1\n",
    "directory = f\"./rehearsal/r{r}{num}\"\n",
    "os.mkdir(directory)\n",
    "for i, nagla in enumerate(raw_images):\n",
    "    os.mkdir(f\"./{directory}/{i}\")\n",
    "    for img, met in zip(nagla, metadata[i*5:(i*5)+5]):\n",
    "        np.save(f'./{directory}/{i}/{met[1].strftime(\"%Y_%m_%d_%H%M%S\")}_{met[2]}', img)"
   ]
  },
  {
   "cell_type": "code",
   "execution_count": 29,
   "metadata": {},
   "outputs": [
    {
     "data": {
      "text/plain": [
       "<matplotlib.image.AxesImage at 0x2488468fc10>"
      ]
     },
     "execution_count": 29,
     "metadata": {},
     "output_type": "execute_result"
    },
    {
     "data": {
      "image/png": "[encoded data removed]",
      "text/plain": [
       "<Figure size 432x288 with 1 Axes>"
      ]
     },
     "metadata": {
      "needs_background": "light"
     },
     "output_type": "display_data"
    }
   ],
   "source": [
    "plt.imshow(raw_images[15][2])"
   ]
  },
  {
   "cell_type": "code",
   "execution_count": 40,
   "metadata": {
    "collapsed": true
   },
   "outputs": [
    {
     "ename": "KeyboardInterrupt",
     "evalue": "",
     "output_type": "error",
     "traceback": [
      "\u001b[1;31m---------------------------------------------------------------------------\u001b[0m",
      "\u001b[1;31mKeyboardInterrupt\u001b[0m                         Traceback (most recent call last)",
      "\u001b[1;32m<ipython-input-40-d962a9f15853>\u001b[0m in \u001b[0;36m<module>\u001b[1;34m\u001b[0m\n\u001b[1;32m----> 1\u001b[1;33m \u001b[0mplt\u001b[0m\u001b[1;33m.\u001b[0m\u001b[0mhist\u001b[0m\u001b[1;33m(\u001b[0m\u001b[0mraw_images\u001b[0m\u001b[1;33m[\u001b[0m\u001b[1;36m0\u001b[0m\u001b[1;33m]\u001b[0m\u001b[1;33m,\u001b[0m \u001b[0mbins\u001b[0m\u001b[1;33m=\u001b[0m\u001b[1;36m80\u001b[0m\u001b[1;33m,\u001b[0m \u001b[0mtype\u001b[0m\u001b[1;33m=\u001b[0m\u001b[1;34m\"histtype\"\u001b[0m\u001b[1;33m)\u001b[0m\u001b[1;33m\u001b[0m\u001b[1;33m\u001b[0m\u001b[0m\n\u001b[0m",
      "\u001b[1;32m~\\miniconda3\\envs\\imager\\lib\\site-packages\\matplotlib\\pyplot.py\u001b[0m in \u001b[0;36mhist\u001b[1;34m(x, bins, range, density, weights, cumulative, bottom, histtype, align, orientation, rwidth, log, color, label, stacked, data, **kwargs)\u001b[0m\n\u001b[0;32m   2683\u001b[0m         \u001b[0morientation\u001b[0m\u001b[1;33m=\u001b[0m\u001b[1;34m'vertical'\u001b[0m\u001b[1;33m,\u001b[0m \u001b[0mrwidth\u001b[0m\u001b[1;33m=\u001b[0m\u001b[1;32mNone\u001b[0m\u001b[1;33m,\u001b[0m \u001b[0mlog\u001b[0m\u001b[1;33m=\u001b[0m\u001b[1;32mFalse\u001b[0m\u001b[1;33m,\u001b[0m \u001b[0mcolor\u001b[0m\u001b[1;33m=\u001b[0m\u001b[1;32mNone\u001b[0m\u001b[1;33m,\u001b[0m\u001b[1;33m\u001b[0m\u001b[1;33m\u001b[0m\u001b[0m\n\u001b[0;32m   2684\u001b[0m         label=None, stacked=False, *, data=None, **kwargs):\n\u001b[1;32m-> 2685\u001b[1;33m     return gca().hist(\n\u001b[0m\u001b[0;32m   2686\u001b[0m         \u001b[0mx\u001b[0m\u001b[1;33m,\u001b[0m \u001b[0mbins\u001b[0m\u001b[1;33m=\u001b[0m\u001b[0mbins\u001b[0m\u001b[1;33m,\u001b[0m \u001b[0mrange\u001b[0m\u001b[1;33m=\u001b[0m\u001b[0mrange\u001b[0m\u001b[1;33m,\u001b[0m \u001b[0mdensity\u001b[0m\u001b[1;33m=\u001b[0m\u001b[0mdensity\u001b[0m\u001b[1;33m,\u001b[0m \u001b[0mweights\u001b[0m\u001b[1;33m=\u001b[0m\u001b[0mweights\u001b[0m\u001b[1;33m,\u001b[0m\u001b[1;33m\u001b[0m\u001b[1;33m\u001b[0m\u001b[0m\n\u001b[0;32m   2687\u001b[0m         \u001b[0mcumulative\u001b[0m\u001b[1;33m=\u001b[0m\u001b[0mcumulative\u001b[0m\u001b[1;33m,\u001b[0m \u001b[0mbottom\u001b[0m\u001b[1;33m=\u001b[0m\u001b[0mbottom\u001b[0m\u001b[1;33m,\u001b[0m \u001b[0mhisttype\u001b[0m\u001b[1;33m=\u001b[0m\u001b[0mhisttype\u001b[0m\u001b[1;33m,\u001b[0m\u001b[1;33m\u001b[0m\u001b[1;33m\u001b[0m\u001b[0m\n",
      "\u001b[1;32m~\\miniconda3\\envs\\imager\\lib\\site-packages\\matplotlib\\__init__.py\u001b[0m in \u001b[0;36minner\u001b[1;34m(ax, data, *args, **kwargs)\u001b[0m\n\u001b[0;32m   1445\u001b[0m     \u001b[1;32mdef\u001b[0m \u001b[0minner\u001b[0m\u001b[1;33m(\u001b[0m\u001b[0max\u001b[0m\u001b[1;33m,\u001b[0m \u001b[1;33m*\u001b[0m\u001b[0margs\u001b[0m\u001b[1;33m,\u001b[0m \u001b[0mdata\u001b[0m\u001b[1;33m=\u001b[0m\u001b[1;32mNone\u001b[0m\u001b[1;33m,\u001b[0m \u001b[1;33m**\u001b[0m\u001b[0mkwargs\u001b[0m\u001b[1;33m)\u001b[0m\u001b[1;33m:\u001b[0m\u001b[1;33m\u001b[0m\u001b[1;33m\u001b[0m\u001b[0m\n\u001b[0;32m   1446\u001b[0m         \u001b[1;32mif\u001b[0m \u001b[0mdata\u001b[0m \u001b[1;32mis\u001b[0m \u001b[1;32mNone\u001b[0m\u001b[1;33m:\u001b[0m\u001b[1;33m\u001b[0m\u001b[1;33m\u001b[0m\u001b[0m\n\u001b[1;32m-> 1447\u001b[1;33m             \u001b[1;32mreturn\u001b[0m \u001b[0mfunc\u001b[0m\u001b[1;33m(\u001b[0m\u001b[0max\u001b[0m\u001b[1;33m,\u001b[0m \u001b[1;33m*\u001b[0m\u001b[0mmap\u001b[0m\u001b[1;33m(\u001b[0m\u001b[0msanitize_sequence\u001b[0m\u001b[1;33m,\u001b[0m \u001b[0margs\u001b[0m\u001b[1;33m)\u001b[0m\u001b[1;33m,\u001b[0m \u001b[1;33m**\u001b[0m\u001b[0mkwargs\u001b[0m\u001b[1;33m)\u001b[0m\u001b[1;33m\u001b[0m\u001b[1;33m\u001b[0m\u001b[0m\n\u001b[0m\u001b[0;32m   1448\u001b[0m \u001b[1;33m\u001b[0m\u001b[0m\n\u001b[0;32m   1449\u001b[0m         \u001b[0mbound\u001b[0m \u001b[1;33m=\u001b[0m \u001b[0mnew_sig\u001b[0m\u001b[1;33m.\u001b[0m\u001b[0mbind\u001b[0m\u001b[1;33m(\u001b[0m\u001b[0max\u001b[0m\u001b[1;33m,\u001b[0m \u001b[1;33m*\u001b[0m\u001b[0margs\u001b[0m\u001b[1;33m,\u001b[0m \u001b[1;33m**\u001b[0m\u001b[0mkwargs\u001b[0m\u001b[1;33m)\u001b[0m\u001b[1;33m\u001b[0m\u001b[1;33m\u001b[0m\u001b[0m\n",
      "\u001b[1;32m~\\miniconda3\\envs\\imager\\lib\\site-packages\\matplotlib\\axes\\_axes.py\u001b[0m in \u001b[0;36mhist\u001b[1;34m(self, x, bins, range, density, weights, cumulative, bottom, histtype, align, orientation, rwidth, log, color, label, stacked, **kwargs)\u001b[0m\n\u001b[0;32m   6649\u001b[0m             \u001b[1;31m# this will automatically overwrite bins,\u001b[0m\u001b[1;33m\u001b[0m\u001b[1;33m\u001b[0m\u001b[1;33m\u001b[0m\u001b[0m\n\u001b[0;32m   6650\u001b[0m             \u001b[1;31m# so that each histogram uses the same bins\u001b[0m\u001b[1;33m\u001b[0m\u001b[1;33m\u001b[0m\u001b[1;33m\u001b[0m\u001b[0m\n\u001b[1;32m-> 6651\u001b[1;33m             \u001b[0mm\u001b[0m\u001b[1;33m,\u001b[0m \u001b[0mbins\u001b[0m \u001b[1;33m=\u001b[0m \u001b[0mnp\u001b[0m\u001b[1;33m.\u001b[0m\u001b[0mhistogram\u001b[0m\u001b[1;33m(\u001b[0m\u001b[0mx\u001b[0m\u001b[1;33m[\u001b[0m\u001b[0mi\u001b[0m\u001b[1;33m]\u001b[0m\u001b[1;33m,\u001b[0m \u001b[0mbins\u001b[0m\u001b[1;33m,\u001b[0m \u001b[0mweights\u001b[0m\u001b[1;33m=\u001b[0m\u001b[0mw\u001b[0m\u001b[1;33m[\u001b[0m\u001b[0mi\u001b[0m\u001b[1;33m]\u001b[0m\u001b[1;33m,\u001b[0m \u001b[1;33m**\u001b[0m\u001b[0mhist_kwargs\u001b[0m\u001b[1;33m)\u001b[0m\u001b[1;33m\u001b[0m\u001b[1;33m\u001b[0m\u001b[0m\n\u001b[0m\u001b[0;32m   6652\u001b[0m             \u001b[0mtops\u001b[0m\u001b[1;33m.\u001b[0m\u001b[0mappend\u001b[0m\u001b[1;33m(\u001b[0m\u001b[0mm\u001b[0m\u001b[1;33m)\u001b[0m\u001b[1;33m\u001b[0m\u001b[1;33m\u001b[0m\u001b[0m\n\u001b[0;32m   6653\u001b[0m         \u001b[0mtops\u001b[0m \u001b[1;33m=\u001b[0m \u001b[0mnp\u001b[0m\u001b[1;33m.\u001b[0m\u001b[0marray\u001b[0m\u001b[1;33m(\u001b[0m\u001b[0mtops\u001b[0m\u001b[1;33m,\u001b[0m \u001b[0mfloat\u001b[0m\u001b[1;33m)\u001b[0m  \u001b[1;31m# causes problems later if it's an int\u001b[0m\u001b[1;33m\u001b[0m\u001b[1;33m\u001b[0m\u001b[0m\n",
      "\u001b[1;32m<__array_function__ internals>\u001b[0m in \u001b[0;36mhistogram\u001b[1;34m(*args, **kwargs)\u001b[0m\n",
      "\u001b[1;32m~\\miniconda3\\envs\\imager\\lib\\site-packages\\numpy\\lib\\histograms.py\u001b[0m in \u001b[0;36mhistogram\u001b[1;34m(a, bins, range, normed, weights, density)\u001b[0m\n\u001b[0;32m    788\u001b[0m \u001b[1;33m\u001b[0m\u001b[0m\n\u001b[0;32m    789\u001b[0m     \"\"\"\n\u001b[1;32m--> 790\u001b[1;33m     \u001b[0ma\u001b[0m\u001b[1;33m,\u001b[0m \u001b[0mweights\u001b[0m \u001b[1;33m=\u001b[0m \u001b[0m_ravel_and_check_weights\u001b[0m\u001b[1;33m(\u001b[0m\u001b[0ma\u001b[0m\u001b[1;33m,\u001b[0m \u001b[0mweights\u001b[0m\u001b[1;33m)\u001b[0m\u001b[1;33m\u001b[0m\u001b[1;33m\u001b[0m\u001b[0m\n\u001b[0m\u001b[0;32m    791\u001b[0m \u001b[1;33m\u001b[0m\u001b[0m\n\u001b[0;32m    792\u001b[0m     \u001b[0mbin_edges\u001b[0m\u001b[1;33m,\u001b[0m \u001b[0muniform_bins\u001b[0m \u001b[1;33m=\u001b[0m \u001b[0m_get_bin_edges\u001b[0m\u001b[1;33m(\u001b[0m\u001b[0ma\u001b[0m\u001b[1;33m,\u001b[0m \u001b[0mbins\u001b[0m\u001b[1;33m,\u001b[0m \u001b[0mrange\u001b[0m\u001b[1;33m,\u001b[0m \u001b[0mweights\u001b[0m\u001b[1;33m)\u001b[0m\u001b[1;33m\u001b[0m\u001b[1;33m\u001b[0m\u001b[0m\n",
      "\u001b[1;32m~\\miniconda3\\envs\\imager\\lib\\site-packages\\numpy\\lib\\histograms.py\u001b[0m in \u001b[0;36m_ravel_and_check_weights\u001b[1;34m(a, weights)\u001b[0m\n\u001b[0;32m    298\u001b[0m                 'weights should have the same shape as a.')\n\u001b[0;32m    299\u001b[0m         \u001b[0mweights\u001b[0m \u001b[1;33m=\u001b[0m \u001b[0mweights\u001b[0m\u001b[1;33m.\u001b[0m\u001b[0mravel\u001b[0m\u001b[1;33m(\u001b[0m\u001b[1;33m)\u001b[0m\u001b[1;33m\u001b[0m\u001b[1;33m\u001b[0m\u001b[0m\n\u001b[1;32m--> 300\u001b[1;33m     \u001b[0ma\u001b[0m \u001b[1;33m=\u001b[0m \u001b[0ma\u001b[0m\u001b[1;33m.\u001b[0m\u001b[0mravel\u001b[0m\u001b[1;33m(\u001b[0m\u001b[1;33m)\u001b[0m\u001b[1;33m\u001b[0m\u001b[1;33m\u001b[0m\u001b[0m\n\u001b[0m\u001b[0;32m    301\u001b[0m     \u001b[1;32mreturn\u001b[0m \u001b[0ma\u001b[0m\u001b[1;33m,\u001b[0m \u001b[0mweights\u001b[0m\u001b[1;33m\u001b[0m\u001b[1;33m\u001b[0m\u001b[0m\n\u001b[0;32m    302\u001b[0m \u001b[1;33m\u001b[0m\u001b[0m\n",
      "\u001b[1;31mKeyboardInterrupt\u001b[0m: "
     ]
    },
    {
     "data": {
      "image/png": "[encoded data removed]",
      "text/plain": [
       "<Figure size 432x288 with 1 Axes>"
      ]
     },
     "metadata": {
      "needs_background": "light"
     },
     "output_type": "display_data"
    }
   ],
   "source": [
    "plt.hist(raw_images[0], bins=80, type=\"histtype\")"
   ]
  },
  {
   "cell_type": "code",
   "execution_count": null,
   "metadata": {
    "pycharm": {
     "name": "#%% Take long sequence\n"
    },
    "scrolled": true
   },
   "outputs": [
    {
     "name": "stdout",
     "output_type": "stream",
     "text": [
      "0 - 2021-10-13 08:40:17.787790 - 101936 captured Mono12Packed image \n",
      "0 - 2021-10-13 08:40:17.880247 - 101934 captured Mono12Packed image \n",
      "1 - 2021-10-13 08:40:18.458175 - 101936 captured Mono12Packed image \n",
      "1 - 2021-10-13 08:40:18.541759 - 101934 captured Mono12Packed image \n",
      "2 - 2021-10-13 08:40:19.137293 - 101936 captured Mono12Packed image \n",
      "2 - 2021-10-13 08:40:19.226176 - 101934 captured Mono12Packed image \n",
      "3 - 2021-10-13 08:40:19.813243 - 101936 captured Mono12Packed image \n",
      "3 - 2021-10-13 08:40:19.927136 - 101934 captured Mono12Packed image \n",
      "4 - 2021-10-13 08:40:20.537167 - 101936 captured Mono12Packed image \n",
      "4 - 2021-10-13 08:40:20.625676 - 101934 captured Mono12Packed image \n",
      "5 - 2021-10-13 08:40:21.218900 - 101936 captured Mono12Packed image \n",
      "5 - 2021-10-13 08:40:21.297367 - 101934 captured Mono12Packed image \n",
      "6 - 2021-10-13 08:40:21.877724 - 101936 captured Mono12Packed image \n",
      "6 - 2021-10-13 08:40:21.949670 - 101934 captured Mono12Packed image \n",
      "7 - 2021-10-13 08:40:22.581781 - 101936 captured Mono12Packed image \n",
      "7 - 2021-10-13 08:40:22.640418 - 101934 captured Mono12Packed image \n",
      "8 - 2021-10-13 08:40:23.267388 - 101936 captured Mono12Packed image \n",
      "8 - 2021-10-13 08:40:23.357318 - 101934 captured Mono12Packed image \n",
      "9 - 2021-10-13 08:40:23.956133 - 101936 captured Mono12Packed image \n",
      "9 - 2021-10-13 08:40:24.071305 - 101934 captured Mono12Packed image \n",
      "10 - 2021-10-13 08:40:24.674539 - 101936 captured Mono12Packed image \n",
      "10 - 2021-10-13 08:40:24.733006 - 101934 captured Mono12Packed image \n",
      "11 - 2021-10-13 08:40:25.343549 - 101936 captured Mono12Packed image \n",
      "11 - 2021-10-13 08:40:25.403614 - 101934 captured Mono12Packed image \n",
      "12 - 2021-10-13 08:40:25.987461 - 101936 captured Mono12Packed image \n",
      "12 - 2021-10-13 08:40:26.048283 - 101934 captured Mono12Packed image \n",
      "13 - 2021-10-13 08:40:26.686955 - 101936 captured Mono12Packed image \n",
      "13 - 2021-10-13 08:40:26.759356 - 101934 captured Mono12Packed image \n",
      "14 - 2021-10-13 08:40:27.390237 - 101936 captured Mono12Packed image \n",
      "14 - 2021-10-13 08:40:27.466680 - 101934 captured Mono12Packed image \n",
      "15 - 2021-10-13 08:40:28.057739 - 101936 captured Mono12Packed image \n",
      "15 - 2021-10-13 08:40:28.117719 - 101934 captured Mono12Packed image \n",
      "16 - 2021-10-13 08:40:28.727945 - 101936 captured Mono12Packed image \n",
      "16 - 2021-10-13 08:40:28.803155 - 101934 captured Mono12Packed image \n",
      "17 - 2021-10-13 08:40:29.412317 - 101936 captured Mono12Packed image \n",
      "17 - 2021-10-13 08:40:29.488322 - 101934 captured Mono12Packed image \n",
      "18 - 2021-10-13 08:40:30.100588 - 101936 captured Mono12Packed image \n",
      "18 - 2021-10-13 08:40:30.192545 - 101934 captured Mono12Packed image \n",
      "19 - 2021-10-13 08:40:30.772899 - 101936 captured Mono12Packed image \n",
      "19 - 2021-10-13 08:40:30.841516 - 101934 captured Mono12Packed image \n",
      "20 - 2021-10-13 08:40:31.502774 - 101936 captured Mono12Packed image \n",
      "20 - 2021-10-13 08:40:31.590701 - 101934 captured Mono12Packed image \n",
      "21 - 2021-10-13 08:40:32.188886 - 101936 captured Mono12Packed image \n",
      "21 - 2021-10-13 08:40:32.247660 - 101934 captured Mono12Packed image \n",
      "22 - 2021-10-13 08:40:32.860978 - 101936 captured Mono12Packed image \n",
      "22 - 2021-10-13 08:40:32.951013 - 101934 captured Mono12Packed image \n"
     ]
    }
   ],
   "source": [
    "im_n = 50\n",
    "sleep1 = 0.5\n",
    "sleep2 = sleep1\n",
    "raw_images = imager.capture_sequence(im_n, sleep1, 0.5)"
   ]
  },
  {
   "cell_type": "code",
   "execution_count": null,
   "metadata": {
    "pycharm": {
     "name": "#%%\n"
    }
   },
   "outputs": [],
   "source": [
    "init_image = imager.capture_sequence(1, 0,0)\n",
    "init_image = np.squeeze(np.array(init_image[0]))\n",
    "for im in init_image:\n",
    "    plt.imshow(im)\n",
    "    plt.show()\n",
    "init_image.shape"
   ]
  }
 ],
 "metadata": {
  "kernelspec": {
   "display_name": "Python 3",
   "language": "python",
   "name": "python3"
  },
  "language_info": {
   "codemirror_mode": {
    "name": "ipython",
    "version": 3
   },
   "file_extension": ".py",
   "mimetype": "text/x-python",
   "name": "python",
   "nbconvert_exporter": "python",
   "pygments_lexer": "ipython3",
   "version": "3.8.10"
  }
 },
 "nbformat": 4,
 "nbformat_minor": 1
}
